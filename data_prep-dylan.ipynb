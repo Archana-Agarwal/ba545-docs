{
 "cells": [
  {
   "cell_type": "markdown",
   "metadata": {},
   "source": [
    "# Step 0: Imports and loading data"
   ]
  },
  {
   "cell_type": "code",
   "execution_count": 57,
   "metadata": {},
   "outputs": [],
   "source": [
    "import pandas as pd\n",
    "import numpy as np\n",
    "import matplotlib.pyplot as plt\n",
    "from scipy.stats import shapiro\n",
    "import seaborn as sns\n",
    "from scipy.stats import zscore\n",
    "from sklearn import preprocessing\n",
    "from sklearn.feature_selection import RFE\n",
    "from sklearn.linear_model import LogisticRegression\n",
    "from sklearn.model_selection import train_test_split\n",
    "import xgboost\n",
    "from sklearn import metrics\n",
    "from sklearn.metrics import confusion_matrix\n",
    "from sklearn.metrics import classification_report\n",
    "from sklearn.metrics import roc_auc_score\n",
    "from sklearn.metrics import accuracy_score\n",
    "from sklearn.metrics import precision_recall_fscore_support\n",
    "\n",
    "pd.set_option('display.max_columns', 500)"
   ]
  },
  {
   "cell_type": "code",
   "execution_count": 2,
   "metadata": {},
   "outputs": [],
   "source": [
    "data = pd.read_excel('Competition1_raw_data.xlsx')"
   ]
  },
  {
   "cell_type": "code",
   "execution_count": 3,
   "metadata": {},
   "outputs": [
    {
     "data": {
      "text/html": [
       "<div>\n",
       "<style scoped>\n",
       "    .dataframe tbody tr th:only-of-type {\n",
       "        vertical-align: middle;\n",
       "    }\n",
       "\n",
       "    .dataframe tbody tr th {\n",
       "        vertical-align: top;\n",
       "    }\n",
       "\n",
       "    .dataframe thead th {\n",
       "        text-align: right;\n",
       "    }\n",
       "</style>\n",
       "<table border=\"1\" class=\"dataframe\">\n",
       "  <thead>\n",
       "    <tr style=\"text-align: right;\">\n",
       "      <th></th>\n",
       "      <th>I1</th>\n",
       "      <th>I2</th>\n",
       "      <th>I3</th>\n",
       "      <th>P(IPO)</th>\n",
       "      <th>P(H)</th>\n",
       "      <th>P(L)</th>\n",
       "      <th>P(1Day)</th>\n",
       "      <th>C1</th>\n",
       "      <th>C2</th>\n",
       "      <th>C3</th>\n",
       "      <th>C4</th>\n",
       "      <th>C5</th>\n",
       "      <th>C6</th>\n",
       "      <th>C7</th>\n",
       "      <th>T1</th>\n",
       "      <th>T2</th>\n",
       "      <th>T3</th>\n",
       "      <th>T4</th>\n",
       "      <th>T5</th>\n",
       "      <th>S1</th>\n",
       "      <th>S2</th>\n",
       "      <th>S3</th>\n",
       "    </tr>\n",
       "  </thead>\n",
       "  <tbody>\n",
       "    <tr>\n",
       "      <th>0</th>\n",
       "      <td>AATI</td>\n",
       "      <td>ADVANCED ANALOGIC TECHNOLOGIES INC</td>\n",
       "      <td>3674</td>\n",
       "      <td>10</td>\n",
       "      <td>9.5</td>\n",
       "      <td>8.5</td>\n",
       "      <td>11.87</td>\n",
       "      <td>122</td>\n",
       "      <td>1</td>\n",
       "      <td>3.43</td>\n",
       "      <td>0.0290743</td>\n",
       "      <td>40962052</td>\n",
       "      <td>10600000</td>\n",
       "      <td>51.345</td>\n",
       "      <td>470</td>\n",
       "      <td>12719</td>\n",
       "      <td>11560</td>\n",
       "      <td>301</td>\n",
       "      <td>690</td>\n",
       "      <td>62</td>\n",
       "      <td>117</td>\n",
       "      <td>139</td>\n",
       "    </tr>\n",
       "    <tr>\n",
       "      <th>1</th>\n",
       "      <td>ABPI</td>\n",
       "      <td>ACCENTIA BIOPHARMACEUTICALS INC</td>\n",
       "      <td>2834</td>\n",
       "      <td>8</td>\n",
       "      <td>10</td>\n",
       "      <td>8</td>\n",
       "      <td>7.25</td>\n",
       "      <td>259</td>\n",
       "      <td>0</td>\n",
       "      <td>-1.62</td>\n",
       "      <td>-0.0133516</td>\n",
       "      <td>28869196</td>\n",
       "      <td>2400000</td>\n",
       "      <td>25.936</td>\n",
       "      <td>791</td>\n",
       "      <td>21792</td>\n",
       "      <td>19585</td>\n",
       "      <td>510</td>\n",
       "      <td>1120</td>\n",
       "      <td>71</td>\n",
       "      <td>242</td>\n",
       "      <td>237</td>\n",
       "    </tr>\n",
       "    <tr>\n",
       "      <th>2</th>\n",
       "      <td>ACAD</td>\n",
       "      <td>ACADIA PHARMACEUTICALS INC</td>\n",
       "      <td>2834</td>\n",
       "      <td>7</td>\n",
       "      <td>14</td>\n",
       "      <td>12</td>\n",
       "      <td>6.7</td>\n",
       "      <td>90</td>\n",
       "      <td>1</td>\n",
       "      <td>-1.24</td>\n",
       "      <td>0.020715</td>\n",
       "      <td>16845668</td>\n",
       "      <td>5000000</td>\n",
       "      <td>7.378</td>\n",
       "      <td>201</td>\n",
       "      <td>5262</td>\n",
       "      <td>4785</td>\n",
       "      <td>128</td>\n",
       "      <td>325</td>\n",
       "      <td>61</td>\n",
       "      <td>33</td>\n",
       "      <td>60</td>\n",
       "    </tr>\n",
       "    <tr>\n",
       "      <th>3</th>\n",
       "      <td>ACHN</td>\n",
       "      <td>ACHILLION PHARMACEUTICALS INC</td>\n",
       "      <td>2834</td>\n",
       "      <td>11.5</td>\n",
       "      <td>16</td>\n",
       "      <td>14</td>\n",
       "      <td>12.39</td>\n",
       "      <td>209</td>\n",
       "      <td>1</td>\n",
       "      <td>-0.91</td>\n",
       "      <td>0.0200231</td>\n",
       "      <td>14848637</td>\n",
       "      <td>4500000</td>\n",
       "      <td>8.526</td>\n",
       "      <td>328</td>\n",
       "      <td>8259</td>\n",
       "      <td>7574</td>\n",
       "      <td>177</td>\n",
       "      <td>509</td>\n",
       "      <td>80</td>\n",
       "      <td>59</td>\n",
       "      <td>110</td>\n",
       "    </tr>\n",
       "    <tr>\n",
       "      <th>4</th>\n",
       "      <td>ACLI</td>\n",
       "      <td>AMERICAN COMMERCIAL LINES INC.</td>\n",
       "      <td>4492</td>\n",
       "      <td>21</td>\n",
       "      <td>21</td>\n",
       "      <td>19</td>\n",
       "      <td>56.6</td>\n",
       "      <td>80</td>\n",
       "      <td>1</td>\n",
       "      <td>0.07</td>\n",
       "      <td>-0.0348947</td>\n",
       "      <td>30741716</td>\n",
       "      <td>8250000</td>\n",
       "      <td>632.298</td>\n",
       "      <td>572</td>\n",
       "      <td>14830</td>\n",
       "      <td>13176</td>\n",
       "      <td>336</td>\n",
       "      <td>720</td>\n",
       "      <td>67</td>\n",
       "      <td>149</td>\n",
       "      <td>167</td>\n",
       "    </tr>\n",
       "    <tr>\n",
       "      <th>5</th>\n",
       "      <td>ACOM</td>\n",
       "      <td>Ancestry.com Inc.</td>\n",
       "      <td>7379</td>\n",
       "      <td>13.5</td>\n",
       "      <td>14.5</td>\n",
       "      <td>12.5</td>\n",
       "      <td>14.2</td>\n",
       "      <td>94</td>\n",
       "      <td>1</td>\n",
       "      <td>0.06</td>\n",
       "      <td>-0.0575561</td>\n",
       "      <td>42402916</td>\n",
       "      <td>7407407</td>\n",
       "      <td>197.591</td>\n",
       "      <td>510</td>\n",
       "      <td>17999</td>\n",
       "      <td>13934</td>\n",
       "      <td>328</td>\n",
       "      <td>815</td>\n",
       "      <td>62</td>\n",
       "      <td>96</td>\n",
       "      <td>181</td>\n",
       "    </tr>\n",
       "    <tr>\n",
       "      <th>6</th>\n",
       "      <td>ACOR</td>\n",
       "      <td>ACORDA THERAPEUTICS INC</td>\n",
       "      <td>2836</td>\n",
       "      <td>6</td>\n",
       "      <td>13</td>\n",
       "      <td>11</td>\n",
       "      <td>6.72</td>\n",
       "      <td>128</td>\n",
       "      <td>1</td>\n",
       "      <td>-1.87</td>\n",
       "      <td>0.00410552</td>\n",
       "      <td>19047022</td>\n",
       "      <td>5500000</td>\n",
       "      <td>5.146</td>\n",
       "      <td>495</td>\n",
       "      <td>15758</td>\n",
       "      <td>13953</td>\n",
       "      <td>379</td>\n",
       "      <td>698</td>\n",
       "      <td>82</td>\n",
       "      <td>106</td>\n",
       "      <td>135</td>\n",
       "    </tr>\n",
       "    <tr>\n",
       "      <th>7</th>\n",
       "      <td>ACRX</td>\n",
       "      <td>ACELRX PHARMACEUTICALS INC</td>\n",
       "      <td>2834</td>\n",
       "      <td>5</td>\n",
       "      <td>14</td>\n",
       "      <td>12</td>\n",
       "      <td>4.55</td>\n",
       "      <td>91</td>\n",
       "      <td>0</td>\n",
       "      <td>-0.74</td>\n",
       "      <td>0.04062</td>\n",
       "      <td>19371750</td>\n",
       "      <td>8000000</td>\n",
       "      <td>-</td>\n",
       "      <td>334</td>\n",
       "      <td>11226</td>\n",
       "      <td>10056</td>\n",
       "      <td>276</td>\n",
       "      <td>-1</td>\n",
       "      <td>55</td>\n",
       "      <td>120</td>\n",
       "      <td>122</td>\n",
       "    </tr>\n",
       "    <tr>\n",
       "      <th>8</th>\n",
       "      <td>ACTV</td>\n",
       "      <td>ACTIVE NETWORK INC</td>\n",
       "      <td>7372</td>\n",
       "      <td>15</td>\n",
       "      <td>18</td>\n",
       "      <td>16</td>\n",
       "      <td>15.9</td>\n",
       "      <td>100</td>\n",
       "      <td>1</td>\n",
       "      <td>-0.51</td>\n",
       "      <td>-0.0293159</td>\n",
       "      <td>52982501</td>\n",
       "      <td>11000000</td>\n",
       "      <td>279.6</td>\n",
       "      <td>620</td>\n",
       "      <td>14813</td>\n",
       "      <td>13463</td>\n",
       "      <td>335</td>\n",
       "      <td>917</td>\n",
       "      <td>58</td>\n",
       "      <td>124</td>\n",
       "      <td>234</td>\n",
       "    </tr>\n",
       "    <tr>\n",
       "      <th>9</th>\n",
       "      <td>ACW</td>\n",
       "      <td>ACCURIDE CORP</td>\n",
       "      <td>3714</td>\n",
       "      <td>9</td>\n",
       "      <td>19</td>\n",
       "      <td>17</td>\n",
       "      <td>0</td>\n",
       "      <td>106</td>\n",
       "      <td>1</td>\n",
       "      <td>1.49</td>\n",
       "      <td>-0.0249251</td>\n",
       "      <td>33622690</td>\n",
       "      <td>11000000</td>\n",
       "      <td>494.008</td>\n",
       "      <td>385</td>\n",
       "      <td>9134</td>\n",
       "      <td>8107</td>\n",
       "      <td>198</td>\n",
       "      <td>459</td>\n",
       "      <td>81</td>\n",
       "      <td>90</td>\n",
       "      <td>147</td>\n",
       "    </tr>\n",
       "    <tr>\n",
       "      <th>10</th>\n",
       "      <td>ADKU</td>\n",
       "      <td>ADCARE HEALTH SYSTEMS, INC</td>\n",
       "      <td>-</td>\n",
       "      <td>-</td>\n",
       "      <td>-</td>\n",
       "      <td>-</td>\n",
       "      <td>-</td>\n",
       "      <td>-</td>\n",
       "      <td>-</td>\n",
       "      <td>-</td>\n",
       "      <td>-</td>\n",
       "      <td>-</td>\n",
       "      <td>-</td>\n",
       "      <td>-</td>\n",
       "      <td>332</td>\n",
       "      <td>7534</td>\n",
       "      <td>6747</td>\n",
       "      <td>169</td>\n",
       "      <td>263</td>\n",
       "      <td>51</td>\n",
       "      <td>65</td>\n",
       "      <td>74</td>\n",
       "    </tr>\n",
       "    <tr>\n",
       "      <th>11</th>\n",
       "      <td>ADLS</td>\n",
       "      <td>Advanced Life Sciences Holdings, Inc.</td>\n",
       "      <td>2854</td>\n",
       "      <td>5</td>\n",
       "      <td>9</td>\n",
       "      <td>8</td>\n",
       "      <td>6</td>\n",
       "      <td>99</td>\n",
       "      <td>1</td>\n",
       "      <td>-398.1</td>\n",
       "      <td>0.0154871</td>\n",
       "      <td>17826801</td>\n",
       "      <td>7000000</td>\n",
       "      <td>0.32</td>\n",
       "      <td>253</td>\n",
       "      <td>5788</td>\n",
       "      <td>5200</td>\n",
       "      <td>138</td>\n",
       "      <td>385</td>\n",
       "      <td>29</td>\n",
       "      <td>41</td>\n",
       "      <td>70</td>\n",
       "    </tr>\n",
       "    <tr>\n",
       "      <th>12</th>\n",
       "      <td>ADZA</td>\n",
       "      <td>ADEZA BIOMEDICAL CORP</td>\n",
       "      <td>2835</td>\n",
       "      <td>16</td>\n",
       "      <td>16</td>\n",
       "      <td>14</td>\n",
       "      <td>19.7</td>\n",
       "      <td>126</td>\n",
       "      <td>1</td>\n",
       "      <td>0.27</td>\n",
       "      <td>0.0197311</td>\n",
       "      <td>15889841</td>\n",
       "      <td>3750000</td>\n",
       "      <td>26.499</td>\n",
       "      <td>206</td>\n",
       "      <td>5732</td>\n",
       "      <td>4963</td>\n",
       "      <td>141</td>\n",
       "      <td>259</td>\n",
       "      <td>21</td>\n",
       "      <td>43</td>\n",
       "      <td>80</td>\n",
       "    </tr>\n",
       "    <tr>\n",
       "      <th>13</th>\n",
       "      <td>AFFY</td>\n",
       "      <td>AFFYMAX INC</td>\n",
       "      <td>2834</td>\n",
       "      <td>25</td>\n",
       "      <td>24</td>\n",
       "      <td>22</td>\n",
       "      <td>33.88</td>\n",
       "      <td>140</td>\n",
       "      <td>1</td>\n",
       "      <td>-2.19</td>\n",
       "      <td>-0.0063156</td>\n",
       "      <td>14310258</td>\n",
       "      <td>3700000</td>\n",
       "      <td>0.074</td>\n",
       "      <td>416</td>\n",
       "      <td>10562</td>\n",
       "      <td>9835</td>\n",
       "      <td>231</td>\n",
       "      <td>726</td>\n",
       "      <td>81</td>\n",
       "      <td>118</td>\n",
       "      <td>138</td>\n",
       "    </tr>\n",
       "    <tr>\n",
       "      <th>14</th>\n",
       "      <td>AGAM</td>\n",
       "      <td>AGA Medical Holdings, Inc.</td>\n",
       "      <td>3845</td>\n",
       "      <td>14.5</td>\n",
       "      <td>16</td>\n",
       "      <td>15</td>\n",
       "      <td>14.6</td>\n",
       "      <td>488</td>\n",
       "      <td>1</td>\n",
       "      <td>0.18</td>\n",
       "      <td>0.0232747</td>\n",
       "      <td>50025520</td>\n",
       "      <td>13750000</td>\n",
       "      <td>166.896</td>\n",
       "      <td>624</td>\n",
       "      <td>18633</td>\n",
       "      <td>16471</td>\n",
       "      <td>380</td>\n",
       "      <td>909</td>\n",
       "      <td>98</td>\n",
       "      <td>256</td>\n",
       "      <td>172</td>\n",
       "    </tr>\n",
       "    <tr>\n",
       "      <th>15</th>\n",
       "      <td>AH</td>\n",
       "      <td>R1 RCM INC.</td>\n",
       "      <td>7389</td>\n",
       "      <td>12</td>\n",
       "      <td>16</td>\n",
       "      <td>14</td>\n",
       "      <td>13.55</td>\n",
       "      <td>233</td>\n",
       "      <td>1</td>\n",
       "      <td>0.17</td>\n",
       "      <td>-0.0854546</td>\n",
       "      <td>90015707</td>\n",
       "      <td>10000000</td>\n",
       "      <td>510.192</td>\n",
       "      <td>586</td>\n",
       "      <td>18142</td>\n",
       "      <td>15782</td>\n",
       "      <td>413</td>\n",
       "      <td>649</td>\n",
       "      <td>98</td>\n",
       "      <td>92</td>\n",
       "      <td>155</td>\n",
       "    </tr>\n",
       "    <tr>\n",
       "      <th>16</th>\n",
       "      <td>AHII</td>\n",
       "      <td>ANIMAL HEALTH HOLDINGS, INC.</td>\n",
       "      <td>5047</td>\n",
       "      <td>11</td>\n",
       "      <td>12</td>\n",
       "      <td>10</td>\n",
       "      <td>12.45</td>\n",
       "      <td>125</td>\n",
       "      <td>1</td>\n",
       "      <td>0.31</td>\n",
       "      <td>0.000254856</td>\n",
       "      <td>24333033</td>\n",
       "      <td>11800000</td>\n",
       "      <td>571.192</td>\n",
       "      <td>269</td>\n",
       "      <td>6456</td>\n",
       "      <td>5687</td>\n",
       "      <td>140</td>\n",
       "      <td>336</td>\n",
       "      <td>36</td>\n",
       "      <td>33</td>\n",
       "      <td>83</td>\n",
       "    </tr>\n",
       "    <tr>\n",
       "      <th>17</th>\n",
       "      <td>AIMC</td>\n",
       "      <td>Altra Industrial Motion Corp.</td>\n",
       "      <td>3568</td>\n",
       "      <td>13.5</td>\n",
       "      <td>16</td>\n",
       "      <td>14</td>\n",
       "      <td>14.29</td>\n",
       "      <td>77</td>\n",
       "      <td>1</td>\n",
       "      <td>0.14</td>\n",
       "      <td>-0.0063156</td>\n",
       "      <td>23087591</td>\n",
       "      <td>10000000</td>\n",
       "      <td>363.465</td>\n",
       "      <td>391</td>\n",
       "      <td>11322</td>\n",
       "      <td>9589</td>\n",
       "      <td>247</td>\n",
       "      <td>603</td>\n",
       "      <td>72</td>\n",
       "      <td>134</td>\n",
       "      <td>133</td>\n",
       "    </tr>\n",
       "    <tr>\n",
       "      <th>18</th>\n",
       "      <td>AIRV</td>\n",
       "      <td>AIRVANA INC</td>\n",
       "      <td>3661</td>\n",
       "      <td>7</td>\n",
       "      <td>10</td>\n",
       "      <td>8</td>\n",
       "      <td>7.17</td>\n",
       "      <td>92</td>\n",
       "      <td>1</td>\n",
       "      <td>1.18</td>\n",
       "      <td>0.0368308</td>\n",
       "      <td>63369555</td>\n",
       "      <td>8300000</td>\n",
       "      <td>170.27</td>\n",
       "      <td>528</td>\n",
       "      <td>13516</td>\n",
       "      <td>12431</td>\n",
       "      <td>323</td>\n",
       "      <td>523</td>\n",
       "      <td>54</td>\n",
       "      <td>75</td>\n",
       "      <td>117</td>\n",
       "    </tr>\n",
       "    <tr>\n",
       "      <th>19</th>\n",
       "      <td>ALGT</td>\n",
       "      <td>Allegiant Travel CO</td>\n",
       "      <td>4512</td>\n",
       "      <td>18</td>\n",
       "      <td>17</td>\n",
       "      <td>15</td>\n",
       "      <td>25.1</td>\n",
       "      <td>207</td>\n",
       "      <td>1</td>\n",
       "      <td>0.63</td>\n",
       "      <td>-0.0126924</td>\n",
       "      <td>19045933</td>\n",
       "      <td>5000000</td>\n",
       "      <td>132.5</td>\n",
       "      <td>512</td>\n",
       "      <td>11684</td>\n",
       "      <td>10189</td>\n",
       "      <td>267</td>\n",
       "      <td>429</td>\n",
       "      <td>52</td>\n",
       "      <td>78</td>\n",
       "      <td>91</td>\n",
       "    </tr>\n",
       "    <tr>\n",
       "      <th>20</th>\n",
       "      <td>ALIM</td>\n",
       "      <td>ALIMERA SCIENCES INC</td>\n",
       "      <td>2834</td>\n",
       "      <td>11</td>\n",
       "      <td>17</td>\n",
       "      <td>15</td>\n",
       "      <td>11</td>\n",
       "      <td>174</td>\n",
       "      <td>1</td>\n",
       "      <td>-1.43</td>\n",
       "      <td>0.0452626</td>\n",
       "      <td>31051055</td>\n",
       "      <td>6550000</td>\n",
       "      <td>-</td>\n",
       "      <td>473</td>\n",
       "      <td>13801</td>\n",
       "      <td>12500</td>\n",
       "      <td>296</td>\n",
       "      <td>768</td>\n",
       "      <td>66</td>\n",
       "      <td>136</td>\n",
       "      <td>182</td>\n",
       "    </tr>\n",
       "    <tr>\n",
       "      <th>21</th>\n",
       "      <td>ALJ</td>\n",
       "      <td>Alon USA Energy, Inc.</td>\n",
       "      <td>2911</td>\n",
       "      <td>16</td>\n",
       "      <td>16</td>\n",
       "      <td>14</td>\n",
       "      <td>17.25</td>\n",
       "      <td>78</td>\n",
       "      <td>1</td>\n",
       "      <td>0.67</td>\n",
       "      <td>0.05404</td>\n",
       "      <td>45201120</td>\n",
       "      <td>10200000</td>\n",
       "      <td>1707.56</td>\n",
       "      <td>591</td>\n",
       "      <td>14315</td>\n",
       "      <td>12418</td>\n",
       "      <td>353</td>\n",
       "      <td>675</td>\n",
       "      <td>57</td>\n",
       "      <td>73</td>\n",
       "      <td>88</td>\n",
       "    </tr>\n",
       "    <tr>\n",
       "      <th>22</th>\n",
       "      <td>ALLI</td>\n",
       "      <td>ALLION HEALTHCARE INC</td>\n",
       "      <td>8099</td>\n",
       "      <td>13</td>\n",
       "      <td>14</td>\n",
       "      <td>12</td>\n",
       "      <td>16.5</td>\n",
       "      <td>68</td>\n",
       "      <td>1</td>\n",
       "      <td>-0.86</td>\n",
       "      <td>0.00254564</td>\n",
       "      <td>11894956</td>\n",
       "      <td>4000000</td>\n",
       "      <td>64.606</td>\n",
       "      <td>279</td>\n",
       "      <td>6569</td>\n",
       "      <td>5889</td>\n",
       "      <td>149</td>\n",
       "      <td>308</td>\n",
       "      <td>29</td>\n",
       "      <td>93</td>\n",
       "      <td>97</td>\n",
       "    </tr>\n",
       "    <tr>\n",
       "      <th>23</th>\n",
       "      <td>ALNY</td>\n",
       "      <td>ALNYLAM PHARMACEUTICALS, INC.</td>\n",
       "      <td>2834</td>\n",
       "      <td>6</td>\n",
       "      <td>8</td>\n",
       "      <td>6</td>\n",
       "      <td>6.01</td>\n",
       "      <td>91</td>\n",
       "      <td>1</td>\n",
       "      <td>-29.64</td>\n",
       "      <td>0.0358277</td>\n",
       "      <td>19283332</td>\n",
       "      <td>5000000</td>\n",
       "      <td>0.176</td>\n",
       "      <td>248</td>\n",
       "      <td>6533</td>\n",
       "      <td>5977</td>\n",
       "      <td>150</td>\n",
       "      <td>384</td>\n",
       "      <td>58</td>\n",
       "      <td>39</td>\n",
       "      <td>100</td>\n",
       "    </tr>\n",
       "    <tr>\n",
       "      <th>24</th>\n",
       "      <td>ALTU</td>\n",
       "      <td>Altus Pharmaceuticals Inc.</td>\n",
       "      <td>2836</td>\n",
       "      <td>15</td>\n",
       "      <td>16</td>\n",
       "      <td>14</td>\n",
       "      <td>16.82</td>\n",
       "      <td>101</td>\n",
       "      <td>1</td>\n",
       "      <td>-1.39</td>\n",
       "      <td>-0.00174602</td>\n",
       "      <td>21001943</td>\n",
       "      <td>7000000</td>\n",
       "      <td>3.88</td>\n",
       "      <td>263</td>\n",
       "      <td>8601</td>\n",
       "      <td>7663</td>\n",
       "      <td>184</td>\n",
       "      <td>473</td>\n",
       "      <td>63</td>\n",
       "      <td>51</td>\n",
       "      <td>93</td>\n",
       "    </tr>\n",
       "  </tbody>\n",
       "</table>\n",
       "</div>"
      ],
      "text/plain": [
       "      I1                                     I2    I3 P(IPO)  P(H)  P(L)  \\\n",
       "0   AATI     ADVANCED ANALOGIC TECHNOLOGIES INC  3674     10   9.5   8.5   \n",
       "1   ABPI        ACCENTIA BIOPHARMACEUTICALS INC  2834      8    10     8   \n",
       "2   ACAD             ACADIA PHARMACEUTICALS INC  2834      7    14    12   \n",
       "3   ACHN          ACHILLION PHARMACEUTICALS INC  2834   11.5    16    14   \n",
       "4   ACLI        AMERICAN COMMERCIAL LINES INC.   4492     21    21    19   \n",
       "5   ACOM                     Ancestry.com Inc.   7379   13.5  14.5  12.5   \n",
       "6   ACOR                ACORDA THERAPEUTICS INC  2836      6    13    11   \n",
       "7   ACRX             ACELRX PHARMACEUTICALS INC  2834      5    14    12   \n",
       "8   ACTV                     ACTIVE NETWORK INC  7372     15    18    16   \n",
       "9    ACW                          ACCURIDE CORP  3714      9    19    17   \n",
       "10  ADKU             ADCARE HEALTH SYSTEMS, INC     -      -     -     -   \n",
       "11  ADLS  Advanced Life Sciences Holdings, Inc.  2854      5     9     8   \n",
       "12  ADZA                  ADEZA BIOMEDICAL CORP  2835     16    16    14   \n",
       "13  AFFY                            AFFYMAX INC  2834     25    24    22   \n",
       "14  AGAM            AGA Medical Holdings, Inc.   3845   14.5    16    15   \n",
       "15    AH                           R1 RCM INC.   7389     12    16    14   \n",
       "16  AHII           ANIMAL HEALTH HOLDINGS, INC.  5047     11    12    10   \n",
       "17  AIMC         Altra Industrial Motion Corp.   3568   13.5    16    14   \n",
       "18  AIRV                            AIRVANA INC  3661      7    10     8   \n",
       "19  ALGT                   Allegiant Travel CO   4512     18    17    15   \n",
       "20  ALIM                  ALIMERA SCIENCES INC   2834     11    17    15   \n",
       "21   ALJ                 Alon USA Energy, Inc.   2911     16    16    14   \n",
       "22  ALLI                  ALLION HEALTHCARE INC  8099     13    14    12   \n",
       "23  ALNY          ALNYLAM PHARMACEUTICALS, INC.  2834      6     8     6   \n",
       "24  ALTU            Altus Pharmaceuticals Inc.   2836     15    16    14   \n",
       "\n",
       "   P(1Day)   C1 C2     C3           C4        C5        C6       C7   T1  \\\n",
       "0    11.87  122  1   3.43    0.0290743  40962052  10600000   51.345  470   \n",
       "1     7.25  259  0  -1.62   -0.0133516  28869196   2400000   25.936  791   \n",
       "2      6.7   90  1  -1.24     0.020715  16845668   5000000    7.378  201   \n",
       "3    12.39  209  1  -0.91    0.0200231  14848637   4500000    8.526  328   \n",
       "4     56.6   80  1   0.07   -0.0348947  30741716   8250000  632.298  572   \n",
       "5     14.2   94  1   0.06   -0.0575561  42402916   7407407  197.591  510   \n",
       "6     6.72  128  1  -1.87   0.00410552  19047022   5500000    5.146  495   \n",
       "7     4.55   91  0  -0.74      0.04062  19371750   8000000        -  334   \n",
       "8     15.9  100  1  -0.51   -0.0293159  52982501  11000000    279.6  620   \n",
       "9        0  106  1   1.49   -0.0249251  33622690  11000000  494.008  385   \n",
       "10       -    -  -      -            -         -         -        -  332   \n",
       "11       6   99  1 -398.1    0.0154871  17826801   7000000     0.32  253   \n",
       "12    19.7  126  1   0.27    0.0197311  15889841   3750000   26.499  206   \n",
       "13   33.88  140  1  -2.19   -0.0063156  14310258   3700000    0.074  416   \n",
       "14    14.6  488  1   0.18    0.0232747  50025520  13750000  166.896  624   \n",
       "15   13.55  233  1   0.17   -0.0854546  90015707  10000000  510.192  586   \n",
       "16   12.45  125  1   0.31  0.000254856  24333033  11800000  571.192  269   \n",
       "17   14.29   77  1   0.14   -0.0063156  23087591  10000000  363.465  391   \n",
       "18    7.17   92  1   1.18    0.0368308  63369555   8300000   170.27  528   \n",
       "19    25.1  207  1   0.63   -0.0126924  19045933   5000000    132.5  512   \n",
       "20      11  174  1  -1.43    0.0452626  31051055   6550000        -  473   \n",
       "21   17.25   78  1   0.67      0.05404  45201120  10200000  1707.56  591   \n",
       "22    16.5   68  1  -0.86   0.00254564  11894956   4000000   64.606  279   \n",
       "23    6.01   91  1 -29.64    0.0358277  19283332   5000000    0.176  248   \n",
       "24   16.82  101  1  -1.39  -0.00174602  21001943   7000000     3.88  263   \n",
       "\n",
       "       T2     T3   T4    T5  S1   S2   S3  \n",
       "0   12719  11560  301   690  62  117  139  \n",
       "1   21792  19585  510  1120  71  242  237  \n",
       "2    5262   4785  128   325  61   33   60  \n",
       "3    8259   7574  177   509  80   59  110  \n",
       "4   14830  13176  336   720  67  149  167  \n",
       "5   17999  13934  328   815  62   96  181  \n",
       "6   15758  13953  379   698  82  106  135  \n",
       "7   11226  10056  276    -1  55  120  122  \n",
       "8   14813  13463  335   917  58  124  234  \n",
       "9    9134   8107  198   459  81   90  147  \n",
       "10   7534   6747  169   263  51   65   74  \n",
       "11   5788   5200  138   385  29   41   70  \n",
       "12   5732   4963  141   259  21   43   80  \n",
       "13  10562   9835  231   726  81  118  138  \n",
       "14  18633  16471  380   909  98  256  172  \n",
       "15  18142  15782  413   649  98   92  155  \n",
       "16   6456   5687  140   336  36   33   83  \n",
       "17  11322   9589  247   603  72  134  133  \n",
       "18  13516  12431  323   523  54   75  117  \n",
       "19  11684  10189  267   429  52   78   91  \n",
       "20  13801  12500  296   768  66  136  182  \n",
       "21  14315  12418  353   675  57   73   88  \n",
       "22   6569   5889  149   308  29   93   97  \n",
       "23   6533   5977  150   384  58   39  100  \n",
       "24   8601   7663  184   473  63   51   93  "
      ]
     },
     "execution_count": 3,
     "metadata": {},
     "output_type": "execute_result"
    }
   ],
   "source": [
    "data.head(25)"
   ]
  },
  {
   "cell_type": "markdown",
   "metadata": {},
   "source": [
    "# Step 1: Identify the null values"
   ]
  },
  {
   "cell_type": "code",
   "execution_count": 4,
   "metadata": {},
   "outputs": [],
   "source": [
    "for col in data.columns:\n",
    "    data[col] = data[col].apply(lambda x: None if x == '-' else x)"
   ]
  },
  {
   "cell_type": "markdown",
   "metadata": {},
   "source": [
    "# Step 2: Descriptive Statistics\n",
    "- Mean/median/std/min/max/count/quartiles\n",
    "- Missing Records\n",
    "- Outlier Identification\n",
    "    - Address Outliers\n",
    "- Data Types/Fix data types"
   ]
  },
  {
   "cell_type": "code",
   "execution_count": 5,
   "metadata": {},
   "outputs": [
    {
     "data": {
      "text/html": [
       "<div>\n",
       "<style scoped>\n",
       "    .dataframe tbody tr th:only-of-type {\n",
       "        vertical-align: middle;\n",
       "    }\n",
       "\n",
       "    .dataframe tbody tr th {\n",
       "        vertical-align: top;\n",
       "    }\n",
       "\n",
       "    .dataframe thead th {\n",
       "        text-align: right;\n",
       "    }\n",
       "</style>\n",
       "<table border=\"1\" class=\"dataframe\">\n",
       "  <thead>\n",
       "    <tr style=\"text-align: right;\">\n",
       "      <th></th>\n",
       "      <th>P(IPO)</th>\n",
       "      <th>P(H)</th>\n",
       "      <th>P(L)</th>\n",
       "      <th>P(1Day)</th>\n",
       "      <th>C1</th>\n",
       "      <th>C2</th>\n",
       "      <th>C3</th>\n",
       "      <th>C4</th>\n",
       "      <th>C5</th>\n",
       "      <th>C6</th>\n",
       "      <th>C7</th>\n",
       "      <th>T1</th>\n",
       "      <th>T2</th>\n",
       "      <th>T3</th>\n",
       "      <th>T4</th>\n",
       "      <th>T5</th>\n",
       "      <th>S1</th>\n",
       "      <th>S2</th>\n",
       "      <th>S3</th>\n",
       "    </tr>\n",
       "  </thead>\n",
       "  <tbody>\n",
       "    <tr>\n",
       "      <th>count</th>\n",
       "      <td>677.000000</td>\n",
       "      <td>672.000000</td>\n",
       "      <td>672.000000</td>\n",
       "      <td>660.000000</td>\n",
       "      <td>660.000000</td>\n",
       "      <td>660.000000</td>\n",
       "      <td>646.000000</td>\n",
       "      <td>660.000000</td>\n",
       "      <td>6.760000e+02</td>\n",
       "      <td>6.760000e+02</td>\n",
       "      <td>610.000000</td>\n",
       "      <td>681.000000</td>\n",
       "      <td>681.000000</td>\n",
       "      <td>681.000000</td>\n",
       "      <td>681.000000</td>\n",
       "      <td>681.000000</td>\n",
       "      <td>681.000000</td>\n",
       "      <td>681.000000</td>\n",
       "      <td>681.000000</td>\n",
       "    </tr>\n",
       "    <tr>\n",
       "      <th>mean</th>\n",
       "      <td>13.837666</td>\n",
       "      <td>15.481190</td>\n",
       "      <td>13.515045</td>\n",
       "      <td>25.934766</td>\n",
       "      <td>149.728788</td>\n",
       "      <td>0.859091</td>\n",
       "      <td>1.788904</td>\n",
       "      <td>0.007282</td>\n",
       "      <td>4.935776e+07</td>\n",
       "      <td>1.241519e+07</td>\n",
       "      <td>500.459962</td>\n",
       "      <td>465.634361</td>\n",
       "      <td>12758.606461</td>\n",
       "      <td>11395.844347</td>\n",
       "      <td>294.353891</td>\n",
       "      <td>679.220264</td>\n",
       "      <td>68.421439</td>\n",
       "      <td>120.104258</td>\n",
       "      <td>144.759178</td>\n",
       "    </tr>\n",
       "    <tr>\n",
       "      <th>std</th>\n",
       "      <td>6.053731</td>\n",
       "      <td>6.653429</td>\n",
       "      <td>5.835646</td>\n",
       "      <td>73.234948</td>\n",
       "      <td>152.817467</td>\n",
       "      <td>0.348192</td>\n",
       "      <td>162.666532</td>\n",
       "      <td>0.033318</td>\n",
       "      <td>1.043764e+08</td>\n",
       "      <td>2.512855e+07</td>\n",
       "      <td>1648.337634</td>\n",
       "      <td>175.741647</td>\n",
       "      <td>5449.644597</td>\n",
       "      <td>4839.670179</td>\n",
       "      <td>121.532637</td>\n",
       "      <td>472.914323</td>\n",
       "      <td>39.096525</td>\n",
       "      <td>84.828959</td>\n",
       "      <td>69.276285</td>\n",
       "    </tr>\n",
       "    <tr>\n",
       "      <th>min</th>\n",
       "      <td>3.000000</td>\n",
       "      <td>0.000000</td>\n",
       "      <td>3.000000</td>\n",
       "      <td>0.000000</td>\n",
       "      <td>10.000000</td>\n",
       "      <td>0.000000</td>\n",
       "      <td>-786.239000</td>\n",
       "      <td>-0.162352</td>\n",
       "      <td>3.693227e+06</td>\n",
       "      <td>5.250000e+05</td>\n",
       "      <td>0.074000</td>\n",
       "      <td>132.000000</td>\n",
       "      <td>0.000000</td>\n",
       "      <td>0.000000</td>\n",
       "      <td>0.000000</td>\n",
       "      <td>-1.000000</td>\n",
       "      <td>-1.000000</td>\n",
       "      <td>20.000000</td>\n",
       "      <td>26.000000</td>\n",
       "    </tr>\n",
       "    <tr>\n",
       "      <th>25%</th>\n",
       "      <td>10.000000</td>\n",
       "      <td>12.500000</td>\n",
       "      <td>11.000000</td>\n",
       "      <td>11.000000</td>\n",
       "      <td>85.000000</td>\n",
       "      <td>1.000000</td>\n",
       "      <td>-0.852500</td>\n",
       "      <td>-0.013927</td>\n",
       "      <td>1.871417e+07</td>\n",
       "      <td>5.000000e+06</td>\n",
       "      <td>37.245750</td>\n",
       "      <td>351.000000</td>\n",
       "      <td>9195.000000</td>\n",
       "      <td>8162.000000</td>\n",
       "      <td>213.000000</td>\n",
       "      <td>462.000000</td>\n",
       "      <td>45.000000</td>\n",
       "      <td>73.000000</td>\n",
       "      <td>100.000000</td>\n",
       "    </tr>\n",
       "    <tr>\n",
       "      <th>50%</th>\n",
       "      <td>13.500000</td>\n",
       "      <td>15.000000</td>\n",
       "      <td>13.000000</td>\n",
       "      <td>14.845000</td>\n",
       "      <td>107.000000</td>\n",
       "      <td>1.000000</td>\n",
       "      <td>0.010000</td>\n",
       "      <td>0.009125</td>\n",
       "      <td>2.740018e+07</td>\n",
       "      <td>7.398704e+06</td>\n",
       "      <td>103.833000</td>\n",
       "      <td>444.000000</td>\n",
       "      <td>12045.000000</td>\n",
       "      <td>10785.000000</td>\n",
       "      <td>279.000000</td>\n",
       "      <td>624.000000</td>\n",
       "      <td>60.000000</td>\n",
       "      <td>100.000000</td>\n",
       "      <td>134.000000</td>\n",
       "    </tr>\n",
       "    <tr>\n",
       "      <th>75%</th>\n",
       "      <td>17.000000</td>\n",
       "      <td>17.000000</td>\n",
       "      <td>15.000000</td>\n",
       "      <td>20.485000</td>\n",
       "      <td>155.250000</td>\n",
       "      <td>1.000000</td>\n",
       "      <td>0.470000</td>\n",
       "      <td>0.031571</td>\n",
       "      <td>4.980786e+07</td>\n",
       "      <td>1.200000e+07</td>\n",
       "      <td>331.138000</td>\n",
       "      <td>551.000000</td>\n",
       "      <td>15241.000000</td>\n",
       "      <td>13760.000000</td>\n",
       "      <td>354.000000</td>\n",
       "      <td>795.000000</td>\n",
       "      <td>85.000000</td>\n",
       "      <td>142.000000</td>\n",
       "      <td>173.000000</td>\n",
       "    </tr>\n",
       "    <tr>\n",
       "      <th>max</th>\n",
       "      <td>85.000000</td>\n",
       "      <td>135.000000</td>\n",
       "      <td>108.000000</td>\n",
       "      <td>1159.200562</td>\n",
       "      <td>2087.000000</td>\n",
       "      <td>1.000000</td>\n",
       "      <td>3864.500000</td>\n",
       "      <td>0.092896</td>\n",
       "      <td>2.138085e+09</td>\n",
       "      <td>4.212336e+08</td>\n",
       "      <td>30683.000000</td>\n",
       "      <td>1750.000000</td>\n",
       "      <td>49056.000000</td>\n",
       "      <td>43952.000000</td>\n",
       "      <td>1058.000000</td>\n",
       "      <td>10277.000000</td>\n",
       "      <td>309.000000</td>\n",
       "      <td>944.000000</td>\n",
       "      <td>883.000000</td>\n",
       "    </tr>\n",
       "  </tbody>\n",
       "</table>\n",
       "</div>"
      ],
      "text/plain": [
       "           P(IPO)        P(H)        P(L)      P(1Day)           C1  \\\n",
       "count  677.000000  672.000000  672.000000   660.000000   660.000000   \n",
       "mean    13.837666   15.481190   13.515045    25.934766   149.728788   \n",
       "std      6.053731    6.653429    5.835646    73.234948   152.817467   \n",
       "min      3.000000    0.000000    3.000000     0.000000    10.000000   \n",
       "25%     10.000000   12.500000   11.000000    11.000000    85.000000   \n",
       "50%     13.500000   15.000000   13.000000    14.845000   107.000000   \n",
       "75%     17.000000   17.000000   15.000000    20.485000   155.250000   \n",
       "max     85.000000  135.000000  108.000000  1159.200562  2087.000000   \n",
       "\n",
       "               C2           C3          C4            C5            C6  \\\n",
       "count  660.000000   646.000000  660.000000  6.760000e+02  6.760000e+02   \n",
       "mean     0.859091     1.788904    0.007282  4.935776e+07  1.241519e+07   \n",
       "std      0.348192   162.666532    0.033318  1.043764e+08  2.512855e+07   \n",
       "min      0.000000  -786.239000   -0.162352  3.693227e+06  5.250000e+05   \n",
       "25%      1.000000    -0.852500   -0.013927  1.871417e+07  5.000000e+06   \n",
       "50%      1.000000     0.010000    0.009125  2.740018e+07  7.398704e+06   \n",
       "75%      1.000000     0.470000    0.031571  4.980786e+07  1.200000e+07   \n",
       "max      1.000000  3864.500000    0.092896  2.138085e+09  4.212336e+08   \n",
       "\n",
       "                 C7           T1            T2            T3           T4  \\\n",
       "count    610.000000   681.000000    681.000000    681.000000   681.000000   \n",
       "mean     500.459962   465.634361  12758.606461  11395.844347   294.353891   \n",
       "std     1648.337634   175.741647   5449.644597   4839.670179   121.532637   \n",
       "min        0.074000   132.000000      0.000000      0.000000     0.000000   \n",
       "25%       37.245750   351.000000   9195.000000   8162.000000   213.000000   \n",
       "50%      103.833000   444.000000  12045.000000  10785.000000   279.000000   \n",
       "75%      331.138000   551.000000  15241.000000  13760.000000   354.000000   \n",
       "max    30683.000000  1750.000000  49056.000000  43952.000000  1058.000000   \n",
       "\n",
       "                 T5          S1          S2          S3  \n",
       "count    681.000000  681.000000  681.000000  681.000000  \n",
       "mean     679.220264   68.421439  120.104258  144.759178  \n",
       "std      472.914323   39.096525   84.828959   69.276285  \n",
       "min       -1.000000   -1.000000   20.000000   26.000000  \n",
       "25%      462.000000   45.000000   73.000000  100.000000  \n",
       "50%      624.000000   60.000000  100.000000  134.000000  \n",
       "75%      795.000000   85.000000  142.000000  173.000000  \n",
       "max    10277.000000  309.000000  944.000000  883.000000  "
      ]
     },
     "execution_count": 5,
     "metadata": {},
     "output_type": "execute_result"
    }
   ],
   "source": [
    "data.describe()"
   ]
  },
  {
   "cell_type": "markdown",
   "metadata": {},
   "source": [
    "Counts of null values"
   ]
  },
  {
   "cell_type": "code",
   "execution_count": 6,
   "metadata": {},
   "outputs": [
    {
     "data": {
      "text/plain": [
       "I1          0\n",
       "I2          0\n",
       "I3          8\n",
       "P(IPO)      5\n",
       "P(H)       10\n",
       "P(L)       10\n",
       "P(1Day)    22\n",
       "C1         22\n",
       "C2         22\n",
       "C3         36\n",
       "C4         22\n",
       "C5          6\n",
       "C6          6\n",
       "C7         72\n",
       "T1          1\n",
       "T2          1\n",
       "T3          1\n",
       "T4          1\n",
       "T5          1\n",
       "S1          1\n",
       "S2          1\n",
       "S3          1\n",
       "dtype: int64"
      ]
     },
     "execution_count": 6,
     "metadata": {},
     "output_type": "execute_result"
    }
   ],
   "source": [
    "pd.isna(data).sum()"
   ]
  },
  {
   "cell_type": "markdown",
   "metadata": {},
   "source": [
    "Data Types before being fixed (necessary due to the way nulls were given as a string initially)"
   ]
  },
  {
   "cell_type": "code",
   "execution_count": 7,
   "metadata": {},
   "outputs": [
    {
     "data": {
      "text/plain": [
       "I1          object\n",
       "I2          object\n",
       "I3          object\n",
       "P(IPO)     float64\n",
       "P(H)       float64\n",
       "P(L)       float64\n",
       "P(1Day)    float64\n",
       "C1         float64\n",
       "C2         float64\n",
       "C3         float64\n",
       "C4         float64\n",
       "C5         float64\n",
       "C6         float64\n",
       "C7         float64\n",
       "T1         float64\n",
       "T2         float64\n",
       "T3         float64\n",
       "T4         float64\n",
       "T5         float64\n",
       "S1         float64\n",
       "S2         float64\n",
       "S3         float64\n",
       "dtype: object"
      ]
     },
     "execution_count": 7,
     "metadata": {},
     "output_type": "execute_result"
    }
   ],
   "source": [
    "data.dtypes"
   ]
  },
  {
   "cell_type": "markdown",
   "metadata": {},
   "source": [
    "Box Plots"
   ]
  },
  {
   "cell_type": "code",
   "execution_count": 8,
   "metadata": {},
   "outputs": [
    {
     "data": {
      "image/png": "[encoded data removed]",
      "text/plain": [
       "<Figure size 432x288 with 1 Axes>"
      ]
     },
     "metadata": {
      "needs_background": "light"
     },
     "output_type": "display_data"
    }
   ],
   "source": [
    "data[[i for i in data.columns if i not in ['I1','I2','I3','C5','C6']]].boxplot()\n",
    "plt.show()"
   ]
  },
  {
   "cell_type": "code",
   "execution_count": 9,
   "metadata": {},
   "outputs": [
    {
     "data": {
      "image/png": "[encoded data removed]",
      "text/plain": [
       "<Figure size 432x288 with 1 Axes>"
      ]
     },
     "metadata": {
      "needs_background": "light"
     },
     "output_type": "display_data"
    },
    {
     "data": {
      "image/png": "[encoded data removed]",
      "text/plain": [
       "<Figure size 432x288 with 1 Axes>"
      ]
     },
     "metadata": {
      "needs_background": "light"
     },
     "output_type": "display_data"
    },
    {
     "data": {
      "image/png": "[encoded data removed]",
      "text/plain": [
       "<Figure size 432x288 with 1 Axes>"
      ]
     },
     "metadata": {
      "needs_background": "light"
     },
     "output_type": "display_data"
    },
    {
     "data": {
      "image/png": "[encoded data removed]",
      "text/plain": [
       "<Figure size 432x288 with 1 Axes>"
      ]
     },
     "metadata": {
      "needs_background": "light"
     },
     "output_type": "display_data"
    },
    {
     "data": {
      "image/png": "[encoded data removed]",
      "text/plain": [
       "<Figure size 432x288 with 1 Axes>"
      ]
     },
     "metadata": {
      "needs_background": "light"
     },
     "output_type": "display_data"
    },
    {
     "data": {
      "image/png": "[encoded data removed]",
      "text/plain": [
       "<Figure size 432x288 with 1 Axes>"
      ]
     },
     "metadata": {
      "needs_background": "light"
     },
     "output_type": "display_data"
    },
    {
     "data": {
      "image/png": "[encoded data removed]",
      "text/plain": [
       "<Figure size 432x288 with 1 Axes>"
      ]
     },
     "metadata": {
      "needs_background": "light"
     },
     "output_type": "display_data"
    },
    {
     "data": {
      "image/png": "[encoded data removed]",
      "text/plain": [
       "<Figure size 432x288 with 1 Axes>"
      ]
     },
     "metadata": {
      "needs_background": "light"
     },
     "output_type": "display_data"
    },
    {
     "data": {
      "image/png": "[encoded data removed]",
      "text/plain": [
       "<Figure size 432x288 with 1 Axes>"
      ]
     },
     "metadata": {
      "needs_background": "light"
     },
     "output_type": "display_data"
    },
    {
     "data": {
      "image/png": "[encoded data removed]",
      "text/plain": [
       "<Figure size 432x288 with 1 Axes>"
      ]
     },
     "metadata": {
      "needs_background": "light"
     },
     "output_type": "display_data"
    },
    {
     "data": {
      "image/png": "[encoded data removed]",
      "text/plain": [
       "<Figure size 432x288 with 1 Axes>"
      ]
     },
     "metadata": {
      "needs_background": "light"
     },
     "output_type": "display_data"
    },
    {
     "data": {
      "image/png": "[encoded data removed]",
      "text/plain": [
       "<Figure size 432x288 with 1 Axes>"
      ]
     },
     "metadata": {
      "needs_background": "light"
     },
     "output_type": "display_data"
    },
    {
     "data": {
      "image/png": "[encoded data removed]",
      "text/plain": [
       "<Figure size 432x288 with 1 Axes>"
      ]
     },
     "metadata": {
      "needs_background": "light"
     },
     "output_type": "display_data"
    },
    {
     "data": {
      "image/png": "[encoded data removed]",
      "text/plain": [
       "<Figure size 432x288 with 1 Axes>"
      ]
     },
     "metadata": {
      "needs_background": "light"
     },
     "output_type": "display_data"
    },
    {
     "data": {
      "image/png": "[encoded data removed]",
      "text/plain": [
       "<Figure size 432x288 with 1 Axes>"
      ]
     },
     "metadata": {
      "needs_background": "light"
     },
     "output_type": "display_data"
    },
    {
     "data": {
      "image/png": "[encoded data removed]",
      "text/plain": [
       "<Figure size 432x288 with 1 Axes>"
      ]
     },
     "metadata": {
      "needs_background": "light"
     },
     "output_type": "display_data"
    },
    {
     "data": {
      "image/png": "[encoded data removed]",
      "text/plain": [
       "<Figure size 432x288 with 1 Axes>"
      ]
     },
     "metadata": {
      "needs_background": "light"
     },
     "output_type": "display_data"
    },
    {
     "data": {
      "image/png": "[encoded data removed]",
      "text/plain": [
       "<Figure size 432x288 with 1 Axes>"
      ]
     },
     "metadata": {
      "needs_background": "light"
     },
     "output_type": "display_data"
    },
    {
     "data": {
      "image/png": "[encoded data removed]",
      "text/plain": [
       "<Figure size 432x288 with 1 Axes>"
      ]
     },
     "metadata": {
      "needs_background": "light"
     },
     "output_type": "display_data"
    }
   ],
   "source": [
    "for col in [i for i in data.columns if i not in ['I1','I2','I3']]:\n",
    "    data[[col]].boxplot()\n",
    "    plt.show()"
   ]
  },
  {
   "cell_type": "code",
   "execution_count": 10,
   "metadata": {},
   "outputs": [
    {
     "name": "stdout",
     "output_type": "stream",
     "text": [
      "Column:  P(IPO)\n"
     ]
    },
    {
     "data": {
      "image/png": "[encoded data removed]",
      "text/plain": [
       "<Figure size 432x288 with 1 Axes>"
      ]
     },
     "metadata": {
      "needs_background": "light"
     },
     "output_type": "display_data"
    },
    {
     "name": "stdout",
     "output_type": "stream",
     "text": [
      "outliers low value < -4.323527564203351\n",
      "outlier low count:  0\n",
      "outliers high value > 31.9988599128001\n",
      "outlier high count:  8\n",
      "\n",
      "\n",
      "Column:  P(H)\n"
     ]
    },
    {
     "data": {
      "image/png": "[encoded data removed]",
      "text/plain": [
       "<Figure size 432x288 with 1 Axes>"
      ]
     },
     "metadata": {
      "needs_background": "light"
     },
     "output_type": "display_data"
    },
    {
     "name": "stdout",
     "output_type": "stream",
     "text": [
      "outliers low value < -4.479096534989019\n",
      "outlier low count:  0\n",
      "outliers high value > 35.44147748736997\n",
      "outlier high count:  7\n",
      "\n",
      "\n",
      "Column:  P(L)\n"
     ]
    },
    {
     "data": {
      "image/png": "[encoded data removed]",
      "text/plain": [
       "<Figure size 432x288 with 1 Axes>"
      ]
     },
     "metadata": {
      "needs_background": "light"
     },
     "output_type": "display_data"
    },
    {
     "name": "stdout",
     "output_type": "stream",
     "text": [
      "outliers low value < -3.9918926658603855\n",
      "outlier low count:  0\n",
      "outliers high value > 31.021981951574674\n",
      "outlier high count:  7\n",
      "\n",
      "\n",
      "Column:  P(1Day)\n"
     ]
    },
    {
     "data": {
      "image/png": "[encoded data removed]",
      "text/plain": [
       "<Figure size 432x288 with 1 Axes>"
      ]
     },
     "metadata": {
      "needs_background": "light"
     },
     "output_type": "display_data"
    },
    {
     "name": "stdout",
     "output_type": "stream",
     "text": [
      "outliers low value < -193.77007737082823\n",
      "outlier low count:  0\n",
      "outliers high value > 245.63960966954545\n",
      "outlier high count:  7\n",
      "\n",
      "\n",
      "Column:  C1\n"
     ]
    },
    {
     "data": {
      "image/png": "[encoded data removed]",
      "text/plain": [
       "<Figure size 432x288 with 1 Axes>"
      ]
     },
     "metadata": {
      "needs_background": "light"
     },
     "output_type": "display_data"
    },
    {
     "name": "stdout",
     "output_type": "stream",
     "text": [
      "outliers low value < -308.72361320842344\n",
      "outlier low count:  0\n",
      "outliers high value > 608.1811889659992\n",
      "outlier high count:  15\n",
      "\n",
      "\n",
      "Column:  C2\n"
     ]
    },
    {
     "data": {
      "image/png": "[encoded data removed]",
      "text/plain": [
       "<Figure size 432x288 with 1 Axes>"
      ]
     },
     "metadata": {
      "needs_background": "light"
     },
     "output_type": "display_data"
    },
    {
     "name": "stdout",
     "output_type": "stream",
     "text": [
      "outliers low value < -0.1854839845914531\n",
      "outlier low count:  0\n",
      "outliers high value > 1.9036658027732714\n",
      "outlier high count:  0\n",
      "\n",
      "\n",
      "Column:  C3\n"
     ]
    },
    {
     "data": {
      "image/png": "[encoded data removed]",
      "text/plain": [
       "<Figure size 432x288 with 1 Axes>"
      ]
     },
     "metadata": {
      "needs_background": "light"
     },
     "output_type": "display_data"
    },
    {
     "name": "stdout",
     "output_type": "stream",
     "text": [
      "outliers low value < -486.21069148307134\n",
      "outlier low count:  2\n",
      "outliers high value > 489.788499532607\n",
      "outlier high count:  2\n",
      "\n",
      "\n",
      "Column:  C4\n"
     ]
    },
    {
     "data": {
      "image/png": "[encoded data removed]",
      "text/plain": [
       "<Figure size 432x288 with 1 Axes>"
      ]
     },
     "metadata": {
      "needs_background": "light"
     },
     "output_type": "display_data"
    },
    {
     "name": "stdout",
     "output_type": "stream",
     "text": [
      "outliers low value < -0.09267073079434433\n",
      "outlier low count:  2\n",
      "outliers high value > 0.10723513361722141\n",
      "outlier high count:  0\n",
      "\n",
      "\n",
      "Column:  C5\n"
     ]
    },
    {
     "data": {
      "image/png": "[encoded data removed]",
      "text/plain": [
       "<Figure size 432x288 with 1 Axes>"
      ]
     },
     "metadata": {
      "needs_background": "light"
     },
     "output_type": "display_data"
    },
    {
     "name": "stdout",
     "output_type": "stream",
     "text": [
      "outliers low value < -263771547.09439728\n",
      "outlier low count:  0\n",
      "outliers high value > 362487065.78374636\n",
      "outlier high count:  4\n",
      "\n",
      "\n",
      "Column:  C6\n"
     ]
    },
    {
     "data": {
      "image/png": "[encoded data removed]",
      "text/plain": [
       "<Figure size 432x288 with 1 Axes>"
      ]
     },
     "metadata": {
      "needs_background": "light"
     },
     "output_type": "display_data"
    },
    {
     "name": "stdout",
     "output_type": "stream",
     "text": [
      "outliers low value < -62970469.94487368\n",
      "outlier low count:  0\n",
      "outliers high value > 87800858.40345356\n",
      "outlier high count:  5\n",
      "\n",
      "\n",
      "Column:  C7\n"
     ]
    },
    {
     "data": {
      "image/png": "[encoded data removed]",
      "text/plain": [
       "<Figure size 432x288 with 1 Axes>"
      ]
     },
     "metadata": {
      "needs_background": "light"
     },
     "output_type": "display_data"
    },
    {
     "name": "stdout",
     "output_type": "stream",
     "text": [
      "outliers low value < -4444.552940625089\n",
      "outlier low count:  0\n",
      "outliers high value > 5445.472865215253\n",
      "outlier high count:  7\n",
      "\n",
      "\n",
      "Column:  T1\n"
     ]
    },
    {
     "data": {
      "image/png": "[encoded data removed]",
      "text/plain": [
       "<Figure size 432x288 with 1 Axes>"
      ]
     },
     "metadata": {
      "needs_background": "light"
     },
     "output_type": "display_data"
    },
    {
     "name": "stdout",
     "output_type": "stream",
     "text": [
      "outliers low value < -61.59057904556391\n",
      "outlier low count:  0\n",
      "outliers high value > 992.8593015125242\n",
      "outlier high count:  9\n",
      "\n",
      "\n",
      "Column:  T2\n"
     ]
    },
    {
     "data": {
      "image/png": "[encoded data removed]",
      "text/plain": [
       "<Figure size 432x288 with 1 Axes>"
      ]
     },
     "metadata": {
      "needs_background": "light"
     },
     "output_type": "display_data"
    },
    {
     "name": "stdout",
     "output_type": "stream",
     "text": [
      "outliers low value < -3590.327329782169\n",
      "outlier low count:  0\n",
      "outliers high value > 29107.540251955445\n",
      "outlier high count:  8\n",
      "\n",
      "\n",
      "Column:  T3\n"
     ]
    },
    {
     "data": {
      "image/png": "[encoded data removed]",
      "text/plain": [
       "<Figure size 432x288 with 1 Axes>"
      ]
     },
     "metadata": {
      "needs_background": "light"
     },
     "output_type": "display_data"
    },
    {
     "name": "stdout",
     "output_type": "stream",
     "text": [
      "outliers low value < -3123.1661892108004\n",
      "outlier low count:  0\n",
      "outliers high value > 25914.854882309184\n",
      "outlier high count:  9\n",
      "\n",
      "\n",
      "Column:  T4\n"
     ]
    },
    {
     "data": {
      "image/png": "[encoded data removed]",
      "text/plain": [
       "<Figure size 432x288 with 1 Axes>"
      ]
     },
     "metadata": {
      "needs_background": "light"
     },
     "output_type": "display_data"
    },
    {
     "name": "stdout",
     "output_type": "stream",
     "text": [
      "outliers low value < -70.2440205710713\n",
      "outlier low count:  0\n",
      "outliers high value > 658.9518032436117\n",
      "outlier high count:  9\n",
      "\n",
      "\n",
      "Column:  T5\n"
     ]
    },
    {
     "data": {
      "image/png": "[encoded data removed]",
      "text/plain": [
       "<Figure size 432x288 with 1 Axes>"
      ]
     },
     "metadata": {
      "needs_background": "light"
     },
     "output_type": "display_data"
    },
    {
     "name": "stdout",
     "output_type": "stream",
     "text": [
      "outliers low value < -739.5227059391386\n",
      "outlier low count:  0\n",
      "outliers high value > 2097.9632345735\n",
      "outlier high count:  4\n",
      "\n",
      "\n",
      "Column:  S1\n"
     ]
    },
    {
     "data": {
      "image/png": "[encoded data removed]",
      "text/plain": [
       "<Figure size 432x288 with 1 Axes>"
      ]
     },
     "metadata": {
      "needs_background": "light"
     },
     "output_type": "display_data"
    },
    {
     "name": "stdout",
     "output_type": "stream",
     "text": [
      "outliers low value < -48.86813737167449\n",
      "outlier low count:  0\n",
      "outliers high value > 185.71101549208566\n",
      "outlier high count:  14\n",
      "\n",
      "\n",
      "Column:  S2\n"
     ]
    },
    {
     "data": {
      "image/png": "[encoded data removed]",
      "text/plain": [
       "<Figure size 432x288 with 1 Axes>"
      ]
     },
     "metadata": {
      "needs_background": "light"
     },
     "output_type": "display_data"
    },
    {
     "name": "stdout",
     "output_type": "stream",
     "text": [
      "outliers low value < -134.3826196963994\n",
      "outlier low count:  0\n",
      "outliers high value > 374.5911365833304\n",
      "outlier high count:  13\n",
      "\n",
      "\n",
      "Column:  S3\n"
     ]
    },
    {
     "data": {
      "image/png": "[encoded data removed]",
      "text/plain": [
       "<Figure size 432x288 with 1 Axes>"
      ]
     },
     "metadata": {
      "needs_background": "light"
     },
     "output_type": "display_data"
    },
    {
     "name": "stdout",
     "output_type": "stream",
     "text": [
      "outliers low value < -63.06967776675194\n",
      "outlier low count:  0\n",
      "outliers high value > 352.58803312651696\n",
      "outlier high count:  6\n",
      "\n",
      "\n"
     ]
    }
   ],
   "source": [
    "#Only plot numberical columns so drop non-numerical\n",
    "for col in data.drop(['I1','I2','I3'],axis=1).columns:\n",
    "    print(\"Column: \", col)\n",
    "    \n",
    "    #Create Histograms\n",
    "    data[col].hist()\n",
    "    plt.xlabel(col)\n",
    "    plt.title('Histogram')\n",
    "    plt.show()\n",
    "    \n",
    "    #Find outliers within 2 standard deviations of mean\n",
    "    outliers_low = (data[col].mean() - 3*data[col].std())\n",
    "    outliers_high = (data[col].mean() + 3*data[col].std())\n",
    "    \n",
    "    #Print outlier values and counts of how many outliers\n",
    "    print(\"outliers low value <\", outliers_low)\n",
    "    print(\"outlier low count: \", data[col][data[col] < outliers_low].count())\n",
    "    print(\"outliers high value >\", outliers_high) \n",
    "    print(\"outlier high count: \", data[col][data[col] > outliers_high].count())\n",
    "    print('\\n')"
   ]
  },
  {
   "cell_type": "code",
   "execution_count": null,
   "metadata": {},
   "outputs": [],
   "source": []
  },
  {
   "cell_type": "code",
   "execution_count": null,
   "metadata": {},
   "outputs": [],
   "source": []
  },
  {
   "cell_type": "code",
   "execution_count": null,
   "metadata": {},
   "outputs": [],
   "source": []
  },
  {
   "cell_type": "markdown",
   "metadata": {},
   "source": [
    "# Step 3: Data Imputation\n",
    "- Address null values dependent on the type of value in question\n",
    "- Create a seperate column which shows whether or not imputation occurred"
   ]
  },
  {
   "cell_type": "code",
   "execution_count": 11,
   "metadata": {},
   "outputs": [],
   "source": [
    "def impute_nulls_df(df, col, replace_val):\n",
    "    '''\n",
    "    params:\n",
    "    \n",
    "    df - dataframe containing nulls\n",
    "    col - columns with nulls to replace\n",
    "    replace_val - options: 'mean', 'median', 'mode'\n",
    "    \n",
    "    Example:\n",
    "\n",
    "    imputed_data = impute_nulls(data, C1, 'mean')\n",
    "    '''\n",
    "    \n",
    "    if replace_val not in ['mean','median','mode']:\n",
    "        print('requires one of the following: mean, median, mode')\n",
    "        return\n",
    "    \n",
    "    elif replace_val == 'mean':\n",
    "        df[col + '_imputed'] = df[col].fillna(df[col].mean())\n",
    "    elif replace_val == 'median':\n",
    "        df[col + '_imputed'] = df[col].fillna(df[col].median())\n",
    "    else:\n",
    "        df[col + '_imputed'] = df[col].fillna(df[col].mode())\n",
    "        \n",
    "    return df"
   ]
  },
  {
   "cell_type": "markdown",
   "metadata": {},
   "source": [
    "Create a dictionary for each value with the column and the type of imputation. Can then use a loop and the function above to impute them all."
   ]
  },
  {
   "cell_type": "code",
   "execution_count": 12,
   "metadata": {},
   "outputs": [],
   "source": [
    "# Example below\n",
    "imputing = {\n",
    "    'C1': 'mean',\n",
    "    'C2': 'mean',\n",
    "    'C4': 'mean'\n",
    "}\n",
    "\n",
    "data_w_imputed = data.copy()\n",
    "\n",
    "for key in imputing.keys():\n",
    "    data_w_imputed = impute_nulls_df(data_w_imputed, key, imputing[key])"
   ]
  },
  {
   "cell_type": "markdown",
   "metadata": {},
   "source": [
    "Now there are new imputed columns at the end of the dataframe"
   ]
  },
  {
   "cell_type": "code",
   "execution_count": 13,
   "metadata": {},
   "outputs": [
    {
     "data": {
      "text/html": [
       "<div>\n",
       "<style scoped>\n",
       "    .dataframe tbody tr th:only-of-type {\n",
       "        vertical-align: middle;\n",
       "    }\n",
       "\n",
       "    .dataframe tbody tr th {\n",
       "        vertical-align: top;\n",
       "    }\n",
       "\n",
       "    .dataframe thead th {\n",
       "        text-align: right;\n",
       "    }\n",
       "</style>\n",
       "<table border=\"1\" class=\"dataframe\">\n",
       "  <thead>\n",
       "    <tr style=\"text-align: right;\">\n",
       "      <th></th>\n",
       "      <th>I1</th>\n",
       "      <th>I2</th>\n",
       "      <th>I3</th>\n",
       "      <th>P(IPO)</th>\n",
       "      <th>P(H)</th>\n",
       "      <th>P(L)</th>\n",
       "      <th>P(1Day)</th>\n",
       "      <th>C1</th>\n",
       "      <th>C2</th>\n",
       "      <th>C3</th>\n",
       "      <th>C4</th>\n",
       "      <th>C5</th>\n",
       "      <th>C6</th>\n",
       "      <th>C7</th>\n",
       "      <th>T1</th>\n",
       "      <th>T2</th>\n",
       "      <th>T3</th>\n",
       "      <th>T4</th>\n",
       "      <th>T5</th>\n",
       "      <th>S1</th>\n",
       "      <th>S2</th>\n",
       "      <th>S3</th>\n",
       "      <th>C1_imputed</th>\n",
       "      <th>C2_imputed</th>\n",
       "      <th>C4_imputed</th>\n",
       "    </tr>\n",
       "  </thead>\n",
       "  <tbody>\n",
       "    <tr>\n",
       "      <th>0</th>\n",
       "      <td>AATI</td>\n",
       "      <td>ADVANCED ANALOGIC TECHNOLOGIES INC</td>\n",
       "      <td>3674</td>\n",
       "      <td>10.0</td>\n",
       "      <td>9.5</td>\n",
       "      <td>8.5</td>\n",
       "      <td>11.870000</td>\n",
       "      <td>122.0</td>\n",
       "      <td>1.0</td>\n",
       "      <td>3.43</td>\n",
       "      <td>0.029074</td>\n",
       "      <td>40962052.0</td>\n",
       "      <td>10600000.0</td>\n",
       "      <td>51.345</td>\n",
       "      <td>470.0</td>\n",
       "      <td>12719.0</td>\n",
       "      <td>11560.0</td>\n",
       "      <td>301.0</td>\n",
       "      <td>690.0</td>\n",
       "      <td>62.0</td>\n",
       "      <td>117.0</td>\n",
       "      <td>139.0</td>\n",
       "      <td>122.0</td>\n",
       "      <td>1.0</td>\n",
       "      <td>0.029074</td>\n",
       "    </tr>\n",
       "    <tr>\n",
       "      <th>1</th>\n",
       "      <td>ABPI</td>\n",
       "      <td>ACCENTIA BIOPHARMACEUTICALS INC</td>\n",
       "      <td>2834</td>\n",
       "      <td>8.0</td>\n",
       "      <td>10.0</td>\n",
       "      <td>8.0</td>\n",
       "      <td>7.250000</td>\n",
       "      <td>259.0</td>\n",
       "      <td>0.0</td>\n",
       "      <td>-1.62</td>\n",
       "      <td>-0.013352</td>\n",
       "      <td>28869196.0</td>\n",
       "      <td>2400000.0</td>\n",
       "      <td>25.936</td>\n",
       "      <td>791.0</td>\n",
       "      <td>21792.0</td>\n",
       "      <td>19585.0</td>\n",
       "      <td>510.0</td>\n",
       "      <td>1120.0</td>\n",
       "      <td>71.0</td>\n",
       "      <td>242.0</td>\n",
       "      <td>237.0</td>\n",
       "      <td>259.0</td>\n",
       "      <td>0.0</td>\n",
       "      <td>-0.013352</td>\n",
       "    </tr>\n",
       "    <tr>\n",
       "      <th>2</th>\n",
       "      <td>ACAD</td>\n",
       "      <td>ACADIA PHARMACEUTICALS INC</td>\n",
       "      <td>2834</td>\n",
       "      <td>7.0</td>\n",
       "      <td>14.0</td>\n",
       "      <td>12.0</td>\n",
       "      <td>6.700000</td>\n",
       "      <td>90.0</td>\n",
       "      <td>1.0</td>\n",
       "      <td>-1.24</td>\n",
       "      <td>0.020715</td>\n",
       "      <td>16845668.0</td>\n",
       "      <td>5000000.0</td>\n",
       "      <td>7.378</td>\n",
       "      <td>201.0</td>\n",
       "      <td>5262.0</td>\n",
       "      <td>4785.0</td>\n",
       "      <td>128.0</td>\n",
       "      <td>325.0</td>\n",
       "      <td>61.0</td>\n",
       "      <td>33.0</td>\n",
       "      <td>60.0</td>\n",
       "      <td>90.0</td>\n",
       "      <td>1.0</td>\n",
       "      <td>0.020715</td>\n",
       "    </tr>\n",
       "    <tr>\n",
       "      <th>3</th>\n",
       "      <td>ACHN</td>\n",
       "      <td>ACHILLION PHARMACEUTICALS INC</td>\n",
       "      <td>2834</td>\n",
       "      <td>11.5</td>\n",
       "      <td>16.0</td>\n",
       "      <td>14.0</td>\n",
       "      <td>12.390000</td>\n",
       "      <td>209.0</td>\n",
       "      <td>1.0</td>\n",
       "      <td>-0.91</td>\n",
       "      <td>0.020023</td>\n",
       "      <td>14848637.0</td>\n",
       "      <td>4500000.0</td>\n",
       "      <td>8.526</td>\n",
       "      <td>328.0</td>\n",
       "      <td>8259.0</td>\n",
       "      <td>7574.0</td>\n",
       "      <td>177.0</td>\n",
       "      <td>509.0</td>\n",
       "      <td>80.0</td>\n",
       "      <td>59.0</td>\n",
       "      <td>110.0</td>\n",
       "      <td>209.0</td>\n",
       "      <td>1.0</td>\n",
       "      <td>0.020023</td>\n",
       "    </tr>\n",
       "    <tr>\n",
       "      <th>4</th>\n",
       "      <td>ACLI</td>\n",
       "      <td>AMERICAN COMMERCIAL LINES INC.</td>\n",
       "      <td>4492</td>\n",
       "      <td>21.0</td>\n",
       "      <td>21.0</td>\n",
       "      <td>19.0</td>\n",
       "      <td>56.599998</td>\n",
       "      <td>80.0</td>\n",
       "      <td>1.0</td>\n",
       "      <td>0.07</td>\n",
       "      <td>-0.034895</td>\n",
       "      <td>30741716.0</td>\n",
       "      <td>8250000.0</td>\n",
       "      <td>632.298</td>\n",
       "      <td>572.0</td>\n",
       "      <td>14830.0</td>\n",
       "      <td>13176.0</td>\n",
       "      <td>336.0</td>\n",
       "      <td>720.0</td>\n",
       "      <td>67.0</td>\n",
       "      <td>149.0</td>\n",
       "      <td>167.0</td>\n",
       "      <td>80.0</td>\n",
       "      <td>1.0</td>\n",
       "      <td>-0.034895</td>\n",
       "    </tr>\n",
       "  </tbody>\n",
       "</table>\n",
       "</div>"
      ],
      "text/plain": [
       "     I1                                  I2    I3  P(IPO)  P(H)  P(L)  \\\n",
       "0  AATI  ADVANCED ANALOGIC TECHNOLOGIES INC  3674    10.0   9.5   8.5   \n",
       "1  ABPI     ACCENTIA BIOPHARMACEUTICALS INC  2834     8.0  10.0   8.0   \n",
       "2  ACAD          ACADIA PHARMACEUTICALS INC  2834     7.0  14.0  12.0   \n",
       "3  ACHN       ACHILLION PHARMACEUTICALS INC  2834    11.5  16.0  14.0   \n",
       "4  ACLI     AMERICAN COMMERCIAL LINES INC.   4492    21.0  21.0  19.0   \n",
       "\n",
       "     P(1Day)     C1   C2    C3        C4          C5          C6       C7  \\\n",
       "0  11.870000  122.0  1.0  3.43  0.029074  40962052.0  10600000.0   51.345   \n",
       "1   7.250000  259.0  0.0 -1.62 -0.013352  28869196.0   2400000.0   25.936   \n",
       "2   6.700000   90.0  1.0 -1.24  0.020715  16845668.0   5000000.0    7.378   \n",
       "3  12.390000  209.0  1.0 -0.91  0.020023  14848637.0   4500000.0    8.526   \n",
       "4  56.599998   80.0  1.0  0.07 -0.034895  30741716.0   8250000.0  632.298   \n",
       "\n",
       "      T1       T2       T3     T4      T5    S1     S2     S3  C1_imputed  \\\n",
       "0  470.0  12719.0  11560.0  301.0   690.0  62.0  117.0  139.0       122.0   \n",
       "1  791.0  21792.0  19585.0  510.0  1120.0  71.0  242.0  237.0       259.0   \n",
       "2  201.0   5262.0   4785.0  128.0   325.0  61.0   33.0   60.0        90.0   \n",
       "3  328.0   8259.0   7574.0  177.0   509.0  80.0   59.0  110.0       209.0   \n",
       "4  572.0  14830.0  13176.0  336.0   720.0  67.0  149.0  167.0        80.0   \n",
       "\n",
       "   C2_imputed  C4_imputed  \n",
       "0         1.0    0.029074  \n",
       "1         0.0   -0.013352  \n",
       "2         1.0    0.020715  \n",
       "3         1.0    0.020023  \n",
       "4         1.0   -0.034895  "
      ]
     },
     "execution_count": 13,
     "metadata": {},
     "output_type": "execute_result"
    }
   ],
   "source": [
    "data_w_imputed.head()"
   ]
  },
  {
   "cell_type": "code",
   "execution_count": null,
   "metadata": {},
   "outputs": [],
   "source": []
  },
  {
   "cell_type": "markdown",
   "metadata": {},
   "source": [
    "# Step 4: Check Normality of fields\n",
    "\n",
    "- Histogram\n",
    "- Shapiro test for normality: a p-value of lower than 0.05 implies non-normal values"
   ]
  },
  {
   "cell_type": "code",
   "execution_count": 14,
   "metadata": {},
   "outputs": [],
   "source": [
    "def check_normal_by_hist(df, col):\n",
    "    '''\n",
    "    Creates a histogram to view values to check normality\n",
    "    \n",
    "    params:\n",
    "    df - DataFrame\n",
    "    col - Columns of DataFrame you want to test\n",
    "    \n",
    "    return:\n",
    "    Void, however will print a histogram\n",
    "    \n",
    "    '''\n",
    "    df[col].hist()\n",
    "    plt.show()\n",
    "    \n",
    "def check_normal_by_shapiro(df, col):\n",
    "    '''\n",
    "    Runs the Shapiro normality test on the values from a dataframe\n",
    "    \n",
    "    params:\n",
    "    df - DataFrame\n",
    "    col - Columns of DataFrame you want to test\n",
    "    \n",
    "    return:\n",
    "    tuple - (Test Statistic, p-value)\n",
    "    \n",
    "    A p-value lower than 0.05 implies the values are NOT normal\n",
    "    \n",
    "    '''\n",
    "    \n",
    "    return shapiro(df[col].values)\n",
    "    "
   ]
  },
  {
   "cell_type": "code",
   "execution_count": 15,
   "metadata": {},
   "outputs": [
    {
     "data": {
      "image/png": "[encoded data removed]",
      "text/plain": [
       "<Figure size 432x288 with 1 Axes>"
      ]
     },
     "metadata": {
      "needs_background": "light"
     },
     "output_type": "display_data"
    }
   ],
   "source": [
    "check_normal_by_hist(data_w_imputed, 'C1_imputed')"
   ]
  },
  {
   "cell_type": "code",
   "execution_count": 16,
   "metadata": {},
   "outputs": [
    {
     "data": {
      "text/plain": [
       "(0.5366458892822266, 7.148707300171482e-39)"
      ]
     },
     "execution_count": 16,
     "metadata": {},
     "output_type": "execute_result"
    }
   ],
   "source": [
    "shapiro(data_w_imputed['C1_imputed'])"
   ]
  },
  {
   "cell_type": "code",
   "execution_count": null,
   "metadata": {},
   "outputs": [],
   "source": []
  },
  {
   "cell_type": "markdown",
   "metadata": {},
   "source": [
    "# Step 4B: Create New Columns with Normalized values of non-normal fields\n",
    "- Try applying squaring, log(), square root, 1/x function\n",
    "- Leverage Histograms and Shapiro-Wilk test"
   ]
  },
  {
   "cell_type": "code",
   "execution_count": 92,
   "metadata": {},
   "outputs": [],
   "source": [
    "def normalize_log(col_vals):\n",
    "    return np.log(col_vals + min(col_vals))\n",
    "\n",
    "def normalize_sqrt(col_vals):\n",
    "    if min(col_vals) < 0:\n",
    "        print('Can\\'t sqrt with negative values')\n",
    "        return\n",
    "    return np.sqrt(col_vals)\n",
    "\n",
    "def normalize_div(col_vals):\n",
    "    return 1/col_vals\n",
    "\n",
    "def normalize_log_div(col_vals):\n",
    "    return 1/np.log(col_vals + min(col_vals))\n",
    "\n",
    "def normalize_shift_left(col_vals):\n",
    "    return col_vals - len(col_vals)\n",
    "\n",
    "def normalize_shift_right(col_vals):\n",
    "    return col_vals + len(col_vals)\n",
    "\n",
    "def normalize_by_power(col_vals):\n",
    "    return [i**2 for i in col_vals]\n",
    "\n",
    "def normalize_by_e(col_vals):\n",
    "    return [np.e **(i + min(col_vals)) for i in col_vals]\n",
    "\n",
    "def normalize_data(df, col, normalize_function = None):\n",
    "    '''\n",
    "    Given a dataframe, column, and type of normalization, attempt to make the field normal.\n",
    "    \n",
    "    params:\n",
    "    df - dataframe\n",
    "    col - string - column to normalize\n",
    "    normalize_function - function - type of normalization to perform. If blank then all will be performed and compared.\n",
    "        options are functions above\n",
    "        \n",
    "    '''\n",
    "    \n",
    "    if normalize_function is not None:\n",
    "        try:\n",
    "            new_vals = normalize_function(df[col].values)\n",
    "            p_val = shapiro(new_vals)[1]\n",
    "            valid = 'Normal' if p_val > 0.05 else 'Non-Normal'\n",
    "            print('Shapiro Test says given function made the data ' + valid +' with a p-value of ' + str(p_val))\n",
    "            if p_val > 0.05:\n",
    "                plt.hist(new_vals)\n",
    "                return new_vals\n",
    "            else:\n",
    "                return\n",
    "        except Exception as e:\n",
    "            print(e)\n",
    "    \n",
    "#     else:\n",
    "#         print('Running Tests')\n",
    "#         normalize_options = [normalize_log, normalize_sqrt, normalize_div, normalize_log_div, normalize_shift_left, \n",
    "#                             normalize_shift_right, normalize_by_power, normalize_by_e]\n",
    "#         values = df[col].values\n",
    "#         baseline = shapiro(values)[1]\n",
    "        \n",
    "#         if baseline > 0.05:\n",
    "#             print('Already Normal')\n",
    "#             return\n",
    "        \n",
    "#         else:\n",
    "#             p_vals = []\n",
    "#             normalized_dat = []\n",
    "#             for i in normalize_options:\n",
    "#                 try:\n",
    "#                     normalized_dat.append(i(values))\n",
    "#                 except Exception as e:\n",
    "#                     normalized_dat.append(None)\n",
    "#                 try:\n",
    "#                     p_vals.append(shapiro(normalized_dat[-1])[1])\n",
    "#                 except Exception as e:\n",
    "#                     p_vals.append(-1)\n",
    "#             idx = p_vals.index(max(p_vals))\n",
    "            \n",
    "#             print(normalize_options[idx])\n",
    "#             return normalized_dat[idx]\n",
    "    "
   ]
  },
  {
   "cell_type": "code",
   "execution_count": 88,
   "metadata": {},
   "outputs": [
    {
     "name": "stdout",
     "output_type": "stream",
     "text": [
      "Shapiro Test says given function made the data Non-Normal with a p-value of 0.0\n"
     ]
    }
   ],
   "source": [
    "normalize_data(data_w_imputed, 'C4_imputed', normalize_div)\n"
   ]
  },
  {
   "cell_type": "code",
   "execution_count": 93,
   "metadata": {},
   "outputs": [
    {
     "name": "stdout",
     "output_type": "stream",
     "text": [
      "Can't sqrt with negative values\n"
     ]
    }
   ],
   "source": [
    "normalize_sqrt(data_w_imputed.C4_imputed)"
   ]
  },
  {
   "cell_type": "code",
   "execution_count": 94,
   "metadata": {},
   "outputs": [
    {
     "name": "stdout",
     "output_type": "stream",
     "text": [
      "Can't sqrt with negative values\n",
      "Data must be at least length 3.\n"
     ]
    }
   ],
   "source": [
    "normalize_data(data_w_imputed, 'C4_imputed', normalize_sqrt)\n"
   ]
  },
  {
   "cell_type": "code",
   "execution_count": null,
   "metadata": {},
   "outputs": [],
   "source": []
  },
  {
   "cell_type": "code",
   "execution_count": 95,
   "metadata": {},
   "outputs": [
    {
     "name": "stdout",
     "output_type": "stream",
     "text": [
      "Shapiro Test says given function made the data Non-Normal with a p-value of 5.838630451173405e-37\n"
     ]
    }
   ],
   "source": [
    "normalize_data(data_w_imputed, 'C4_imputed', normalize_by_power)\n"
   ]
  },
  {
   "cell_type": "code",
   "execution_count": null,
   "metadata": {},
   "outputs": [],
   "source": []
  },
  {
   "cell_type": "code",
   "execution_count": 96,
   "metadata": {},
   "outputs": [
    {
     "name": "stdout",
     "output_type": "stream",
     "text": [
      "Shapiro Test says given function made the data Non-Normal with a p-value of 1.612334699530038e-06\n"
     ]
    }
   ],
   "source": [
    "normalize_data(data_w_imputed, 'C4_imputed', normalize_shift_right)\n"
   ]
  },
  {
   "cell_type": "code",
   "execution_count": null,
   "metadata": {},
   "outputs": [],
   "source": []
  },
  {
   "cell_type": "markdown",
   "metadata": {},
   "source": [
    "# Step 5: Create values outlined in Data Dictionary\n",
    "- T1-T5 as ratios\n",
    "- S1-S3 as ratios\n",
    "- C3', C5', C6'\n",
    "- Y1, Y2\n",
    "- Any additional that seem reasonable\n",
    "\n",
    "Reference here: https://github.com/fairfield-university-ba545/project1-archana-s-team/blob/master/DataDictionary20190115.pdf"
   ]
  },
  {
   "cell_type": "code",
   "execution_count": 114,
   "metadata": {},
   "outputs": [],
   "source": [
    "# Example Ratio, divide the column with the number of words and columns with number of sentences to get words per sentence\n",
    "data_w_imputed['words_per_sentence'] = data_w_imputed.T2 / data_w_imputed.T1"
   ]
  },
  {
   "cell_type": "code",
   "execution_count": 115,
   "metadata": {},
   "outputs": [],
   "source": [
    "# Percentage of positive words by dividing count of positive words by total words\n",
    "data_w_imputed['pos_words_percent'] = data_w_imputed.S1 / data_w_imputed.T2"
   ]
  },
  {
   "cell_type": "markdown",
   "metadata": {},
   "source": [
    "# Step 6: Correlation of input variables\n",
    "- Line plot to display correlation\n",
    "- HeatMap to check correlation"
   ]
  },
  {
   "cell_type": "code",
   "execution_count": 108,
   "metadata": {},
   "outputs": [
    {
     "data": {
      "image/png": "[encoded data removed]",
      "text/plain": [
       "<Figure size 1080x1080 with 2 Axes>"
      ]
     },
     "metadata": {
      "needs_background": "light"
     },
     "output_type": "display_data"
    }
   ],
   "source": [
    "corr = data_w_imputed.corr()\n",
    "plt.figure(figsize=(15,15))\n",
    "ax = sns.heatmap(\n",
    "    corr, \n",
    "    vmin=-1, vmax=1, center=0,\n",
    "    cmap=sns.diverging_palette(20, 220, n=200),\n",
    "    square=True\n",
    ")\n",
    "ax.set_xticklabels(\n",
    "    ax.get_xticklabels(),\n",
    "    rotation=45,\n",
    "    horizontalalignment='right'\n",
    ");"
   ]
  },
  {
   "cell_type": "markdown",
   "metadata": {},
   "source": [
    "# Step 7A: Data Standardization (Continuous Values)\n",
    "- Z-Score\n",
    "- Min-Max Scaling\n",
    "- Standard Scaler\n",
    "- Binning\n",
    "\n",
    "- Save each type of scaling as seperate set\n"
   ]
  },
  {
   "cell_type": "code",
   "execution_count": 23,
   "metadata": {},
   "outputs": [],
   "source": [
    "def z_score(df, col):\n",
    "    df[col + '_zscore'] = df[col].apply(zscore)\n",
    "    \n",
    "def min_max_scale_col(df, cols):\n",
    "    scaler = preprocessing.min_max_scaling(df[cols])\n",
    "    return scaler.transform(df[cols])\n",
    "\n",
    "def min_max_scale_df(df):\n",
    "    scaler = preprocessing.min_max_scaling(df)\n",
    "    return scaler.transform(df)\n",
    "\n",
    "def standard_scale_col(df, cols):\n",
    "    scaler = preprocessing.min_max_scaling(df[cols])\n",
    "    return scaler.transform(df[cols])\n",
    "\n",
    "    \n",
    "def standard_scale_df(df):\n",
    "    scaler = preprocessing.StandardScaler.fit(df)\n",
    "    return scaler.transform(df)\n",
    "\n",
    "def bin_column(df,col, num_bins = 5):\n",
    "    df[col + '_bins'] = pd.qcut(df[col], num_bins)"
   ]
  },
  {
   "cell_type": "code",
   "execution_count": null,
   "metadata": {},
   "outputs": [],
   "source": []
  },
  {
   "cell_type": "markdown",
   "metadata": {},
   "source": [
    "# Step 7B: Data Standardization (Categorical)\n",
    "- Identify viable categories (create as few as possible)\n",
    "- One-hot-encode if needed"
   ]
  },
  {
   "cell_type": "code",
   "execution_count": 29,
   "metadata": {},
   "outputs": [],
   "source": [
    "def one_hot_encode(df, col):\n",
    "    return pd.get_dummies(df[col], prefix = col + '_')"
   ]
  },
  {
   "cell_type": "code",
   "execution_count": null,
   "metadata": {},
   "outputs": [],
   "source": []
  },
  {
   "cell_type": "markdown",
   "metadata": {},
   "source": [
    "# Step 8: Identify and remove redundunt information\n",
    "- Leverage correlation analysis\n",
    "- RFE (recursive feature elimination) to select valuable items\n",
    "- JointPlots against target"
   ]
  },
  {
   "cell_type": "code",
   "execution_count": 56,
   "metadata": {},
   "outputs": [],
   "source": [
    "def get_important_features_rfe(xTrain, yTrain, num_feats):\n",
    "    '''\n",
    "    Takes training values and returns the most important features in order\n",
    "    '''\n",
    "    clf = LogisticRegression()\n",
    "    selector = RFE(clf, num_feats, step=1)\n",
    "    selector.fit(xTrain, yTrain)\n",
    "    \n",
    "    return [x for _,x in sorted(zip(selector.ranking_, list(xTrain.columns)))]\n",
    "    \n",
    "    "
   ]
  },
  {
   "cell_type": "markdown",
   "metadata": {},
   "source": [
    "# Step 8B: Balance Sample Data\n",
    "- SMOTE\n",
    "- Split Data"
   ]
  },
  {
   "cell_type": "code",
   "execution_count": null,
   "metadata": {},
   "outputs": [],
   "source": []
  },
  {
   "cell_type": "markdown",
   "metadata": {},
   "source": [
    "# Step 9: Test against sample code\n",
    "- Test as-is to get baseline for AUC and F1 score\n",
    "- Test different scaled data\n",
    "- Test all data vs what we deem should be removed"
   ]
  },
  {
   "cell_type": "code",
   "execution_count": null,
   "metadata": {},
   "outputs": [],
   "source": []
  },
  {
   "cell_type": "markdown",
   "metadata": {},
   "source": [
    "# Step 10: Look at model specifics to seek room for improvement:\n",
    "- Coefficiants of remaining fields\n",
    "- Look at items with highest error rate and see if we can fit them to a class"
   ]
  },
  {
   "cell_type": "code",
   "execution_count": null,
   "metadata": {},
   "outputs": [],
   "source": []
  },
  {
   "cell_type": "markdown",
   "metadata": {},
   "source": [
    "# Step 11: Alternative Modeling techniques\n",
    "- Random Forest\n",
    "- Potentially XGBoost\n",
    "- See if either of this yields better results"
   ]
  },
  {
   "cell_type": "code",
   "execution_count": 112,
   "metadata": {},
   "outputs": [],
   "source": []
  },
  {
   "cell_type": "code",
   "execution_count": null,
   "metadata": {},
   "outputs": [],
   "source": []
  }
 ],
 "metadata": {
  "kernelspec": {
   "display_name": "Python 3",
   "language": "python",
   "name": "python3"
  },
  "language_info": {
   "codemirror_mode": {
    "name": "ipython",
    "version": 3
   },
   "file_extension": ".py",
   "mimetype": "text/x-python",
   "name": "python",
   "nbconvert_exporter": "python",
   "pygments_lexer": "ipython3",
   "version": "3.6.7"
  }
 },
 "nbformat": 4,
 "nbformat_minor": 4
}
