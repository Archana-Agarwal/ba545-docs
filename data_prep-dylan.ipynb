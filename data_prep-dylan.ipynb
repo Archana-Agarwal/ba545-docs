{
 "cells": [
  {
   "cell_type": "markdown",
   "metadata": {},
   "source": [
    "# Step 0: Imports and loading data"
   ]
  },
  {
   "cell_type": "code",
   "execution_count": 1,
   "metadata": {},
   "outputs": [],
   "source": [
    "import pandas as pd\n",
    "import numpy as np\n",
    "import matplotlib.pyplot as plt\n",
    "from scipy.stats import shapiro\n",
    "import seaborn as sns\n",
    "from scipy.stats import zscore\n",
    "from sklearn import preprocessing\n",
    "from sklearn.feature_selection import RFE\n",
    "from sklearn.linear_model import LogisticRegression\n",
    "from sklearn.model_selection import train_test_split\n",
    "import xgboost\n",
    "from sklearn import metrics\n",
    "from sklearn.metrics import confusion_matrix\n",
    "from sklearn.metrics import classification_report\n",
    "from sklearn.metrics import roc_auc_score\n",
    "from sklearn.metrics import accuracy_score\n",
    "from sklearn.metrics import precision_recall_fscore_support\n",
    "\n",
    "pd.set_option('display.max_columns', 500)"
   ]
  },
  {
   "cell_type": "code",
   "execution_count": 196,
   "metadata": {},
   "outputs": [],
   "source": [
    "raw_data = pd.read_excel('Competition1_raw_data.xlsx')\n",
    "data = raw_data.copy()"
   ]
  },
  {
   "cell_type": "code",
   "execution_count": 197,
   "metadata": {},
   "outputs": [
    {
     "data": {
      "text/html": [
       "<div>\n",
       "<style scoped>\n",
       "    .dataframe tbody tr th:only-of-type {\n",
       "        vertical-align: middle;\n",
       "    }\n",
       "\n",
       "    .dataframe tbody tr th {\n",
       "        vertical-align: top;\n",
       "    }\n",
       "\n",
       "    .dataframe thead th {\n",
       "        text-align: right;\n",
       "    }\n",
       "</style>\n",
       "<table border=\"1\" class=\"dataframe\">\n",
       "  <thead>\n",
       "    <tr style=\"text-align: right;\">\n",
       "      <th></th>\n",
       "      <th>I1</th>\n",
       "      <th>I2</th>\n",
       "      <th>I3</th>\n",
       "      <th>P(IPO)</th>\n",
       "      <th>P(H)</th>\n",
       "      <th>P(L)</th>\n",
       "      <th>P(1Day)</th>\n",
       "      <th>C1</th>\n",
       "      <th>C2</th>\n",
       "      <th>C3</th>\n",
       "      <th>C4</th>\n",
       "      <th>C5</th>\n",
       "      <th>C6</th>\n",
       "      <th>C7</th>\n",
       "      <th>T1</th>\n",
       "      <th>T2</th>\n",
       "      <th>T3</th>\n",
       "      <th>T4</th>\n",
       "      <th>T5</th>\n",
       "      <th>S1</th>\n",
       "      <th>S2</th>\n",
       "      <th>S3</th>\n",
       "    </tr>\n",
       "  </thead>\n",
       "  <tbody>\n",
       "    <tr>\n",
       "      <th>0</th>\n",
       "      <td>AATI</td>\n",
       "      <td>ADVANCED ANALOGIC TECHNOLOGIES INC</td>\n",
       "      <td>3674</td>\n",
       "      <td>10</td>\n",
       "      <td>9.5</td>\n",
       "      <td>8.5</td>\n",
       "      <td>11.87</td>\n",
       "      <td>122</td>\n",
       "      <td>1</td>\n",
       "      <td>3.43</td>\n",
       "      <td>0.0290743</td>\n",
       "      <td>40962052</td>\n",
       "      <td>10600000</td>\n",
       "      <td>51.345</td>\n",
       "      <td>470</td>\n",
       "      <td>12719</td>\n",
       "      <td>11560</td>\n",
       "      <td>301</td>\n",
       "      <td>690</td>\n",
       "      <td>62</td>\n",
       "      <td>117</td>\n",
       "      <td>139</td>\n",
       "    </tr>\n",
       "    <tr>\n",
       "      <th>1</th>\n",
       "      <td>ABPI</td>\n",
       "      <td>ACCENTIA BIOPHARMACEUTICALS INC</td>\n",
       "      <td>2834</td>\n",
       "      <td>8</td>\n",
       "      <td>10</td>\n",
       "      <td>8</td>\n",
       "      <td>7.25</td>\n",
       "      <td>259</td>\n",
       "      <td>0</td>\n",
       "      <td>-1.62</td>\n",
       "      <td>-0.0133516</td>\n",
       "      <td>28869196</td>\n",
       "      <td>2400000</td>\n",
       "      <td>25.936</td>\n",
       "      <td>791</td>\n",
       "      <td>21792</td>\n",
       "      <td>19585</td>\n",
       "      <td>510</td>\n",
       "      <td>1120</td>\n",
       "      <td>71</td>\n",
       "      <td>242</td>\n",
       "      <td>237</td>\n",
       "    </tr>\n",
       "    <tr>\n",
       "      <th>2</th>\n",
       "      <td>ACAD</td>\n",
       "      <td>ACADIA PHARMACEUTICALS INC</td>\n",
       "      <td>2834</td>\n",
       "      <td>7</td>\n",
       "      <td>14</td>\n",
       "      <td>12</td>\n",
       "      <td>6.7</td>\n",
       "      <td>90</td>\n",
       "      <td>1</td>\n",
       "      <td>-1.24</td>\n",
       "      <td>0.020715</td>\n",
       "      <td>16845668</td>\n",
       "      <td>5000000</td>\n",
       "      <td>7.378</td>\n",
       "      <td>201</td>\n",
       "      <td>5262</td>\n",
       "      <td>4785</td>\n",
       "      <td>128</td>\n",
       "      <td>325</td>\n",
       "      <td>61</td>\n",
       "      <td>33</td>\n",
       "      <td>60</td>\n",
       "    </tr>\n",
       "    <tr>\n",
       "      <th>3</th>\n",
       "      <td>ACHN</td>\n",
       "      <td>ACHILLION PHARMACEUTICALS INC</td>\n",
       "      <td>2834</td>\n",
       "      <td>11.5</td>\n",
       "      <td>16</td>\n",
       "      <td>14</td>\n",
       "      <td>12.39</td>\n",
       "      <td>209</td>\n",
       "      <td>1</td>\n",
       "      <td>-0.91</td>\n",
       "      <td>0.0200231</td>\n",
       "      <td>14848637</td>\n",
       "      <td>4500000</td>\n",
       "      <td>8.526</td>\n",
       "      <td>328</td>\n",
       "      <td>8259</td>\n",
       "      <td>7574</td>\n",
       "      <td>177</td>\n",
       "      <td>509</td>\n",
       "      <td>80</td>\n",
       "      <td>59</td>\n",
       "      <td>110</td>\n",
       "    </tr>\n",
       "    <tr>\n",
       "      <th>4</th>\n",
       "      <td>ACLI</td>\n",
       "      <td>AMERICAN COMMERCIAL LINES INC.</td>\n",
       "      <td>4492</td>\n",
       "      <td>21</td>\n",
       "      <td>21</td>\n",
       "      <td>19</td>\n",
       "      <td>56.6</td>\n",
       "      <td>80</td>\n",
       "      <td>1</td>\n",
       "      <td>0.07</td>\n",
       "      <td>-0.0348947</td>\n",
       "      <td>30741716</td>\n",
       "      <td>8250000</td>\n",
       "      <td>632.298</td>\n",
       "      <td>572</td>\n",
       "      <td>14830</td>\n",
       "      <td>13176</td>\n",
       "      <td>336</td>\n",
       "      <td>720</td>\n",
       "      <td>67</td>\n",
       "      <td>149</td>\n",
       "      <td>167</td>\n",
       "    </tr>\n",
       "  </tbody>\n",
       "</table>\n",
       "</div>"
      ],
      "text/plain": [
       "     I1                                  I2    I3 P(IPO) P(H) P(L) P(1Day)  \\\n",
       "0  AATI  ADVANCED ANALOGIC TECHNOLOGIES INC  3674     10  9.5  8.5   11.87   \n",
       "1  ABPI     ACCENTIA BIOPHARMACEUTICALS INC  2834      8   10    8    7.25   \n",
       "2  ACAD          ACADIA PHARMACEUTICALS INC  2834      7   14   12     6.7   \n",
       "3  ACHN       ACHILLION PHARMACEUTICALS INC  2834   11.5   16   14   12.39   \n",
       "4  ACLI     AMERICAN COMMERCIAL LINES INC.   4492     21   21   19    56.6   \n",
       "\n",
       "    C1 C2    C3         C4        C5        C6       C7   T1     T2     T3  \\\n",
       "0  122  1  3.43  0.0290743  40962052  10600000   51.345  470  12719  11560   \n",
       "1  259  0 -1.62 -0.0133516  28869196   2400000   25.936  791  21792  19585   \n",
       "2   90  1 -1.24   0.020715  16845668   5000000    7.378  201   5262   4785   \n",
       "3  209  1 -0.91  0.0200231  14848637   4500000    8.526  328   8259   7574   \n",
       "4   80  1  0.07 -0.0348947  30741716   8250000  632.298  572  14830  13176   \n",
       "\n",
       "    T4    T5  S1   S2   S3  \n",
       "0  301   690  62  117  139  \n",
       "1  510  1120  71  242  237  \n",
       "2  128   325  61   33   60  \n",
       "3  177   509  80   59  110  \n",
       "4  336   720  67  149  167  "
      ]
     },
     "execution_count": 197,
     "metadata": {},
     "output_type": "execute_result"
    }
   ],
   "source": [
    "data.head()"
   ]
  },
  {
   "cell_type": "markdown",
   "metadata": {},
   "source": [
    "# Step 1: Identify the null values"
   ]
  },
  {
   "cell_type": "code",
   "execution_count": 198,
   "metadata": {},
   "outputs": [],
   "source": [
    "for col in data.columns:\n",
    "    data[col] = data[col].apply(lambda x: np.nan if x == '-' else x)"
   ]
  },
  {
   "cell_type": "code",
   "execution_count": 206,
   "metadata": {},
   "outputs": [],
   "source": [
    "def data_validation(row):  \n",
    "    '''\n",
    "    Run initially, fix issues, then rerun until only nulls left\n",
    "    \n",
    "    Look at those which logically dont make sense and address them\n",
    "    '''\n",
    "    # If any nulls we know it's off\n",
    "    ret_val = 0\n",
    "    if row.isna().any():\n",
    "        ret_val = 1\n",
    "    \n",
    "    # P(H) > P(L)\n",
    "    #Higher range of price > lower range\n",
    "    if row['P(H)'] < row['P(L)']:\n",
    "        ret_val = 2\n",
    "    \n",
    "    # T4 < T1\n",
    "    # Number of long sentences less than number of sentences\n",
    "    elif row['T4'] > row['T1']:\n",
    "        ret_val = 3\n",
    "    \n",
    "    # C2, C3' in [0,1]\n",
    "    # Defined as only being one of these two\n",
    "    elif row['C2'] not in [0.0,1.0] and pd.notnull(row['C2']):\n",
    "        ret_val = 4\n",
    "    \n",
    "    # P(1Day) in range(P(L), P(H))\n",
    "    # 1st day price within lower and upper bounds\n",
    "#     elif (row['P(1Day)'] < row['P(L)']) or(row['P(1Day)'] > row['P(H)']):\n",
    "#         return 5\n",
    "    \n",
    "    return ret_val\n",
    "    "
   ]
  },
  {
   "cell_type": "code",
   "execution_count": 200,
   "metadata": {},
   "outputs": [],
   "source": [
    "data['data_updated'] = data.apply(lambda row: data_validation(row), axis = 1)"
   ]
  },
  {
   "cell_type": "code",
   "execution_count": 201,
   "metadata": {},
   "outputs": [
    {
     "data": {
      "text/plain": [
       "0    592\n",
       "1     87\n",
       "2      2\n",
       "3      1\n",
       "Name: data_updated, dtype: int64"
      ]
     },
     "execution_count": 201,
     "metadata": {},
     "output_type": "execute_result"
    }
   ],
   "source": [
    "data.data_updated.value_counts()"
   ]
  },
  {
   "cell_type": "code",
   "execution_count": 202,
   "metadata": {},
   "outputs": [],
   "source": [
    "data.loc[data['data_updated'] == 2, ['P(H)','P(L)']] = np.nan"
   ]
  },
  {
   "cell_type": "code",
   "execution_count": 203,
   "metadata": {},
   "outputs": [],
   "source": [
    "data.loc[data['data_updated'] == 3, ['T4','T1']] = np.nan"
   ]
  },
  {
   "cell_type": "code",
   "execution_count": 204,
   "metadata": {},
   "outputs": [],
   "source": [
    "data['data_updated'] = data.apply(lambda row: data_validation(row), axis = 1)"
   ]
  },
  {
   "cell_type": "code",
   "execution_count": 205,
   "metadata": {},
   "outputs": [
    {
     "data": {
      "text/plain": [
       "0    592\n",
       "1     90\n",
       "Name: data_updated, dtype: int64"
      ]
     },
     "execution_count": 205,
     "metadata": {},
     "output_type": "execute_result"
    }
   ],
   "source": [
    "data.data_updated.value_counts()"
   ]
  },
  {
   "cell_type": "markdown",
   "metadata": {},
   "source": [
    "Now only issue left is the null values which we can address through imputation and also have a column showing those which we need to fix in some way either through logic checks or imputation"
   ]
  },
  {
   "cell_type": "code",
   "execution_count": null,
   "metadata": {},
   "outputs": [],
   "source": []
  },
  {
   "cell_type": "markdown",
   "metadata": {},
   "source": [
    "# Step 2: Descriptive Statistics\n",
    "- Mean/median/std/min/max/count/quartiles\n",
    "- Missing Records\n",
    "- Outlier Identification\n",
    "    - Address Outliers\n",
    "- Data Types/Fix data types"
   ]
  },
  {
   "cell_type": "code",
   "execution_count": 207,
   "metadata": {},
   "outputs": [
    {
     "data": {
      "text/html": [
       "<div>\n",
       "<style scoped>\n",
       "    .dataframe tbody tr th:only-of-type {\n",
       "        vertical-align: middle;\n",
       "    }\n",
       "\n",
       "    .dataframe tbody tr th {\n",
       "        vertical-align: top;\n",
       "    }\n",
       "\n",
       "    .dataframe thead th {\n",
       "        text-align: right;\n",
       "    }\n",
       "</style>\n",
       "<table border=\"1\" class=\"dataframe\">\n",
       "  <thead>\n",
       "    <tr style=\"text-align: right;\">\n",
       "      <th></th>\n",
       "      <th>P(IPO)</th>\n",
       "      <th>P(H)</th>\n",
       "      <th>P(L)</th>\n",
       "      <th>P(1Day)</th>\n",
       "      <th>C1</th>\n",
       "      <th>C2</th>\n",
       "      <th>C3</th>\n",
       "      <th>C4</th>\n",
       "      <th>C5</th>\n",
       "      <th>C6</th>\n",
       "      <th>C7</th>\n",
       "      <th>T1</th>\n",
       "      <th>T2</th>\n",
       "      <th>T3</th>\n",
       "      <th>T4</th>\n",
       "      <th>T5</th>\n",
       "      <th>S1</th>\n",
       "      <th>S2</th>\n",
       "      <th>S3</th>\n",
       "      <th>data_updated</th>\n",
       "    </tr>\n",
       "  </thead>\n",
       "  <tbody>\n",
       "    <tr>\n",
       "      <th>count</th>\n",
       "      <td>677.000000</td>\n",
       "      <td>670.000000</td>\n",
       "      <td>670.000000</td>\n",
       "      <td>660.000000</td>\n",
       "      <td>660.000000</td>\n",
       "      <td>660.000000</td>\n",
       "      <td>646.000000</td>\n",
       "      <td>660.000000</td>\n",
       "      <td>6.760000e+02</td>\n",
       "      <td>6.760000e+02</td>\n",
       "      <td>610.000000</td>\n",
       "      <td>680.000000</td>\n",
       "      <td>681.000000</td>\n",
       "      <td>681.000000</td>\n",
       "      <td>680.000000</td>\n",
       "      <td>681.000000</td>\n",
       "      <td>681.000000</td>\n",
       "      <td>681.000000</td>\n",
       "      <td>681.000000</td>\n",
       "      <td>682.000000</td>\n",
       "    </tr>\n",
       "    <tr>\n",
       "      <th>mean</th>\n",
       "      <td>13.837666</td>\n",
       "      <td>15.522925</td>\n",
       "      <td>13.527030</td>\n",
       "      <td>25.934766</td>\n",
       "      <td>149.728788</td>\n",
       "      <td>0.859091</td>\n",
       "      <td>1.788904</td>\n",
       "      <td>0.007282</td>\n",
       "      <td>4.935776e+07</td>\n",
       "      <td>1.241519e+07</td>\n",
       "      <td>500.459962</td>\n",
       "      <td>465.957353</td>\n",
       "      <td>12758.606461</td>\n",
       "      <td>11395.844347</td>\n",
       "      <td>294.264706</td>\n",
       "      <td>679.220264</td>\n",
       "      <td>68.421439</td>\n",
       "      <td>120.104258</td>\n",
       "      <td>144.759178</td>\n",
       "      <td>0.131965</td>\n",
       "    </tr>\n",
       "    <tr>\n",
       "      <th>std</th>\n",
       "      <td>6.053731</td>\n",
       "      <td>6.618732</td>\n",
       "      <td>5.839649</td>\n",
       "      <td>73.234948</td>\n",
       "      <td>152.817467</td>\n",
       "      <td>0.348192</td>\n",
       "      <td>162.666532</td>\n",
       "      <td>0.033318</td>\n",
       "      <td>1.043764e+08</td>\n",
       "      <td>2.512855e+07</td>\n",
       "      <td>1648.337634</td>\n",
       "      <td>175.668619</td>\n",
       "      <td>5449.644597</td>\n",
       "      <td>4839.670179</td>\n",
       "      <td>121.599795</td>\n",
       "      <td>472.914323</td>\n",
       "      <td>39.096525</td>\n",
       "      <td>84.828959</td>\n",
       "      <td>69.276285</td>\n",
       "      <td>0.338701</td>\n",
       "    </tr>\n",
       "    <tr>\n",
       "      <th>min</th>\n",
       "      <td>3.000000</td>\n",
       "      <td>4.000000</td>\n",
       "      <td>3.000000</td>\n",
       "      <td>0.000000</td>\n",
       "      <td>10.000000</td>\n",
       "      <td>0.000000</td>\n",
       "      <td>-786.239000</td>\n",
       "      <td>-0.162352</td>\n",
       "      <td>3.693227e+06</td>\n",
       "      <td>5.250000e+05</td>\n",
       "      <td>0.074000</td>\n",
       "      <td>132.000000</td>\n",
       "      <td>0.000000</td>\n",
       "      <td>0.000000</td>\n",
       "      <td>0.000000</td>\n",
       "      <td>-1.000000</td>\n",
       "      <td>-1.000000</td>\n",
       "      <td>20.000000</td>\n",
       "      <td>26.000000</td>\n",
       "      <td>0.000000</td>\n",
       "    </tr>\n",
       "    <tr>\n",
       "      <th>25%</th>\n",
       "      <td>10.000000</td>\n",
       "      <td>13.000000</td>\n",
       "      <td>11.000000</td>\n",
       "      <td>11.000000</td>\n",
       "      <td>85.000000</td>\n",
       "      <td>1.000000</td>\n",
       "      <td>-0.852500</td>\n",
       "      <td>-0.013927</td>\n",
       "      <td>1.871417e+07</td>\n",
       "      <td>5.000000e+06</td>\n",
       "      <td>37.245750</td>\n",
       "      <td>351.750000</td>\n",
       "      <td>9195.000000</td>\n",
       "      <td>8162.000000</td>\n",
       "      <td>212.750000</td>\n",
       "      <td>462.000000</td>\n",
       "      <td>45.000000</td>\n",
       "      <td>73.000000</td>\n",
       "      <td>100.000000</td>\n",
       "      <td>0.000000</td>\n",
       "    </tr>\n",
       "    <tr>\n",
       "      <th>50%</th>\n",
       "      <td>13.500000</td>\n",
       "      <td>15.000000</td>\n",
       "      <td>13.000000</td>\n",
       "      <td>14.845000</td>\n",
       "      <td>107.000000</td>\n",
       "      <td>1.000000</td>\n",
       "      <td>0.010000</td>\n",
       "      <td>0.009125</td>\n",
       "      <td>2.740018e+07</td>\n",
       "      <td>7.398704e+06</td>\n",
       "      <td>103.833000</td>\n",
       "      <td>444.500000</td>\n",
       "      <td>12045.000000</td>\n",
       "      <td>10785.000000</td>\n",
       "      <td>279.000000</td>\n",
       "      <td>624.000000</td>\n",
       "      <td>60.000000</td>\n",
       "      <td>100.000000</td>\n",
       "      <td>134.000000</td>\n",
       "      <td>0.000000</td>\n",
       "    </tr>\n",
       "    <tr>\n",
       "      <th>75%</th>\n",
       "      <td>17.000000</td>\n",
       "      <td>17.000000</td>\n",
       "      <td>15.000000</td>\n",
       "      <td>20.485000</td>\n",
       "      <td>155.250000</td>\n",
       "      <td>1.000000</td>\n",
       "      <td>0.470000</td>\n",
       "      <td>0.031571</td>\n",
       "      <td>4.980786e+07</td>\n",
       "      <td>1.200000e+07</td>\n",
       "      <td>331.138000</td>\n",
       "      <td>551.250000</td>\n",
       "      <td>15241.000000</td>\n",
       "      <td>13760.000000</td>\n",
       "      <td>353.250000</td>\n",
       "      <td>795.000000</td>\n",
       "      <td>85.000000</td>\n",
       "      <td>142.000000</td>\n",
       "      <td>173.000000</td>\n",
       "      <td>0.000000</td>\n",
       "    </tr>\n",
       "    <tr>\n",
       "      <th>max</th>\n",
       "      <td>85.000000</td>\n",
       "      <td>135.000000</td>\n",
       "      <td>108.000000</td>\n",
       "      <td>1159.200562</td>\n",
       "      <td>2087.000000</td>\n",
       "      <td>1.000000</td>\n",
       "      <td>3864.500000</td>\n",
       "      <td>0.092896</td>\n",
       "      <td>2.138085e+09</td>\n",
       "      <td>4.212336e+08</td>\n",
       "      <td>30683.000000</td>\n",
       "      <td>1750.000000</td>\n",
       "      <td>49056.000000</td>\n",
       "      <td>43952.000000</td>\n",
       "      <td>1058.000000</td>\n",
       "      <td>10277.000000</td>\n",
       "      <td>309.000000</td>\n",
       "      <td>944.000000</td>\n",
       "      <td>883.000000</td>\n",
       "      <td>1.000000</td>\n",
       "    </tr>\n",
       "  </tbody>\n",
       "</table>\n",
       "</div>"
      ],
      "text/plain": [
       "           P(IPO)        P(H)        P(L)      P(1Day)           C1  \\\n",
       "count  677.000000  670.000000  670.000000   660.000000   660.000000   \n",
       "mean    13.837666   15.522925   13.527030    25.934766   149.728788   \n",
       "std      6.053731    6.618732    5.839649    73.234948   152.817467   \n",
       "min      3.000000    4.000000    3.000000     0.000000    10.000000   \n",
       "25%     10.000000   13.000000   11.000000    11.000000    85.000000   \n",
       "50%     13.500000   15.000000   13.000000    14.845000   107.000000   \n",
       "75%     17.000000   17.000000   15.000000    20.485000   155.250000   \n",
       "max     85.000000  135.000000  108.000000  1159.200562  2087.000000   \n",
       "\n",
       "               C2           C3          C4            C5            C6  \\\n",
       "count  660.000000   646.000000  660.000000  6.760000e+02  6.760000e+02   \n",
       "mean     0.859091     1.788904    0.007282  4.935776e+07  1.241519e+07   \n",
       "std      0.348192   162.666532    0.033318  1.043764e+08  2.512855e+07   \n",
       "min      0.000000  -786.239000   -0.162352  3.693227e+06  5.250000e+05   \n",
       "25%      1.000000    -0.852500   -0.013927  1.871417e+07  5.000000e+06   \n",
       "50%      1.000000     0.010000    0.009125  2.740018e+07  7.398704e+06   \n",
       "75%      1.000000     0.470000    0.031571  4.980786e+07  1.200000e+07   \n",
       "max      1.000000  3864.500000    0.092896  2.138085e+09  4.212336e+08   \n",
       "\n",
       "                 C7           T1            T2            T3           T4  \\\n",
       "count    610.000000   680.000000    681.000000    681.000000   680.000000   \n",
       "mean     500.459962   465.957353  12758.606461  11395.844347   294.264706   \n",
       "std     1648.337634   175.668619   5449.644597   4839.670179   121.599795   \n",
       "min        0.074000   132.000000      0.000000      0.000000     0.000000   \n",
       "25%       37.245750   351.750000   9195.000000   8162.000000   212.750000   \n",
       "50%      103.833000   444.500000  12045.000000  10785.000000   279.000000   \n",
       "75%      331.138000   551.250000  15241.000000  13760.000000   353.250000   \n",
       "max    30683.000000  1750.000000  49056.000000  43952.000000  1058.000000   \n",
       "\n",
       "                 T5          S1          S2          S3  data_updated  \n",
       "count    681.000000  681.000000  681.000000  681.000000    682.000000  \n",
       "mean     679.220264   68.421439  120.104258  144.759178      0.131965  \n",
       "std      472.914323   39.096525   84.828959   69.276285      0.338701  \n",
       "min       -1.000000   -1.000000   20.000000   26.000000      0.000000  \n",
       "25%      462.000000   45.000000   73.000000  100.000000      0.000000  \n",
       "50%      624.000000   60.000000  100.000000  134.000000      0.000000  \n",
       "75%      795.000000   85.000000  142.000000  173.000000      0.000000  \n",
       "max    10277.000000  309.000000  944.000000  883.000000      1.000000  "
      ]
     },
     "execution_count": 207,
     "metadata": {},
     "output_type": "execute_result"
    }
   ],
   "source": [
    "data.describe()"
   ]
  },
  {
   "cell_type": "markdown",
   "metadata": {},
   "source": [
    "Counts of null values"
   ]
  },
  {
   "cell_type": "code",
   "execution_count": 208,
   "metadata": {},
   "outputs": [
    {
     "data": {
      "text/plain": [
       "I1               0\n",
       "I2               0\n",
       "I3               8\n",
       "P(IPO)           5\n",
       "P(H)            12\n",
       "P(L)            12\n",
       "P(1Day)         22\n",
       "C1              22\n",
       "C2              22\n",
       "C3              36\n",
       "C4              22\n",
       "C5               6\n",
       "C6               6\n",
       "C7              72\n",
       "T1               2\n",
       "T2               1\n",
       "T3               1\n",
       "T4               2\n",
       "T5               1\n",
       "S1               1\n",
       "S2               1\n",
       "S3               1\n",
       "data_updated     0\n",
       "dtype: int64"
      ]
     },
     "execution_count": 208,
     "metadata": {},
     "output_type": "execute_result"
    }
   ],
   "source": [
    "pd.isna(data).sum()"
   ]
  },
  {
   "cell_type": "markdown",
   "metadata": {},
   "source": [
    "Data Types"
   ]
  },
  {
   "cell_type": "code",
   "execution_count": 209,
   "metadata": {},
   "outputs": [
    {
     "data": {
      "text/plain": [
       "I1               object\n",
       "I2               object\n",
       "I3               object\n",
       "P(IPO)          float64\n",
       "P(H)            float64\n",
       "P(L)            float64\n",
       "P(1Day)         float64\n",
       "C1              float64\n",
       "C2              float64\n",
       "C3              float64\n",
       "C4              float64\n",
       "C5              float64\n",
       "C6              float64\n",
       "C7              float64\n",
       "T1              float64\n",
       "T2              float64\n",
       "T3              float64\n",
       "T4              float64\n",
       "T5              float64\n",
       "S1              float64\n",
       "S2              float64\n",
       "S3              float64\n",
       "data_updated      int64\n",
       "dtype: object"
      ]
     },
     "execution_count": 209,
     "metadata": {},
     "output_type": "execute_result"
    }
   ],
   "source": [
    "data.dtypes"
   ]
  },
  {
   "cell_type": "markdown",
   "metadata": {},
   "source": [
    "Box Plots"
   ]
  },
  {
   "cell_type": "markdown",
   "metadata": {},
   "source": [
    "Top level view"
   ]
  },
  {
   "cell_type": "code",
   "execution_count": 210,
   "metadata": {},
   "outputs": [
    {
     "data": {
      "image/png": "[encoded data removed]",
      "text/plain": [
       "<Figure size 432x288 with 1 Axes>"
      ]
     },
     "metadata": {
      "needs_background": "light"
     },
     "output_type": "display_data"
    }
   ],
   "source": [
    "data[[i for i in data.columns if i not in ['I1','I2','I3','C5','C6']]].boxplot()\n",
    "plt.show()"
   ]
  },
  {
   "cell_type": "markdown",
   "metadata": {},
   "source": [
    "More specific per field"
   ]
  },
  {
   "cell_type": "code",
   "execution_count": 211,
   "metadata": {},
   "outputs": [
    {
     "data": {
      "image/png": "[encoded data removed]",
      "text/plain": [
       "<Figure size 432x288 with 1 Axes>"
      ]
     },
     "metadata": {
      "needs_background": "light"
     },
     "output_type": "display_data"
    },
    {
     "data": {
      "image/png": "[encoded data removed]",
      "text/plain": [
       "<Figure size 432x288 with 1 Axes>"
      ]
     },
     "metadata": {
      "needs_background": "light"
     },
     "output_type": "display_data"
    },
    {
     "data": {
      "image/png": "[encoded data removed]",
      "text/plain": [
       "<Figure size 432x288 with 1 Axes>"
      ]
     },
     "metadata": {
      "needs_background": "light"
     },
     "output_type": "display_data"
    },
    {
     "data": {
      "image/png": "[encoded data removed]",
      "text/plain": [
       "<Figure size 432x288 with 1 Axes>"
      ]
     },
     "metadata": {
      "needs_background": "light"
     },
     "output_type": "display_data"
    },
    {
     "data": {
      "image/png": "[encoded data removed]",
      "text/plain": [
       "<Figure size 432x288 with 1 Axes>"
      ]
     },
     "metadata": {
      "needs_background": "light"
     },
     "output_type": "display_data"
    },
    {
     "data": {
      "image/png": "[encoded data removed]",
      "text/plain": [
       "<Figure size 432x288 with 1 Axes>"
      ]
     },
     "metadata": {
      "needs_background": "light"
     },
     "output_type": "display_data"
    },
    {
     "data": {
      "image/png": "[encoded data removed]",
      "text/plain": [
       "<Figure size 432x288 with 1 Axes>"
      ]
     },
     "metadata": {
      "needs_background": "light"
     },
     "output_type": "display_data"
    },
    {
     "data": {
      "image/png": "[encoded data removed]",
      "text/plain": [
       "<Figure size 432x288 with 1 Axes>"
      ]
     },
     "metadata": {
      "needs_background": "light"
     },
     "output_type": "display_data"
    },
    {
     "data": {
      "image/png": "[encoded data removed]",
      "text/plain": [
       "<Figure size 432x288 with 1 Axes>"
      ]
     },
     "metadata": {
      "needs_background": "light"
     },
     "output_type": "display_data"
    },
    {
     "data": {
      "image/png": "[encoded data removed]",
      "text/plain": [
       "<Figure size 432x288 with 1 Axes>"
      ]
     },
     "metadata": {
      "needs_background": "light"
     },
     "output_type": "display_data"
    },
    {
     "data": {
      "image/png": "[encoded data removed]",
      "text/plain": [
       "<Figure size 432x288 with 1 Axes>"
      ]
     },
     "metadata": {
      "needs_background": "light"
     },
     "output_type": "display_data"
    },
    {
     "data": {
      "image/png": "[encoded data removed]",
      "text/plain": [
       "<Figure size 432x288 with 1 Axes>"
      ]
     },
     "metadata": {
      "needs_background": "light"
     },
     "output_type": "display_data"
    },
    {
     "data": {
      "image/png": "[encoded data removed]",
      "text/plain": [
       "<Figure size 432x288 with 1 Axes>"
      ]
     },
     "metadata": {
      "needs_background": "light"
     },
     "output_type": "display_data"
    },
    {
     "data": {
      "image/png": "[encoded data removed]",
      "text/plain": [
       "<Figure size 432x288 with 1 Axes>"
      ]
     },
     "metadata": {
      "needs_background": "light"
     },
     "output_type": "display_data"
    },
    {
     "data": {
      "image/png": "[encoded data removed]",
      "text/plain": [
       "<Figure size 432x288 with 1 Axes>"
      ]
     },
     "metadata": {
      "needs_background": "light"
     },
     "output_type": "display_data"
    },
    {
     "data": {
      "image/png": "[encoded data removed]",
      "text/plain": [
       "<Figure size 432x288 with 1 Axes>"
      ]
     },
     "metadata": {
      "needs_background": "light"
     },
     "output_type": "display_data"
    },
    {
     "data": {
      "image/png": "[encoded data removed]",
      "text/plain": [
       "<Figure size 432x288 with 1 Axes>"
      ]
     },
     "metadata": {
      "needs_background": "light"
     },
     "output_type": "display_data"
    },
    {
     "data": {
      "image/png": "[encoded data removed]",
      "text/plain": [
       "<Figure size 432x288 with 1 Axes>"
      ]
     },
     "metadata": {
      "needs_background": "light"
     },
     "output_type": "display_data"
    },
    {
     "data": {
      "image/png": "[encoded data removed]",
      "text/plain": [
       "<Figure size 432x288 with 1 Axes>"
      ]
     },
     "metadata": {
      "needs_background": "light"
     },
     "output_type": "display_data"
    },
    {
     "data": {
      "image/png": "[encoded data removed]",
      "text/plain": [
       "<Figure size 432x288 with 1 Axes>"
      ]
     },
     "metadata": {
      "needs_background": "light"
     },
     "output_type": "display_data"
    }
   ],
   "source": [
    "for col in [i for i in data.columns if i not in ['I1','I2','I3']]:\n",
    "    data[[col]].boxplot()\n",
    "    plt.show()"
   ]
  },
  {
   "cell_type": "markdown",
   "metadata": {},
   "source": [
    "Seems to be a lot of strange data here, update those at far ends of the spectrum"
   ]
  },
  {
   "cell_type": "code",
   "execution_count": 231,
   "metadata": {},
   "outputs": [],
   "source": [
    "# #Only plot numberical columns so drop non-numerical\n",
    "# for col in data.drop(['I1','I2','I3'],axis=1).columns:\n",
    "#     print(\"Column: \", col)\n",
    "    \n",
    "#     #Create Histograms\n",
    "#     data[col].hist()\n",
    "#     plt.xlabel(col)\n",
    "#     plt.title('Histogram')\n",
    "#     plt.show()\n",
    "    \n",
    "#     #Find outliers within 2 standard deviations of mean\n",
    "#     outliers_low = (data[col].mean() - 3*data[col].std())\n",
    "#     outliers_high = (data[col].mean() + 3*data[col].std())\n",
    "    \n",
    "#     #Print outlier values and counts of how many outliers\n",
    "#     print(\"outliers low value <\", outliers_low)\n",
    "#     print(\"outlier low count: \", data[col][data[col] < outliers_low].count())\n",
    "#     print(\"outliers high value >\", outliers_high) \n",
    "#     print(\"outlier high count: \", data[col][data[col] > outliers_high].count())\n",
    "#     print('\\n')"
   ]
  },
  {
   "cell_type": "code",
   "execution_count": null,
   "metadata": {},
   "outputs": [],
   "source": []
  },
  {
   "cell_type": "code",
   "execution_count": null,
   "metadata": {},
   "outputs": [],
   "source": []
  },
  {
   "cell_type": "code",
   "execution_count": null,
   "metadata": {},
   "outputs": [],
   "source": []
  },
  {
   "cell_type": "markdown",
   "metadata": {},
   "source": [
    "# Step 3: Data Imputation\n",
    "- Address null values dependent on the type of value in question\n",
    "- Create a seperate column which shows whether or not imputation occurred"
   ]
  },
  {
   "cell_type": "code",
   "execution_count": 281,
   "metadata": {},
   "outputs": [],
   "source": [
    "def impute_nulls_df(df, col, replace_val):\n",
    "    '''\n",
    "    params:\n",
    "    \n",
    "    df - dataframe containing nulls\n",
    "    col - columns with nulls to replace\n",
    "    replace_val - options: 'mean', 'median', 'mode'\n",
    "    \n",
    "    Example:\n",
    "\n",
    "    imputed_data = impute_nulls(data, C1, 'mean')\n",
    "    '''\n",
    "    \n",
    "    if replace_val not in ['mean','median','mode']:\n",
    "        print('requires one of the following: mean, median, mode')\n",
    "        return\n",
    "    \n",
    "    elif replace_val == 'mean':\n",
    "        df[col + '_imputed'] = df[col].fillna(df[col].mean())\n",
    "    elif replace_val == 'median':\n",
    "        df[col + '_imputed'] = df[col].fillna(df[col].median())\n",
    "    else:\n",
    "        df[col + '_imputed'] = df[col].fillna(df[col].mode())\n",
    "        \n",
    "    return df"
   ]
  },
  {
   "cell_type": "markdown",
   "metadata": {},
   "source": [
    "Create a dictionary for each value with the column and the type of imputation. Can then use a loop and the function above to impute them all."
   ]
  },
  {
   "cell_type": "markdown",
   "metadata": {},
   "source": [
    "Reminder of columns which need imputation"
   ]
  },
  {
   "cell_type": "code",
   "execution_count": 232,
   "metadata": {},
   "outputs": [
    {
     "data": {
      "text/plain": [
       "I3          8\n",
       "P(IPO)      5\n",
       "P(H)       12\n",
       "P(L)       12\n",
       "P(1Day)    22\n",
       "C1         22\n",
       "C2         22\n",
       "C3         36\n",
       "C4         22\n",
       "C5          6\n",
       "C6          6\n",
       "C7         72\n",
       "T1          2\n",
       "T2          1\n",
       "T3          1\n",
       "T4          2\n",
       "T5          1\n",
       "S1          1\n",
       "S2          1\n",
       "S3          1\n",
       "dtype: int64"
      ]
     },
     "execution_count": 232,
     "metadata": {},
     "output_type": "execute_result"
    }
   ],
   "source": [
    "null_cols = pd.isna(data).sum()\n",
    "null_cols = null_cols[null_cols.values != 0]\n",
    "null_cols"
   ]
  },
  {
   "cell_type": "markdown",
   "metadata": {},
   "source": [
    "Look at histograms to get a better view of what to do for each"
   ]
  },
  {
   "cell_type": "code",
   "execution_count": 279,
   "metadata": {},
   "outputs": [
    {
     "data": {
      "image/png": "[encoded data removed]",
      "text/plain": [
       "<Figure size 432x288 with 1 Axes>"
      ]
     },
     "metadata": {
      "needs_background": "light"
     },
     "output_type": "display_data"
    },
    {
     "data": {
      "image/png": "[encoded data removed]",
      "text/plain": [
       "<Figure size 432x288 with 1 Axes>"
      ]
     },
     "metadata": {
      "needs_background": "light"
     },
     "output_type": "display_data"
    },
    {
     "data": {
      "image/png": "[encoded data removed]",
      "text/plain": [
       "<Figure size 432x288 with 1 Axes>"
      ]
     },
     "metadata": {
      "needs_background": "light"
     },
     "output_type": "display_data"
    },
    {
     "data": {
      "image/png": "[encoded data removed]",
      "text/plain": [
       "<Figure size 432x288 with 1 Axes>"
      ]
     },
     "metadata": {
      "needs_background": "light"
     },
     "output_type": "display_data"
    },
    {
     "data": {
      "image/png": "[encoded data removed]",
      "text/plain": [
       "<Figure size 432x288 with 1 Axes>"
      ]
     },
     "metadata": {
      "needs_background": "light"
     },
     "output_type": "display_data"
    },
    {
     "data": {
      "image/png": "[encoded data removed]",
      "text/plain": [
       "<Figure size 432x288 with 1 Axes>"
      ]
     },
     "metadata": {
      "needs_background": "light"
     },
     "output_type": "display_data"
    },
    {
     "data": {
      "image/png": "[encoded data removed]",
      "text/plain": [
       "<Figure size 432x288 with 1 Axes>"
      ]
     },
     "metadata": {
      "needs_background": "light"
     },
     "output_type": "display_data"
    },
    {
     "data": {
      "image/png": "[encoded data removed]",
      "text/plain": [
       "<Figure size 432x288 with 1 Axes>"
      ]
     },
     "metadata": {
      "needs_background": "light"
     },
     "output_type": "display_data"
    },
    {
     "data": {
      "image/png": "[encoded data removed]",
      "text/plain": [
       "<Figure size 432x288 with 1 Axes>"
      ]
     },
     "metadata": {
      "needs_background": "light"
     },
     "output_type": "display_data"
    },
    {
     "data": {
      "image/png": "[encoded data removed]",
      "text/plain": [
       "<Figure size 432x288 with 1 Axes>"
      ]
     },
     "metadata": {
      "needs_background": "light"
     },
     "output_type": "display_data"
    },
    {
     "data": {
      "image/png": "[encoded data removed]",
      "text/plain": [
       "<Figure size 432x288 with 1 Axes>"
      ]
     },
     "metadata": {
      "needs_background": "light"
     },
     "output_type": "display_data"
    },
    {
     "data": {
      "image/png": "[encoded data removed]",
      "text/plain": [
       "<Figure size 432x288 with 1 Axes>"
      ]
     },
     "metadata": {
      "needs_background": "light"
     },
     "output_type": "display_data"
    },
    {
     "data": {
      "image/png": "[encoded data removed]",
      "text/plain": [
       "<Figure size 432x288 with 1 Axes>"
      ]
     },
     "metadata": {
      "needs_background": "light"
     },
     "output_type": "display_data"
    },
    {
     "data": {
      "image/png": "[encoded data removed]",
      "text/plain": [
       "<Figure size 432x288 with 1 Axes>"
      ]
     },
     "metadata": {
      "needs_background": "light"
     },
     "output_type": "display_data"
    },
    {
     "data": {
      "image/png": "[encoded data removed]",
      "text/plain": [
       "<Figure size 432x288 with 1 Axes>"
      ]
     },
     "metadata": {
      "needs_background": "light"
     },
     "output_type": "display_data"
    },
    {
     "data": {
      "image/png": "[encoded data removed]",
      "text/plain": [
       "<Figure size 432x288 with 1 Axes>"
      ]
     },
     "metadata": {
      "needs_background": "light"
     },
     "output_type": "display_data"
    },
    {
     "data": {
      "image/png": "[encoded data removed]",
      "text/plain": [
       "<Figure size 432x288 with 1 Axes>"
      ]
     },
     "metadata": {
      "needs_background": "light"
     },
     "output_type": "display_data"
    },
    {
     "data": {
      "image/png": "[encoded data removed]",
      "text/plain": [
       "<Figure size 432x288 with 1 Axes>"
      ]
     },
     "metadata": {
      "needs_background": "light"
     },
     "output_type": "display_data"
    },
    {
     "data": {
      "image/png": "[encoded data removed]",
      "text/plain": [
       "<Figure size 432x288 with 1 Axes>"
      ]
     },
     "metadata": {
      "needs_background": "light"
     },
     "output_type": "display_data"
    }
   ],
   "source": [
    "#Only plot numerical columns so drop non-numerical\n",
    "for col in [i for i in list(null_cols.index) if i != 'I3']:\n",
    "    #Create Histograms\n",
    "    data[col].hist()\n",
    "    #plt.xlabel(col)\n",
    "    plt.title(col)\n",
    "    plt.axvline(data[col].mean(), color = 'red')\n",
    "    plt.axvline(data[col].median(), color = 'green')\n",
    "    plt.show()"
   ]
  },
  {
   "cell_type": "code",
   "execution_count": 271,
   "metadata": {},
   "outputs": [
    {
     "data": {
      "text/plain": [
       "Index(['P(IPO)', 'P(H)', 'P(L)', 'P(1Day)', 'C1', 'C2', 'C3', 'C4', 'C5', 'C6',\n",
       "       'C7', 'T1', 'T2', 'T3', 'T4', 'T5', 'S1', 'S2', 'S3'],\n",
       "      dtype='object')"
      ]
     },
     "execution_count": 271,
     "metadata": {},
     "output_type": "execute_result"
    }
   ],
   "source": [
    "null_cols.index[1:]"
   ]
  },
  {
   "cell_type": "code",
   "execution_count": 282,
   "metadata": {},
   "outputs": [],
   "source": [
    "# There are a lot of heavy outliers in the dataset, so median is used for many imputations\n",
    "\n",
    "imputing = {\n",
    "    'P(IPO)': 'mean',\n",
    "    'P(H)': 'median',\n",
    "    'P(L)': 'median',\n",
    "    'P(1Day)': 'median',\n",
    "    'C1': 'mean',\n",
    "    'C2': 'mean',\n",
    "    'C3': 'median',\n",
    "    'C4': 'mean',\n",
    "    'C5': 'mean',\n",
    "    'C6': 'mean',\n",
    "    'C7': 'mean',\n",
    "    'T1': 'mean',\n",
    "    'T2': 'mean',\n",
    "    'T3': 'mean',\n",
    "    'T4': 'mean',\n",
    "    'T5': 'mean',\n",
    "    'S1': 'mean',\n",
    "    'S2': 'mean',\n",
    "    'S3': 'mean'\n",
    "    ''\n",
    "}\n",
    "\n",
    "data_w_imputed = data.copy()\n",
    "\n",
    "for key in imputing.keys():\n",
    "    data_w_imputed = impute_nulls_df(data_w_imputed, key, imputing[key])"
   ]
  },
  {
   "cell_type": "markdown",
   "metadata": {},
   "source": [
    "Now there are new imputed columns at the end of the dataframe"
   ]
  },
  {
   "cell_type": "code",
   "execution_count": 283,
   "metadata": {},
   "outputs": [
    {
     "data": {
      "text/html": [
       "<div>\n",
       "<style scoped>\n",
       "    .dataframe tbody tr th:only-of-type {\n",
       "        vertical-align: middle;\n",
       "    }\n",
       "\n",
       "    .dataframe tbody tr th {\n",
       "        vertical-align: top;\n",
       "    }\n",
       "\n",
       "    .dataframe thead th {\n",
       "        text-align: right;\n",
       "    }\n",
       "</style>\n",
       "<table border=\"1\" class=\"dataframe\">\n",
       "  <thead>\n",
       "    <tr style=\"text-align: right;\">\n",
       "      <th></th>\n",
       "      <th>I1</th>\n",
       "      <th>I2</th>\n",
       "      <th>I3</th>\n",
       "      <th>P(IPO)</th>\n",
       "      <th>P(H)</th>\n",
       "      <th>P(L)</th>\n",
       "      <th>P(1Day)</th>\n",
       "      <th>C1</th>\n",
       "      <th>C2</th>\n",
       "      <th>C3</th>\n",
       "      <th>C4</th>\n",
       "      <th>C5</th>\n",
       "      <th>C6</th>\n",
       "      <th>C7</th>\n",
       "      <th>T1</th>\n",
       "      <th>T2</th>\n",
       "      <th>T3</th>\n",
       "      <th>T4</th>\n",
       "      <th>T5</th>\n",
       "      <th>S1</th>\n",
       "      <th>S2</th>\n",
       "      <th>S3</th>\n",
       "      <th>data_updated</th>\n",
       "      <th>P(IPO)_imputed</th>\n",
       "      <th>P(H)_imputed</th>\n",
       "      <th>P(L)_imputed</th>\n",
       "      <th>P(1Day)_imputed</th>\n",
       "      <th>C1_imputed</th>\n",
       "      <th>C2_imputed</th>\n",
       "      <th>C3_imputed</th>\n",
       "      <th>C4_imputed</th>\n",
       "      <th>C5_imputed</th>\n",
       "      <th>C6_imputed</th>\n",
       "      <th>C7_imputed</th>\n",
       "      <th>T1_imputed</th>\n",
       "      <th>T2_imputed</th>\n",
       "      <th>T3_imputed</th>\n",
       "      <th>T4_imputed</th>\n",
       "      <th>T5_imputed</th>\n",
       "      <th>S1_imputed</th>\n",
       "      <th>S2_imputed</th>\n",
       "      <th>S3_imputed</th>\n",
       "    </tr>\n",
       "  </thead>\n",
       "  <tbody>\n",
       "    <tr>\n",
       "      <th>0</th>\n",
       "      <td>AATI</td>\n",
       "      <td>ADVANCED ANALOGIC TECHNOLOGIES INC</td>\n",
       "      <td>3674</td>\n",
       "      <td>10.0</td>\n",
       "      <td>9.5</td>\n",
       "      <td>8.5</td>\n",
       "      <td>11.870000</td>\n",
       "      <td>122.0</td>\n",
       "      <td>1.0</td>\n",
       "      <td>3.43</td>\n",
       "      <td>0.029074</td>\n",
       "      <td>40962052.0</td>\n",
       "      <td>10600000.0</td>\n",
       "      <td>51.345</td>\n",
       "      <td>470.0</td>\n",
       "      <td>12719.0</td>\n",
       "      <td>11560.0</td>\n",
       "      <td>301.0</td>\n",
       "      <td>690.0</td>\n",
       "      <td>62.0</td>\n",
       "      <td>117.0</td>\n",
       "      <td>139.0</td>\n",
       "      <td>0</td>\n",
       "      <td>10.0</td>\n",
       "      <td>9.5</td>\n",
       "      <td>8.5</td>\n",
       "      <td>11.870000</td>\n",
       "      <td>122.0</td>\n",
       "      <td>1.0</td>\n",
       "      <td>3.43</td>\n",
       "      <td>0.029074</td>\n",
       "      <td>40962052.0</td>\n",
       "      <td>10600000.0</td>\n",
       "      <td>51.345</td>\n",
       "      <td>470.0</td>\n",
       "      <td>12719.0</td>\n",
       "      <td>11560.0</td>\n",
       "      <td>301.0</td>\n",
       "      <td>690.0</td>\n",
       "      <td>62.0</td>\n",
       "      <td>117.0</td>\n",
       "      <td>139.0</td>\n",
       "    </tr>\n",
       "    <tr>\n",
       "      <th>1</th>\n",
       "      <td>ABPI</td>\n",
       "      <td>ACCENTIA BIOPHARMACEUTICALS INC</td>\n",
       "      <td>2834</td>\n",
       "      <td>8.0</td>\n",
       "      <td>10.0</td>\n",
       "      <td>8.0</td>\n",
       "      <td>7.250000</td>\n",
       "      <td>259.0</td>\n",
       "      <td>0.0</td>\n",
       "      <td>-1.62</td>\n",
       "      <td>-0.013352</td>\n",
       "      <td>28869196.0</td>\n",
       "      <td>2400000.0</td>\n",
       "      <td>25.936</td>\n",
       "      <td>791.0</td>\n",
       "      <td>21792.0</td>\n",
       "      <td>19585.0</td>\n",
       "      <td>510.0</td>\n",
       "      <td>1120.0</td>\n",
       "      <td>71.0</td>\n",
       "      <td>242.0</td>\n",
       "      <td>237.0</td>\n",
       "      <td>0</td>\n",
       "      <td>8.0</td>\n",
       "      <td>10.0</td>\n",
       "      <td>8.0</td>\n",
       "      <td>7.250000</td>\n",
       "      <td>259.0</td>\n",
       "      <td>0.0</td>\n",
       "      <td>-1.62</td>\n",
       "      <td>-0.013352</td>\n",
       "      <td>28869196.0</td>\n",
       "      <td>2400000.0</td>\n",
       "      <td>25.936</td>\n",
       "      <td>791.0</td>\n",
       "      <td>21792.0</td>\n",
       "      <td>19585.0</td>\n",
       "      <td>510.0</td>\n",
       "      <td>1120.0</td>\n",
       "      <td>71.0</td>\n",
       "      <td>242.0</td>\n",
       "      <td>237.0</td>\n",
       "    </tr>\n",
       "    <tr>\n",
       "      <th>2</th>\n",
       "      <td>ACAD</td>\n",
       "      <td>ACADIA PHARMACEUTICALS INC</td>\n",
       "      <td>2834</td>\n",
       "      <td>7.0</td>\n",
       "      <td>14.0</td>\n",
       "      <td>12.0</td>\n",
       "      <td>6.700000</td>\n",
       "      <td>90.0</td>\n",
       "      <td>1.0</td>\n",
       "      <td>-1.24</td>\n",
       "      <td>0.020715</td>\n",
       "      <td>16845668.0</td>\n",
       "      <td>5000000.0</td>\n",
       "      <td>7.378</td>\n",
       "      <td>201.0</td>\n",
       "      <td>5262.0</td>\n",
       "      <td>4785.0</td>\n",
       "      <td>128.0</td>\n",
       "      <td>325.0</td>\n",
       "      <td>61.0</td>\n",
       "      <td>33.0</td>\n",
       "      <td>60.0</td>\n",
       "      <td>0</td>\n",
       "      <td>7.0</td>\n",
       "      <td>14.0</td>\n",
       "      <td>12.0</td>\n",
       "      <td>6.700000</td>\n",
       "      <td>90.0</td>\n",
       "      <td>1.0</td>\n",
       "      <td>-1.24</td>\n",
       "      <td>0.020715</td>\n",
       "      <td>16845668.0</td>\n",
       "      <td>5000000.0</td>\n",
       "      <td>7.378</td>\n",
       "      <td>201.0</td>\n",
       "      <td>5262.0</td>\n",
       "      <td>4785.0</td>\n",
       "      <td>128.0</td>\n",
       "      <td>325.0</td>\n",
       "      <td>61.0</td>\n",
       "      <td>33.0</td>\n",
       "      <td>60.0</td>\n",
       "    </tr>\n",
       "    <tr>\n",
       "      <th>3</th>\n",
       "      <td>ACHN</td>\n",
       "      <td>ACHILLION PHARMACEUTICALS INC</td>\n",
       "      <td>2834</td>\n",
       "      <td>11.5</td>\n",
       "      <td>16.0</td>\n",
       "      <td>14.0</td>\n",
       "      <td>12.390000</td>\n",
       "      <td>209.0</td>\n",
       "      <td>1.0</td>\n",
       "      <td>-0.91</td>\n",
       "      <td>0.020023</td>\n",
       "      <td>14848637.0</td>\n",
       "      <td>4500000.0</td>\n",
       "      <td>8.526</td>\n",
       "      <td>328.0</td>\n",
       "      <td>8259.0</td>\n",
       "      <td>7574.0</td>\n",
       "      <td>177.0</td>\n",
       "      <td>509.0</td>\n",
       "      <td>80.0</td>\n",
       "      <td>59.0</td>\n",
       "      <td>110.0</td>\n",
       "      <td>0</td>\n",
       "      <td>11.5</td>\n",
       "      <td>16.0</td>\n",
       "      <td>14.0</td>\n",
       "      <td>12.390000</td>\n",
       "      <td>209.0</td>\n",
       "      <td>1.0</td>\n",
       "      <td>-0.91</td>\n",
       "      <td>0.020023</td>\n",
       "      <td>14848637.0</td>\n",
       "      <td>4500000.0</td>\n",
       "      <td>8.526</td>\n",
       "      <td>328.0</td>\n",
       "      <td>8259.0</td>\n",
       "      <td>7574.0</td>\n",
       "      <td>177.0</td>\n",
       "      <td>509.0</td>\n",
       "      <td>80.0</td>\n",
       "      <td>59.0</td>\n",
       "      <td>110.0</td>\n",
       "    </tr>\n",
       "    <tr>\n",
       "      <th>4</th>\n",
       "      <td>ACLI</td>\n",
       "      <td>AMERICAN COMMERCIAL LINES INC.</td>\n",
       "      <td>4492</td>\n",
       "      <td>21.0</td>\n",
       "      <td>21.0</td>\n",
       "      <td>19.0</td>\n",
       "      <td>56.599998</td>\n",
       "      <td>80.0</td>\n",
       "      <td>1.0</td>\n",
       "      <td>0.07</td>\n",
       "      <td>-0.034895</td>\n",
       "      <td>30741716.0</td>\n",
       "      <td>8250000.0</td>\n",
       "      <td>632.298</td>\n",
       "      <td>572.0</td>\n",
       "      <td>14830.0</td>\n",
       "      <td>13176.0</td>\n",
       "      <td>336.0</td>\n",
       "      <td>720.0</td>\n",
       "      <td>67.0</td>\n",
       "      <td>149.0</td>\n",
       "      <td>167.0</td>\n",
       "      <td>0</td>\n",
       "      <td>21.0</td>\n",
       "      <td>21.0</td>\n",
       "      <td>19.0</td>\n",
       "      <td>56.599998</td>\n",
       "      <td>80.0</td>\n",
       "      <td>1.0</td>\n",
       "      <td>0.07</td>\n",
       "      <td>-0.034895</td>\n",
       "      <td>30741716.0</td>\n",
       "      <td>8250000.0</td>\n",
       "      <td>632.298</td>\n",
       "      <td>572.0</td>\n",
       "      <td>14830.0</td>\n",
       "      <td>13176.0</td>\n",
       "      <td>336.0</td>\n",
       "      <td>720.0</td>\n",
       "      <td>67.0</td>\n",
       "      <td>149.0</td>\n",
       "      <td>167.0</td>\n",
       "    </tr>\n",
       "  </tbody>\n",
       "</table>\n",
       "</div>"
      ],
      "text/plain": [
       "     I1                                  I2    I3  P(IPO)  P(H)  P(L)  \\\n",
       "0  AATI  ADVANCED ANALOGIC TECHNOLOGIES INC  3674    10.0   9.5   8.5   \n",
       "1  ABPI     ACCENTIA BIOPHARMACEUTICALS INC  2834     8.0  10.0   8.0   \n",
       "2  ACAD          ACADIA PHARMACEUTICALS INC  2834     7.0  14.0  12.0   \n",
       "3  ACHN       ACHILLION PHARMACEUTICALS INC  2834    11.5  16.0  14.0   \n",
       "4  ACLI     AMERICAN COMMERCIAL LINES INC.   4492    21.0  21.0  19.0   \n",
       "\n",
       "     P(1Day)     C1   C2    C3        C4          C5          C6       C7  \\\n",
       "0  11.870000  122.0  1.0  3.43  0.029074  40962052.0  10600000.0   51.345   \n",
       "1   7.250000  259.0  0.0 -1.62 -0.013352  28869196.0   2400000.0   25.936   \n",
       "2   6.700000   90.0  1.0 -1.24  0.020715  16845668.0   5000000.0    7.378   \n",
       "3  12.390000  209.0  1.0 -0.91  0.020023  14848637.0   4500000.0    8.526   \n",
       "4  56.599998   80.0  1.0  0.07 -0.034895  30741716.0   8250000.0  632.298   \n",
       "\n",
       "      T1       T2       T3     T4      T5    S1     S2     S3  data_updated  \\\n",
       "0  470.0  12719.0  11560.0  301.0   690.0  62.0  117.0  139.0             0   \n",
       "1  791.0  21792.0  19585.0  510.0  1120.0  71.0  242.0  237.0             0   \n",
       "2  201.0   5262.0   4785.0  128.0   325.0  61.0   33.0   60.0             0   \n",
       "3  328.0   8259.0   7574.0  177.0   509.0  80.0   59.0  110.0             0   \n",
       "4  572.0  14830.0  13176.0  336.0   720.0  67.0  149.0  167.0             0   \n",
       "\n",
       "   P(IPO)_imputed  P(H)_imputed  P(L)_imputed  P(1Day)_imputed  C1_imputed  \\\n",
       "0            10.0           9.5           8.5        11.870000       122.0   \n",
       "1             8.0          10.0           8.0         7.250000       259.0   \n",
       "2             7.0          14.0          12.0         6.700000        90.0   \n",
       "3            11.5          16.0          14.0        12.390000       209.0   \n",
       "4            21.0          21.0          19.0        56.599998        80.0   \n",
       "\n",
       "   C2_imputed  C3_imputed  C4_imputed  C5_imputed  C6_imputed  C7_imputed  \\\n",
       "0         1.0        3.43    0.029074  40962052.0  10600000.0      51.345   \n",
       "1         0.0       -1.62   -0.013352  28869196.0   2400000.0      25.936   \n",
       "2         1.0       -1.24    0.020715  16845668.0   5000000.0       7.378   \n",
       "3         1.0       -0.91    0.020023  14848637.0   4500000.0       8.526   \n",
       "4         1.0        0.07   -0.034895  30741716.0   8250000.0     632.298   \n",
       "\n",
       "   T1_imputed  T2_imputed  T3_imputed  T4_imputed  T5_imputed  S1_imputed  \\\n",
       "0       470.0     12719.0     11560.0       301.0       690.0        62.0   \n",
       "1       791.0     21792.0     19585.0       510.0      1120.0        71.0   \n",
       "2       201.0      5262.0      4785.0       128.0       325.0        61.0   \n",
       "3       328.0      8259.0      7574.0       177.0       509.0        80.0   \n",
       "4       572.0     14830.0     13176.0       336.0       720.0        67.0   \n",
       "\n",
       "   S2_imputed  S3_imputed  \n",
       "0       117.0       139.0  \n",
       "1       242.0       237.0  \n",
       "2        33.0        60.0  \n",
       "3        59.0       110.0  \n",
       "4       149.0       167.0  "
      ]
     },
     "execution_count": 283,
     "metadata": {},
     "output_type": "execute_result"
    }
   ],
   "source": [
    "data_w_imputed.head()"
   ]
  },
  {
   "cell_type": "code",
   "execution_count": null,
   "metadata": {},
   "outputs": [],
   "source": []
  },
  {
   "cell_type": "markdown",
   "metadata": {},
   "source": [
    "# Step 4: Standardize outliers with IQR\n",
    "- Alter some of the outlier values to be at the end of the 1.5 * IQR range for more accuracy in model"
   ]
  },
  {
   "cell_type": "code",
   "execution_count": 307,
   "metadata": {},
   "outputs": [],
   "source": [
    "def interquartile_range_replacement(df, col):\n",
    "    '''\n",
    "    Use interquartile range to address outliers and update columns showing those we augmented to reflect the changes made\n",
    "    '''\n",
    "    quartile_data = df[col].describe()\n",
    "    q1 = quartile_data['25%']\n",
    "    q3 = quartile_data['75%']\n",
    "    iqr = q3 - q1\n",
    "    high = quartile_data['50%'] + (1.5 * iqr)\n",
    "    low = quartile_data['50%'] - (1.5 * iqr)\n",
    "    \n",
    "    outliers_augmented = df[col].apply(lambda x: low if x < low else (high if x > high else x))\n",
    "    \n",
    "    df[col + '_iqr_standardized'] = outliers_augmented\n",
    "    df['data_updated'] = np.where((df['data_updated'] == 1) | (df[col] != df[col + '_iqr_standardized']), 1, 0)\n",
    "    return df"
   ]
  },
  {
   "cell_type": "code",
   "execution_count": 335,
   "metadata": {},
   "outputs": [],
   "source": [
    "data_imputed_iqr = data_w_imputed.copy()\n",
    "for i in [col for col in list(data_imputed_iqr.columns) if '_imputed' in col and col != 'C2_imputed']:\n",
    "    data_imputed_iqr = interquartile_range_replacement(data_imputed_iqr, i)"
   ]
  },
  {
   "cell_type": "code",
   "execution_count": 337,
   "metadata": {},
   "outputs": [
    {
     "data": {
      "text/html": [
       "<div>\n",
       "<style scoped>\n",
       "    .dataframe tbody tr th:only-of-type {\n",
       "        vertical-align: middle;\n",
       "    }\n",
       "\n",
       "    .dataframe tbody tr th {\n",
       "        vertical-align: top;\n",
       "    }\n",
       "\n",
       "    .dataframe thead th {\n",
       "        text-align: right;\n",
       "    }\n",
       "</style>\n",
       "<table border=\"1\" class=\"dataframe\">\n",
       "  <thead>\n",
       "    <tr style=\"text-align: right;\">\n",
       "      <th></th>\n",
       "      <th>I1</th>\n",
       "      <th>I2</th>\n",
       "      <th>I3</th>\n",
       "      <th>P(IPO)</th>\n",
       "      <th>P(H)</th>\n",
       "      <th>P(L)</th>\n",
       "      <th>P(1Day)</th>\n",
       "      <th>C1</th>\n",
       "      <th>C2</th>\n",
       "      <th>C3</th>\n",
       "      <th>C4</th>\n",
       "      <th>C5</th>\n",
       "      <th>C6</th>\n",
       "      <th>C7</th>\n",
       "      <th>T1</th>\n",
       "      <th>T2</th>\n",
       "      <th>T3</th>\n",
       "      <th>T4</th>\n",
       "      <th>T5</th>\n",
       "      <th>S1</th>\n",
       "      <th>S2</th>\n",
       "      <th>S3</th>\n",
       "      <th>data_updated</th>\n",
       "      <th>P(IPO)_imputed</th>\n",
       "      <th>P(H)_imputed</th>\n",
       "      <th>P(L)_imputed</th>\n",
       "      <th>P(1Day)_imputed</th>\n",
       "      <th>C1_imputed</th>\n",
       "      <th>C2_imputed</th>\n",
       "      <th>C3_imputed</th>\n",
       "      <th>C4_imputed</th>\n",
       "      <th>C5_imputed</th>\n",
       "      <th>C6_imputed</th>\n",
       "      <th>C7_imputed</th>\n",
       "      <th>T1_imputed</th>\n",
       "      <th>T2_imputed</th>\n",
       "      <th>T3_imputed</th>\n",
       "      <th>T4_imputed</th>\n",
       "      <th>T5_imputed</th>\n",
       "      <th>S1_imputed</th>\n",
       "      <th>S2_imputed</th>\n",
       "      <th>S3_imputed</th>\n",
       "      <th>P(IPO)_imputed_iqr_standardized</th>\n",
       "      <th>P(H)_imputed_iqr_standardized</th>\n",
       "      <th>P(L)_imputed_iqr_standardized</th>\n",
       "      <th>P(1Day)_imputed_iqr_standardized</th>\n",
       "      <th>C1_imputed_iqr_standardized</th>\n",
       "      <th>C3_imputed_iqr_standardized</th>\n",
       "      <th>C4_imputed_iqr_standardized</th>\n",
       "      <th>C5_imputed_iqr_standardized</th>\n",
       "      <th>C6_imputed_iqr_standardized</th>\n",
       "      <th>C7_imputed_iqr_standardized</th>\n",
       "      <th>T1_imputed_iqr_standardized</th>\n",
       "      <th>T2_imputed_iqr_standardized</th>\n",
       "      <th>T3_imputed_iqr_standardized</th>\n",
       "      <th>T4_imputed_iqr_standardized</th>\n",
       "      <th>T5_imputed_iqr_standardized</th>\n",
       "      <th>S1_imputed_iqr_standardized</th>\n",
       "      <th>S2_imputed_iqr_standardized</th>\n",
       "      <th>S3_imputed_iqr_standardized</th>\n",
       "    </tr>\n",
       "  </thead>\n",
       "  <tbody>\n",
       "    <tr>\n",
       "      <th>0</th>\n",
       "      <td>AATI</td>\n",
       "      <td>ADVANCED ANALOGIC TECHNOLOGIES INC</td>\n",
       "      <td>3674</td>\n",
       "      <td>10.0</td>\n",
       "      <td>9.5</td>\n",
       "      <td>8.5</td>\n",
       "      <td>11.870000</td>\n",
       "      <td>122.0</td>\n",
       "      <td>1.0</td>\n",
       "      <td>3.43</td>\n",
       "      <td>0.029074</td>\n",
       "      <td>40962052.0</td>\n",
       "      <td>10600000.0</td>\n",
       "      <td>51.345</td>\n",
       "      <td>470.0</td>\n",
       "      <td>12719.0</td>\n",
       "      <td>11560.0</td>\n",
       "      <td>301.0</td>\n",
       "      <td>690.0</td>\n",
       "      <td>62.0</td>\n",
       "      <td>117.0</td>\n",
       "      <td>139.0</td>\n",
       "      <td>1</td>\n",
       "      <td>10.0</td>\n",
       "      <td>9.5</td>\n",
       "      <td>8.5</td>\n",
       "      <td>11.870000</td>\n",
       "      <td>122.0</td>\n",
       "      <td>1.0</td>\n",
       "      <td>3.43</td>\n",
       "      <td>0.029074</td>\n",
       "      <td>40962052.0</td>\n",
       "      <td>10600000.0</td>\n",
       "      <td>51.345</td>\n",
       "      <td>470.0</td>\n",
       "      <td>12719.0</td>\n",
       "      <td>11560.0</td>\n",
       "      <td>301.0</td>\n",
       "      <td>690.0</td>\n",
       "      <td>62.0</td>\n",
       "      <td>117.0</td>\n",
       "      <td>139.0</td>\n",
       "      <td>10.0</td>\n",
       "      <td>9.5</td>\n",
       "      <td>8.5</td>\n",
       "      <td>11.870000</td>\n",
       "      <td>122.000</td>\n",
       "      <td>1.795</td>\n",
       "      <td>0.029074</td>\n",
       "      <td>40962052.0</td>\n",
       "      <td>10600000.0</td>\n",
       "      <td>51.345</td>\n",
       "      <td>470.00</td>\n",
       "      <td>12719.00</td>\n",
       "      <td>11560.00</td>\n",
       "      <td>301.000</td>\n",
       "      <td>690.0</td>\n",
       "      <td>62.0</td>\n",
       "      <td>117.000</td>\n",
       "      <td>139.0</td>\n",
       "    </tr>\n",
       "    <tr>\n",
       "      <th>1</th>\n",
       "      <td>ABPI</td>\n",
       "      <td>ACCENTIA BIOPHARMACEUTICALS INC</td>\n",
       "      <td>2834</td>\n",
       "      <td>8.0</td>\n",
       "      <td>10.0</td>\n",
       "      <td>8.0</td>\n",
       "      <td>7.250000</td>\n",
       "      <td>259.0</td>\n",
       "      <td>0.0</td>\n",
       "      <td>-1.62</td>\n",
       "      <td>-0.013352</td>\n",
       "      <td>28869196.0</td>\n",
       "      <td>2400000.0</td>\n",
       "      <td>25.936</td>\n",
       "      <td>791.0</td>\n",
       "      <td>21792.0</td>\n",
       "      <td>19585.0</td>\n",
       "      <td>510.0</td>\n",
       "      <td>1120.0</td>\n",
       "      <td>71.0</td>\n",
       "      <td>242.0</td>\n",
       "      <td>237.0</td>\n",
       "      <td>1</td>\n",
       "      <td>8.0</td>\n",
       "      <td>10.0</td>\n",
       "      <td>8.0</td>\n",
       "      <td>7.250000</td>\n",
       "      <td>259.0</td>\n",
       "      <td>0.0</td>\n",
       "      <td>-1.62</td>\n",
       "      <td>-0.013352</td>\n",
       "      <td>28869196.0</td>\n",
       "      <td>2400000.0</td>\n",
       "      <td>25.936</td>\n",
       "      <td>791.0</td>\n",
       "      <td>21792.0</td>\n",
       "      <td>19585.0</td>\n",
       "      <td>510.0</td>\n",
       "      <td>1120.0</td>\n",
       "      <td>71.0</td>\n",
       "      <td>242.0</td>\n",
       "      <td>237.0</td>\n",
       "      <td>8.0</td>\n",
       "      <td>10.0</td>\n",
       "      <td>8.0</td>\n",
       "      <td>7.250000</td>\n",
       "      <td>211.625</td>\n",
       "      <td>-1.620</td>\n",
       "      <td>-0.013352</td>\n",
       "      <td>28869196.0</td>\n",
       "      <td>2400000.0</td>\n",
       "      <td>25.936</td>\n",
       "      <td>743.25</td>\n",
       "      <td>21113.75</td>\n",
       "      <td>19164.25</td>\n",
       "      <td>489.125</td>\n",
       "      <td>1120.0</td>\n",
       "      <td>71.0</td>\n",
       "      <td>203.625</td>\n",
       "      <td>237.0</td>\n",
       "    </tr>\n",
       "    <tr>\n",
       "      <th>2</th>\n",
       "      <td>ACAD</td>\n",
       "      <td>ACADIA PHARMACEUTICALS INC</td>\n",
       "      <td>2834</td>\n",
       "      <td>7.0</td>\n",
       "      <td>14.0</td>\n",
       "      <td>12.0</td>\n",
       "      <td>6.700000</td>\n",
       "      <td>90.0</td>\n",
       "      <td>1.0</td>\n",
       "      <td>-1.24</td>\n",
       "      <td>0.020715</td>\n",
       "      <td>16845668.0</td>\n",
       "      <td>5000000.0</td>\n",
       "      <td>7.378</td>\n",
       "      <td>201.0</td>\n",
       "      <td>5262.0</td>\n",
       "      <td>4785.0</td>\n",
       "      <td>128.0</td>\n",
       "      <td>325.0</td>\n",
       "      <td>61.0</td>\n",
       "      <td>33.0</td>\n",
       "      <td>60.0</td>\n",
       "      <td>0</td>\n",
       "      <td>7.0</td>\n",
       "      <td>14.0</td>\n",
       "      <td>12.0</td>\n",
       "      <td>6.700000</td>\n",
       "      <td>90.0</td>\n",
       "      <td>1.0</td>\n",
       "      <td>-1.24</td>\n",
       "      <td>0.020715</td>\n",
       "      <td>16845668.0</td>\n",
       "      <td>5000000.0</td>\n",
       "      <td>7.378</td>\n",
       "      <td>201.0</td>\n",
       "      <td>5262.0</td>\n",
       "      <td>4785.0</td>\n",
       "      <td>128.0</td>\n",
       "      <td>325.0</td>\n",
       "      <td>61.0</td>\n",
       "      <td>33.0</td>\n",
       "      <td>60.0</td>\n",
       "      <td>7.0</td>\n",
       "      <td>14.0</td>\n",
       "      <td>12.0</td>\n",
       "      <td>6.700000</td>\n",
       "      <td>90.000</td>\n",
       "      <td>-1.240</td>\n",
       "      <td>0.020715</td>\n",
       "      <td>16845668.0</td>\n",
       "      <td>5000000.0</td>\n",
       "      <td>7.378</td>\n",
       "      <td>201.00</td>\n",
       "      <td>5262.00</td>\n",
       "      <td>4785.00</td>\n",
       "      <td>128.000</td>\n",
       "      <td>325.0</td>\n",
       "      <td>61.0</td>\n",
       "      <td>33.000</td>\n",
       "      <td>60.0</td>\n",
       "    </tr>\n",
       "    <tr>\n",
       "      <th>3</th>\n",
       "      <td>ACHN</td>\n",
       "      <td>ACHILLION PHARMACEUTICALS INC</td>\n",
       "      <td>2834</td>\n",
       "      <td>11.5</td>\n",
       "      <td>16.0</td>\n",
       "      <td>14.0</td>\n",
       "      <td>12.390000</td>\n",
       "      <td>209.0</td>\n",
       "      <td>1.0</td>\n",
       "      <td>-0.91</td>\n",
       "      <td>0.020023</td>\n",
       "      <td>14848637.0</td>\n",
       "      <td>4500000.0</td>\n",
       "      <td>8.526</td>\n",
       "      <td>328.0</td>\n",
       "      <td>8259.0</td>\n",
       "      <td>7574.0</td>\n",
       "      <td>177.0</td>\n",
       "      <td>509.0</td>\n",
       "      <td>80.0</td>\n",
       "      <td>59.0</td>\n",
       "      <td>110.0</td>\n",
       "      <td>0</td>\n",
       "      <td>11.5</td>\n",
       "      <td>16.0</td>\n",
       "      <td>14.0</td>\n",
       "      <td>12.390000</td>\n",
       "      <td>209.0</td>\n",
       "      <td>1.0</td>\n",
       "      <td>-0.91</td>\n",
       "      <td>0.020023</td>\n",
       "      <td>14848637.0</td>\n",
       "      <td>4500000.0</td>\n",
       "      <td>8.526</td>\n",
       "      <td>328.0</td>\n",
       "      <td>8259.0</td>\n",
       "      <td>7574.0</td>\n",
       "      <td>177.0</td>\n",
       "      <td>509.0</td>\n",
       "      <td>80.0</td>\n",
       "      <td>59.0</td>\n",
       "      <td>110.0</td>\n",
       "      <td>11.5</td>\n",
       "      <td>16.0</td>\n",
       "      <td>14.0</td>\n",
       "      <td>12.390000</td>\n",
       "      <td>209.000</td>\n",
       "      <td>-0.910</td>\n",
       "      <td>0.020023</td>\n",
       "      <td>14848637.0</td>\n",
       "      <td>4500000.0</td>\n",
       "      <td>8.526</td>\n",
       "      <td>328.00</td>\n",
       "      <td>8259.00</td>\n",
       "      <td>7574.00</td>\n",
       "      <td>177.000</td>\n",
       "      <td>509.0</td>\n",
       "      <td>80.0</td>\n",
       "      <td>59.000</td>\n",
       "      <td>110.0</td>\n",
       "    </tr>\n",
       "    <tr>\n",
       "      <th>4</th>\n",
       "      <td>ACLI</td>\n",
       "      <td>AMERICAN COMMERCIAL LINES INC.</td>\n",
       "      <td>4492</td>\n",
       "      <td>21.0</td>\n",
       "      <td>21.0</td>\n",
       "      <td>19.0</td>\n",
       "      <td>56.599998</td>\n",
       "      <td>80.0</td>\n",
       "      <td>1.0</td>\n",
       "      <td>0.07</td>\n",
       "      <td>-0.034895</td>\n",
       "      <td>30741716.0</td>\n",
       "      <td>8250000.0</td>\n",
       "      <td>632.298</td>\n",
       "      <td>572.0</td>\n",
       "      <td>14830.0</td>\n",
       "      <td>13176.0</td>\n",
       "      <td>336.0</td>\n",
       "      <td>720.0</td>\n",
       "      <td>67.0</td>\n",
       "      <td>149.0</td>\n",
       "      <td>167.0</td>\n",
       "      <td>1</td>\n",
       "      <td>21.0</td>\n",
       "      <td>21.0</td>\n",
       "      <td>19.0</td>\n",
       "      <td>56.599998</td>\n",
       "      <td>80.0</td>\n",
       "      <td>1.0</td>\n",
       "      <td>0.07</td>\n",
       "      <td>-0.034895</td>\n",
       "      <td>30741716.0</td>\n",
       "      <td>8250000.0</td>\n",
       "      <td>632.298</td>\n",
       "      <td>572.0</td>\n",
       "      <td>14830.0</td>\n",
       "      <td>13176.0</td>\n",
       "      <td>336.0</td>\n",
       "      <td>720.0</td>\n",
       "      <td>67.0</td>\n",
       "      <td>149.0</td>\n",
       "      <td>167.0</td>\n",
       "      <td>21.0</td>\n",
       "      <td>21.0</td>\n",
       "      <td>19.0</td>\n",
       "      <td>28.337501</td>\n",
       "      <td>80.000</td>\n",
       "      <td>0.070</td>\n",
       "      <td>-0.034895</td>\n",
       "      <td>30741716.0</td>\n",
       "      <td>8250000.0</td>\n",
       "      <td>632.298</td>\n",
       "      <td>572.00</td>\n",
       "      <td>14830.00</td>\n",
       "      <td>13176.00</td>\n",
       "      <td>336.000</td>\n",
       "      <td>720.0</td>\n",
       "      <td>67.0</td>\n",
       "      <td>149.000</td>\n",
       "      <td>167.0</td>\n",
       "    </tr>\n",
       "  </tbody>\n",
       "</table>\n",
       "</div>"
      ],
      "text/plain": [
       "     I1                                  I2    I3  P(IPO)  P(H)  P(L)  \\\n",
       "0  AATI  ADVANCED ANALOGIC TECHNOLOGIES INC  3674    10.0   9.5   8.5   \n",
       "1  ABPI     ACCENTIA BIOPHARMACEUTICALS INC  2834     8.0  10.0   8.0   \n",
       "2  ACAD          ACADIA PHARMACEUTICALS INC  2834     7.0  14.0  12.0   \n",
       "3  ACHN       ACHILLION PHARMACEUTICALS INC  2834    11.5  16.0  14.0   \n",
       "4  ACLI     AMERICAN COMMERCIAL LINES INC.   4492    21.0  21.0  19.0   \n",
       "\n",
       "     P(1Day)     C1   C2    C3        C4          C5          C6       C7  \\\n",
       "0  11.870000  122.0  1.0  3.43  0.029074  40962052.0  10600000.0   51.345   \n",
       "1   7.250000  259.0  0.0 -1.62 -0.013352  28869196.0   2400000.0   25.936   \n",
       "2   6.700000   90.0  1.0 -1.24  0.020715  16845668.0   5000000.0    7.378   \n",
       "3  12.390000  209.0  1.0 -0.91  0.020023  14848637.0   4500000.0    8.526   \n",
       "4  56.599998   80.0  1.0  0.07 -0.034895  30741716.0   8250000.0  632.298   \n",
       "\n",
       "      T1       T2       T3     T4      T5    S1     S2     S3  data_updated  \\\n",
       "0  470.0  12719.0  11560.0  301.0   690.0  62.0  117.0  139.0             1   \n",
       "1  791.0  21792.0  19585.0  510.0  1120.0  71.0  242.0  237.0             1   \n",
       "2  201.0   5262.0   4785.0  128.0   325.0  61.0   33.0   60.0             0   \n",
       "3  328.0   8259.0   7574.0  177.0   509.0  80.0   59.0  110.0             0   \n",
       "4  572.0  14830.0  13176.0  336.0   720.0  67.0  149.0  167.0             1   \n",
       "\n",
       "   P(IPO)_imputed  P(H)_imputed  P(L)_imputed  P(1Day)_imputed  C1_imputed  \\\n",
       "0            10.0           9.5           8.5        11.870000       122.0   \n",
       "1             8.0          10.0           8.0         7.250000       259.0   \n",
       "2             7.0          14.0          12.0         6.700000        90.0   \n",
       "3            11.5          16.0          14.0        12.390000       209.0   \n",
       "4            21.0          21.0          19.0        56.599998        80.0   \n",
       "\n",
       "   C2_imputed  C3_imputed  C4_imputed  C5_imputed  C6_imputed  C7_imputed  \\\n",
       "0         1.0        3.43    0.029074  40962052.0  10600000.0      51.345   \n",
       "1         0.0       -1.62   -0.013352  28869196.0   2400000.0      25.936   \n",
       "2         1.0       -1.24    0.020715  16845668.0   5000000.0       7.378   \n",
       "3         1.0       -0.91    0.020023  14848637.0   4500000.0       8.526   \n",
       "4         1.0        0.07   -0.034895  30741716.0   8250000.0     632.298   \n",
       "\n",
       "   T1_imputed  T2_imputed  T3_imputed  T4_imputed  T5_imputed  S1_imputed  \\\n",
       "0       470.0     12719.0     11560.0       301.0       690.0        62.0   \n",
       "1       791.0     21792.0     19585.0       510.0      1120.0        71.0   \n",
       "2       201.0      5262.0      4785.0       128.0       325.0        61.0   \n",
       "3       328.0      8259.0      7574.0       177.0       509.0        80.0   \n",
       "4       572.0     14830.0     13176.0       336.0       720.0        67.0   \n",
       "\n",
       "   S2_imputed  S3_imputed  P(IPO)_imputed_iqr_standardized  \\\n",
       "0       117.0       139.0                             10.0   \n",
       "1       242.0       237.0                              8.0   \n",
       "2        33.0        60.0                              7.0   \n",
       "3        59.0       110.0                             11.5   \n",
       "4       149.0       167.0                             21.0   \n",
       "\n",
       "   P(H)_imputed_iqr_standardized  P(L)_imputed_iqr_standardized  \\\n",
       "0                            9.5                            8.5   \n",
       "1                           10.0                            8.0   \n",
       "2                           14.0                           12.0   \n",
       "3                           16.0                           14.0   \n",
       "4                           21.0                           19.0   \n",
       "\n",
       "   P(1Day)_imputed_iqr_standardized  C1_imputed_iqr_standardized  \\\n",
       "0                         11.870000                      122.000   \n",
       "1                          7.250000                      211.625   \n",
       "2                          6.700000                       90.000   \n",
       "3                         12.390000                      209.000   \n",
       "4                         28.337501                       80.000   \n",
       "\n",
       "   C3_imputed_iqr_standardized  C4_imputed_iqr_standardized  \\\n",
       "0                        1.795                     0.029074   \n",
       "1                       -1.620                    -0.013352   \n",
       "2                       -1.240                     0.020715   \n",
       "3                       -0.910                     0.020023   \n",
       "4                        0.070                    -0.034895   \n",
       "\n",
       "   C5_imputed_iqr_standardized  C6_imputed_iqr_standardized  \\\n",
       "0                   40962052.0                   10600000.0   \n",
       "1                   28869196.0                    2400000.0   \n",
       "2                   16845668.0                    5000000.0   \n",
       "3                   14848637.0                    4500000.0   \n",
       "4                   30741716.0                    8250000.0   \n",
       "\n",
       "   C7_imputed_iqr_standardized  T1_imputed_iqr_standardized  \\\n",
       "0                       51.345                       470.00   \n",
       "1                       25.936                       743.25   \n",
       "2                        7.378                       201.00   \n",
       "3                        8.526                       328.00   \n",
       "4                      632.298                       572.00   \n",
       "\n",
       "   T2_imputed_iqr_standardized  T3_imputed_iqr_standardized  \\\n",
       "0                     12719.00                     11560.00   \n",
       "1                     21113.75                     19164.25   \n",
       "2                      5262.00                      4785.00   \n",
       "3                      8259.00                      7574.00   \n",
       "4                     14830.00                     13176.00   \n",
       "\n",
       "   T4_imputed_iqr_standardized  T5_imputed_iqr_standardized  \\\n",
       "0                      301.000                        690.0   \n",
       "1                      489.125                       1120.0   \n",
       "2                      128.000                        325.0   \n",
       "3                      177.000                        509.0   \n",
       "4                      336.000                        720.0   \n",
       "\n",
       "   S1_imputed_iqr_standardized  S2_imputed_iqr_standardized  \\\n",
       "0                         62.0                      117.000   \n",
       "1                         71.0                      203.625   \n",
       "2                         61.0                       33.000   \n",
       "3                         80.0                       59.000   \n",
       "4                         67.0                      149.000   \n",
       "\n",
       "   S3_imputed_iqr_standardized  \n",
       "0                        139.0  \n",
       "1                        237.0  \n",
       "2                         60.0  \n",
       "3                        110.0  \n",
       "4                        167.0  "
      ]
     },
     "execution_count": 337,
     "metadata": {},
     "output_type": "execute_result"
    }
   ],
   "source": [
    "data_imputed_iqr.head()"
   ]
  },
  {
   "cell_type": "markdown",
   "metadata": {},
   "source": [
    "# Step 5: Check Normality of fields\n",
    "\n",
    "- Histogram\n",
    "- Shapiro test for normality: a p-value of lower than 0.05 implies non-normal values"
   ]
  },
  {
   "cell_type": "code",
   "execution_count": 338,
   "metadata": {},
   "outputs": [],
   "source": [
    "def check_normal_by_hist(df, col):\n",
    "    '''\n",
    "    Creates a histogram to view values to check normality\n",
    "    \n",
    "    params:\n",
    "    df - DataFrame\n",
    "    col - Columns of DataFrame you want to test\n",
    "    \n",
    "    return:\n",
    "    Void, however will print a histogram\n",
    "    \n",
    "    '''\n",
    "    df[col].hist()\n",
    "    plt.title(col)\n",
    "    plt.show()\n",
    "    \n",
    "def check_normal_by_shapiro(df, col):\n",
    "    '''\n",
    "    Runs the Shapiro normality test on the values from a dataframe\n",
    "    \n",
    "    params:\n",
    "    df - DataFrame\n",
    "    col - Columns of DataFrame you want to test\n",
    "    \n",
    "    return:\n",
    "    tuple - (Test Statistic, p-value)\n",
    "    \n",
    "    A p-value lower than 0.05 implies the values are NOT normal\n",
    "    \n",
    "    '''\n",
    "    \n",
    "    return shapiro(df[col].values)\n",
    "    "
   ]
  },
  {
   "cell_type": "code",
   "execution_count": 339,
   "metadata": {},
   "outputs": [
    {
     "data": {
      "image/png": "[encoded data removed]",
      "text/plain": [
       "<Figure size 432x288 with 1 Axes>"
      ]
     },
     "metadata": {
      "needs_background": "light"
     },
     "output_type": "display_data"
    },
    {
     "name": "stdout",
     "output_type": "stream",
     "text": [
      "(0.8102320432662964, 1.4996843809499167e-27)\n"
     ]
    },
    {
     "data": {
      "image/png": "[encoded data removed]",
      "text/plain": [
       "<Figure size 432x288 with 1 Axes>"
      ]
     },
     "metadata": {
      "needs_background": "light"
     },
     "output_type": "display_data"
    },
    {
     "name": "stdout",
     "output_type": "stream",
     "text": [
      "(0.5686391592025757, 6.86919309808954e-38)\n"
     ]
    },
    {
     "data": {
      "image/png": "[encoded data removed]",
      "text/plain": [
       "<Figure size 432x288 with 1 Axes>"
      ]
     },
     "metadata": {
      "needs_background": "light"
     },
     "output_type": "display_data"
    },
    {
     "name": "stdout",
     "output_type": "stream",
     "text": [
      "(0.6496447324752808, 4.1608080435856374e-35)\n"
     ]
    },
    {
     "data": {
      "image/png": "[encoded data removed]",
      "text/plain": [
       "<Figure size 432x288 with 1 Axes>"
      ]
     },
     "metadata": {
      "needs_background": "light"
     },
     "output_type": "display_data"
    },
    {
     "name": "stdout",
     "output_type": "stream",
     "text": [
      "(0.17979323863983154, 0.0)\n"
     ]
    },
    {
     "data": {
      "image/png": "[encoded data removed]",
      "text/plain": [
       "<Figure size 432x288 with 1 Axes>"
      ]
     },
     "metadata": {
      "needs_background": "light"
     },
     "output_type": "display_data"
    },
    {
     "name": "stdout",
     "output_type": "stream",
     "text": [
      "(0.5366458892822266, 7.148707300171482e-39)\n"
     ]
    },
    {
     "data": {
      "image/png": "[encoded data removed]",
      "text/plain": [
       "<Figure size 432x288 with 1 Axes>"
      ]
     },
     "metadata": {
      "needs_background": "light"
     },
     "output_type": "display_data"
    },
    {
     "name": "stdout",
     "output_type": "stream",
     "text": [
      "(0.4254383444786072, 6.615530050077461e-42)\n"
     ]
    },
    {
     "data": {
      "image/png": "[encoded data removed]",
      "text/plain": [
       "<Figure size 432x288 with 1 Axes>"
      ]
     },
     "metadata": {
      "needs_background": "light"
     },
     "output_type": "display_data"
    },
    {
     "name": "stdout",
     "output_type": "stream",
     "text": [
      "(0.0666353702545166, 0.0)\n"
     ]
    },
    {
     "data": {
      "image/png": "[encoded data removed]",
      "text/plain": [
       "<Figure size 432x288 with 1 Axes>"
      ]
     },
     "metadata": {
      "needs_background": "light"
     },
     "output_type": "display_data"
    },
    {
     "name": "stdout",
     "output_type": "stream",
     "text": [
      "(0.9848333597183228, 1.618549049453577e-06)\n"
     ]
    },
    {
     "data": {
      "image/png": "[encoded data removed]",
      "text/plain": [
       "<Figure size 432x288 with 1 Axes>"
      ]
     },
     "metadata": {
      "needs_background": "light"
     },
     "output_type": "display_data"
    },
    {
     "name": "stdout",
     "output_type": "stream",
     "text": [
      "(0.27015477418899536, 1.401298464324817e-45)\n"
     ]
    },
    {
     "data": {
      "image/png": "[encoded data removed]",
      "text/plain": [
       "<Figure size 432x288 with 1 Axes>"
      ]
     },
     "metadata": {
      "needs_background": "light"
     },
     "output_type": "display_data"
    },
    {
     "name": "stdout",
     "output_type": "stream",
     "text": [
      "(0.2619563341140747, 1.401298464324817e-45)\n"
     ]
    },
    {
     "data": {
      "image/png": "[encoded data removed]",
      "text/plain": [
       "<Figure size 432x288 with 1 Axes>"
      ]
     },
     "metadata": {
      "needs_background": "light"
     },
     "output_type": "display_data"
    },
    {
     "name": "stdout",
     "output_type": "stream",
     "text": [
      "(0.26462793350219727, 1.401298464324817e-45)\n"
     ]
    },
    {
     "data": {
      "image/png": "[encoded data removed]",
      "text/plain": [
       "<Figure size 432x288 with 1 Axes>"
      ]
     },
     "metadata": {
      "needs_background": "light"
     },
     "output_type": "display_data"
    },
    {
     "name": "stdout",
     "output_type": "stream",
     "text": [
      "(0.9009252786636353, 1.368564022679162e-20)\n"
     ]
    },
    {
     "data": {
      "image/png": "[encoded data removed]",
      "text/plain": [
       "<Figure size 432x288 with 1 Axes>"
      ]
     },
     "metadata": {
      "needs_background": "light"
     },
     "output_type": "display_data"
    },
    {
     "name": "stdout",
     "output_type": "stream",
     "text": [
      "(0.9067387580871582, 5.358045615706044e-20)\n"
     ]
    },
    {
     "data": {
      "image/png": "[encoded data removed]",
      "text/plain": [
       "<Figure size 432x288 with 1 Axes>"
      ]
     },
     "metadata": {
      "needs_background": "light"
     },
     "output_type": "display_data"
    },
    {
     "name": "stdout",
     "output_type": "stream",
     "text": [
      "(0.908711314201355, 8.636433155657333e-20)\n"
     ]
    },
    {
     "data": {
      "image/png": "[encoded data removed]",
      "text/plain": [
       "<Figure size 432x288 with 1 Axes>"
      ]
     },
     "metadata": {
      "needs_background": "light"
     },
     "output_type": "display_data"
    },
    {
     "name": "stdout",
     "output_type": "stream",
     "text": [
      "(0.9238683581352234, 4.468599654627335e-18)\n"
     ]
    },
    {
     "data": {
      "image/png": "[encoded data removed]",
      "text/plain": [
       "<Figure size 432x288 with 1 Axes>"
      ]
     },
     "metadata": {
      "needs_background": "light"
     },
     "output_type": "display_data"
    },
    {
     "name": "stdout",
     "output_type": "stream",
     "text": [
      "(0.4630507230758667, 6.139789221439186e-41)\n"
     ]
    },
    {
     "data": {
      "image/png": "[encoded data removed]",
      "text/plain": [
       "<Figure size 432x288 with 1 Axes>"
      ]
     },
     "metadata": {
      "needs_background": "light"
     },
     "output_type": "display_data"
    },
    {
     "name": "stdout",
     "output_type": "stream",
     "text": [
      "(0.8290369510650635, 2.3243957594916174e-26)\n"
     ]
    },
    {
     "data": {
      "image/png": "[encoded data removed]",
      "text/plain": [
       "<Figure size 432x288 with 1 Axes>"
      ]
     },
     "metadata": {
      "needs_background": "light"
     },
     "output_type": "display_data"
    },
    {
     "name": "stdout",
     "output_type": "stream",
     "text": [
      "(0.7089569568634033, 1.0155094962069773e-32)\n"
     ]
    },
    {
     "data": {
      "image/png": "[encoded data removed]",
      "text/plain": [
       "<Figure size 432x288 with 1 Axes>"
      ]
     },
     "metadata": {
      "needs_background": "light"
     },
     "output_type": "display_data"
    },
    {
     "name": "stdout",
     "output_type": "stream",
     "text": [
      "(0.7924658060073853, 1.3583232415548324e-28)\n"
     ]
    }
   ],
   "source": [
    "for i in [j for j in data_imputed_iqr if 'imputed' in j][:19]:\n",
    "    check_normal_by_hist(data_imputed_iqr, i)\n",
    "    print(check_normal_by_shapiro(data_imputed_iqr, i))"
   ]
  },
  {
   "cell_type": "code",
   "execution_count": 340,
   "metadata": {},
   "outputs": [
    {
     "data": {
      "image/png": "[encoded data removed]",
      "text/plain": [
       "<Figure size 432x288 with 1 Axes>"
      ]
     },
     "metadata": {
      "needs_background": "light"
     },
     "output_type": "display_data"
    },
    {
     "name": "stdout",
     "output_type": "stream",
     "text": [
      "(0.9882164001464844, 2.67136529146228e-05)\n"
     ]
    },
    {
     "data": {
      "image/png": "[encoded data removed]",
      "text/plain": [
       "<Figure size 432x288 with 1 Axes>"
      ]
     },
     "metadata": {
      "needs_background": "light"
     },
     "output_type": "display_data"
    },
    {
     "name": "stdout",
     "output_type": "stream",
     "text": [
      "(0.9619790315628052, 2.6964947202196e-12)\n"
     ]
    },
    {
     "data": {
      "image/png": "[encoded data removed]",
      "text/plain": [
       "<Figure size 432x288 with 1 Axes>"
      ]
     },
     "metadata": {
      "needs_background": "light"
     },
     "output_type": "display_data"
    },
    {
     "name": "stdout",
     "output_type": "stream",
     "text": [
      "(0.9650154113769531, 1.1007228982451434e-11)\n"
     ]
    },
    {
     "data": {
      "image/png": "[encoded data removed]",
      "text/plain": [
       "<Figure size 432x288 with 1 Axes>"
      ]
     },
     "metadata": {
      "needs_background": "light"
     },
     "output_type": "display_data"
    },
    {
     "name": "stdout",
     "output_type": "stream",
     "text": [
      "(0.9536886215209961, 8.185490588293043e-14)\n"
     ]
    },
    {
     "data": {
      "image/png": "[encoded data removed]",
      "text/plain": [
       "<Figure size 432x288 with 1 Axes>"
      ]
     },
     "metadata": {
      "needs_background": "light"
     },
     "output_type": "display_data"
    },
    {
     "name": "stdout",
     "output_type": "stream",
     "text": [
      "(0.9337263703346252, 7.990888310317878e-17)\n"
     ]
    },
    {
     "data": {
      "image/png": "[encoded data removed]",
      "text/plain": [
       "<Figure size 432x288 with 1 Axes>"
      ]
     },
     "metadata": {
      "needs_background": "light"
     },
     "output_type": "display_data"
    },
    {
     "name": "stdout",
     "output_type": "stream",
     "text": [
      "(0.9373108744621277, 2.4605849190550315e-16)\n"
     ]
    },
    {
     "data": {
      "image/png": "[encoded data removed]",
      "text/plain": [
       "<Figure size 432x288 with 1 Axes>"
      ]
     },
     "metadata": {
      "needs_background": "light"
     },
     "output_type": "display_data"
    },
    {
     "name": "stdout",
     "output_type": "stream",
     "text": [
      "(0.9839858412742615, 8.436213647655677e-07)\n"
     ]
    },
    {
     "data": {
      "image/png": "[encoded data removed]",
      "text/plain": [
       "<Figure size 432x288 with 1 Axes>"
      ]
     },
     "metadata": {
      "needs_background": "light"
     },
     "output_type": "display_data"
    },
    {
     "name": "stdout",
     "output_type": "stream",
     "text": [
      "(0.880231499671936, 1.6457052121652462e-22)\n"
     ]
    },
    {
     "data": {
      "image/png": "[encoded data removed]",
      "text/plain": [
       "<Figure size 432x288 with 1 Axes>"
      ]
     },
     "metadata": {
      "needs_background": "light"
     },
     "output_type": "display_data"
    },
    {
     "name": "stdout",
     "output_type": "stream",
     "text": [
      "(0.8980119228363037, 7.06105039226776e-21)\n"
     ]
    },
    {
     "data": {
      "image/png": "[encoded data removed]",
      "text/plain": [
       "<Figure size 432x288 with 1 Axes>"
      ]
     },
     "metadata": {
      "needs_background": "light"
     },
     "output_type": "display_data"
    },
    {
     "name": "stdout",
     "output_type": "stream",
     "text": [
      "(0.8197553753852844, 5.8446950986857646e-27)\n"
     ]
    },
    {
     "data": {
      "image/png": "[encoded data removed]",
      "text/plain": [
       "<Figure size 432x288 with 1 Axes>"
      ]
     },
     "metadata": {
      "needs_background": "light"
     },
     "output_type": "display_data"
    },
    {
     "name": "stdout",
     "output_type": "stream",
     "text": [
      "(0.9809293746948242, 9.272891077216627e-08)\n"
     ]
    },
    {
     "data": {
      "image/png": "[encoded data removed]",
      "text/plain": [
       "<Figure size 432x288 with 1 Axes>"
      ]
     },
     "metadata": {
      "needs_background": "light"
     },
     "output_type": "display_data"
    },
    {
     "name": "stdout",
     "output_type": "stream",
     "text": [
      "(0.975121259689331, 2.2968873469864093e-09)\n"
     ]
    },
    {
     "data": {
      "image/png": "[encoded data removed]",
      "text/plain": [
       "<Figure size 432x288 with 1 Axes>"
      ]
     },
     "metadata": {
      "needs_background": "light"
     },
     "output_type": "display_data"
    },
    {
     "name": "stdout",
     "output_type": "stream",
     "text": [
      "(0.9751483201980591, 2.3339188359727814e-09)\n"
     ]
    },
    {
     "data": {
      "image/png": "[encoded data removed]",
      "text/plain": [
       "<Figure size 432x288 with 1 Axes>"
      ]
     },
     "metadata": {
      "needs_background": "light"
     },
     "output_type": "display_data"
    },
    {
     "name": "stdout",
     "output_type": "stream",
     "text": [
      "(0.977337658405304, 8.810633111977495e-09)\n"
     ]
    },
    {
     "data": {
      "image/png": "[encoded data removed]",
      "text/plain": [
       "<Figure size 432x288 with 1 Axes>"
      ]
     },
     "metadata": {
      "needs_background": "light"
     },
     "output_type": "display_data"
    },
    {
     "name": "stdout",
     "output_type": "stream",
     "text": [
      "(0.9653905034065247, 1.3167608496622574e-11)\n"
     ]
    },
    {
     "data": {
      "image/png": "[encoded data removed]",
      "text/plain": [
       "<Figure size 432x288 with 1 Axes>"
      ]
     },
     "metadata": {
      "needs_background": "light"
     },
     "output_type": "display_data"
    },
    {
     "name": "stdout",
     "output_type": "stream",
     "text": [
      "(0.9607441425323486, 1.5543690466690574e-12)\n"
     ]
    },
    {
     "data": {
      "image/png": "[encoded data removed]",
      "text/plain": [
       "<Figure size 432x288 with 1 Axes>"
      ]
     },
     "metadata": {
      "needs_background": "light"
     },
     "output_type": "display_data"
    },
    {
     "name": "stdout",
     "output_type": "stream",
     "text": [
      "(0.9460901021957397, 4.750859993900075e-15)\n"
     ]
    },
    {
     "data": {
      "image/png": "[encoded data removed]",
      "text/plain": [
       "<Figure size 432x288 with 1 Axes>"
      ]
     },
     "metadata": {
      "needs_background": "light"
     },
     "output_type": "display_data"
    },
    {
     "name": "stdout",
     "output_type": "stream",
     "text": [
      "(0.966825008392334, 2.644442130550484e-11)\n"
     ]
    }
   ],
   "source": [
    "for i in [j for j in data_imputed_iqr if 'iqr_standardized' in j]:\n",
    "    check_normal_by_hist(data_imputed_iqr, i)\n",
    "    print(check_normal_by_shapiro(data_imputed_iqr, i))"
   ]
  },
  {
   "cell_type": "markdown",
   "metadata": {},
   "source": [
    "IQR Standardized look ALOT better than the others"
   ]
  },
  {
   "cell_type": "code",
   "execution_count": null,
   "metadata": {},
   "outputs": [],
   "source": []
  },
  {
   "cell_type": "markdown",
   "metadata": {},
   "source": [
    "# Step 5B: Create New Columns with Normalized values of non-normal fields\n",
    "- Try applying squaring, log(), square root, 1/x function\n",
    "- Leverage Histograms and Shapiro-Wilk test"
   ]
  },
  {
   "cell_type": "code",
   "execution_count": 326,
   "metadata": {},
   "outputs": [],
   "source": [
    "def normalize_log(col_vals):\n",
    "    return np.log(col_vals + min(col_vals))\n",
    "\n",
    "def normalize_sqrt(col_vals):\n",
    "    if min(col_vals) < 0:\n",
    "        print('Can\\'t sqrt with negative values')\n",
    "        return\n",
    "    return np.sqrt(col_vals)\n",
    "\n",
    "def normalize_recip_sqrt(col_vals):\n",
    "    if min(col_vals) < 0:\n",
    "        print('Can\\'t sqrt with negative values')\n",
    "        return\n",
    "    return 1/np.sqrt(col_vals)\n",
    "\n",
    "def normalize_sigmoid(col_vals):\n",
    "    return [1/(1+np.e**(-i)) for i in col_vals]\n",
    "\n",
    "def normalize_div(col_vals):\n",
    "    return 1/col_vals\n",
    "\n",
    "def normalize_log_div(col_vals):\n",
    "    return 1/np.log(col_vals + min(col_vals))\n",
    "\n",
    "def normalize_shift_left(col_vals):\n",
    "    return col_vals - len(col_vals)\n",
    "\n",
    "def normalize_shift_right(col_vals):\n",
    "    return col_vals + len(col_vals)\n",
    "\n",
    "def normalize_by_power(col_vals):\n",
    "    return [i**2 for i in col_vals]\n",
    "\n",
    "def normalize_by_e(col_vals):\n",
    "    return [np.e **(i + min(col_vals)) for i in col_vals]\n",
    "\n",
    "def normalize_data(df, col, normalize_function = None):\n",
    "    '''\n",
    "    Given a dataframe, column, and type of normalization, attempt to make the field normal.\n",
    "    \n",
    "    params:\n",
    "    df - dataframe\n",
    "    col - string - column to normalize\n",
    "    normalize_function - function - type of normalization to perform. If blank then all will be performed and compared.\n",
    "        options are functions above\n",
    "        \n",
    "    '''\n",
    "    \n",
    "    if normalize_function is not None:\n",
    "        try:\n",
    "            new_vals = normalize_function(df[col].values)\n",
    "            p_val = shapiro(new_vals)[1]\n",
    "            valid = 'Normal' if p_val > 0.05 else 'Non-Normal'\n",
    "            print('Shapiro Test says given function made the data ' + valid +' with a p-value of ' + str(p_val))\n",
    "            if p_val > 0.05:\n",
    "                plt.hist(new_vals)\n",
    "                return True\n",
    "            else:\n",
    "                return False\n",
    "        except Exception as e:\n",
    "            print(e)\n",
    "    \n",
    "#     else:\n",
    "#         print('Running Tests')\n",
    "#         normalize_options = [normalize_log, normalize_sqrt, normalize_div, normalize_log_div, normalize_shift_left, \n",
    "#                             normalize_shift_right, normalize_by_power, normalize_by_e]\n",
    "#         values = df[col].values\n",
    "#         baseline = shapiro(values)[1]\n",
    "        \n",
    "#         if baseline > 0.05:\n",
    "#             print('Already Normal')\n",
    "#             return\n",
    "        \n",
    "#         else:\n",
    "#             p_vals = []\n",
    "#             normalized_dat = []\n",
    "#             for i in normalize_options:\n",
    "#                 try:\n",
    "#                     normalized_dat.append(i(values))\n",
    "#                 except Exception as e:\n",
    "#                     normalized_dat.append(None)\n",
    "#                 try:\n",
    "#                     p_vals.append(shapiro(normalized_dat[-1])[1])\n",
    "#                 except Exception as e:\n",
    "#                     p_vals.append(-1)\n",
    "#             idx = p_vals.index(max(p_vals))\n",
    "            \n",
    "#             print(normalize_options[idx])\n",
    "#             return normalized_dat[idx]\n",
    "    "
   ]
  },
  {
   "cell_type": "code",
   "execution_count": 316,
   "metadata": {},
   "outputs": [
    {
     "data": {
      "text/plain": [
       "['P(IPO)_imputed_iqr_standardized',\n",
       " 'P(H)_imputed_iqr_standardized',\n",
       " 'P(L)_imputed_iqr_standardized',\n",
       " 'P(1Day)_imputed_iqr_standardized',\n",
       " 'C1_imputed_iqr_standardized',\n",
       " 'C2_imputed_iqr_standardized',\n",
       " 'C3_imputed_iqr_standardized',\n",
       " 'C4_imputed_iqr_standardized',\n",
       " 'C5_imputed_iqr_standardized',\n",
       " 'C6_imputed_iqr_standardized',\n",
       " 'C7_imputed_iqr_standardized',\n",
       " 'T1_imputed_iqr_standardized',\n",
       " 'T2_imputed_iqr_standardized',\n",
       " 'T3_imputed_iqr_standardized',\n",
       " 'T4_imputed_iqr_standardized',\n",
       " 'T5_imputed_iqr_standardized',\n",
       " 'S1_imputed_iqr_standardized',\n",
       " 'S2_imputed_iqr_standardized',\n",
       " 'S3_imputed_iqr_standardized']"
      ]
     },
     "execution_count": 316,
     "metadata": {},
     "output_type": "execute_result"
    }
   ],
   "source": [
    "[j for j in data_imputed_iqr if 'iqr_standardized' in j]"
   ]
  },
  {
   "cell_type": "code",
   "execution_count": 341,
   "metadata": {},
   "outputs": [
    {
     "name": "stdout",
     "output_type": "stream",
     "text": [
      "Shapiro Test says given function made the data Non-Normal with a p-value of 5.506385979839335e-29\n"
     ]
    },
    {
     "data": {
      "text/plain": [
       "False"
      ]
     },
     "execution_count": 341,
     "metadata": {},
     "output_type": "execute_result"
    }
   ],
   "source": [
    "normalize_data(data_imputed_iqr, 'P(IPO)_imputed_iqr_standardized', normalize_div)\n"
   ]
  },
  {
   "cell_type": "code",
   "execution_count": 344,
   "metadata": {},
   "outputs": [
    {
     "name": "stdout",
     "output_type": "stream",
     "text": [
      "Shapiro Test says given function made the data Non-Normal with a p-value of 0.0\n"
     ]
    },
    {
     "data": {
      "text/plain": [
       "False"
      ]
     },
     "execution_count": 344,
     "metadata": {},
     "output_type": "execute_result"
    }
   ],
   "source": [
    "normalize_data(data_imputed_iqr, 'P(IPO)_imputed_iqr_standardized', normalize_by_e)\n"
   ]
  },
  {
   "cell_type": "code",
   "execution_count": 345,
   "metadata": {},
   "outputs": [
    {
     "name": "stdout",
     "output_type": "stream",
     "text": [
      "Shapiro Test says given function made the data Non-Normal with a p-value of 5.506385979839335e-29\n"
     ]
    },
    {
     "data": {
      "text/plain": [
       "False"
      ]
     },
     "execution_count": 345,
     "metadata": {},
     "output_type": "execute_result"
    }
   ],
   "source": [
    "normalize_data(data_imputed_iqr, 'P(IPO)_imputed_iqr_standardized', normalize_div)\n"
   ]
  },
  {
   "cell_type": "code",
   "execution_count": null,
   "metadata": {},
   "outputs": [],
   "source": []
  },
  {
   "cell_type": "code",
   "execution_count": null,
   "metadata": {},
   "outputs": [],
   "source": []
  },
  {
   "cell_type": "code",
   "execution_count": null,
   "metadata": {},
   "outputs": [],
   "source": []
  },
  {
   "cell_type": "code",
   "execution_count": null,
   "metadata": {},
   "outputs": [],
   "source": []
  },
  {
   "cell_type": "markdown",
   "metadata": {},
   "source": [
    "# Step 5: Create values outlined in Data Dictionary\n",
    "- T1-T5 as ratios\n",
    "- S1-S3 as ratios\n",
    "- C3', C5', C6'\n",
    "- Y1, Y2\n",
    "- Any additional that seem reasonable\n",
    "\n",
    "Reference here: https://github.com/fairfield-university-ba545/project1-archana-s-team/blob/master/DataDictionary20190115.pdf"
   ]
  },
  {
   "cell_type": "code",
   "execution_count": 114,
   "metadata": {},
   "outputs": [],
   "source": [
    "# Example Ratio, divide the column with the number of words and columns with number of sentences to get words per sentence\n",
    "data_w_imputed['words_per_sentence'] = data_w_imputed.T2 / data_w_imputed.T1"
   ]
  },
  {
   "cell_type": "code",
   "execution_count": 115,
   "metadata": {},
   "outputs": [],
   "source": [
    "# Percentage of positive words by dividing count of positive words by total words\n",
    "data_w_imputed['pos_words_percent'] = data_w_imputed.S1 / data_w_imputed.T2"
   ]
  },
  {
   "cell_type": "markdown",
   "metadata": {},
   "source": [
    "# Step 6: Correlation of input variables\n",
    "- Line plot to display correlation\n",
    "- HeatMap to check correlation"
   ]
  },
  {
   "cell_type": "code",
   "execution_count": 108,
   "metadata": {},
   "outputs": [
    {
     "data": {
      "image/png": "[encoded data removed]",
      "text/plain": [
       "<Figure size 1080x1080 with 2 Axes>"
      ]
     },
     "metadata": {
      "needs_background": "light"
     },
     "output_type": "display_data"
    }
   ],
   "source": [
    "corr = data_w_imputed.corr()\n",
    "plt.figure(figsize=(15,15))\n",
    "ax = sns.heatmap(\n",
    "    corr, \n",
    "    vmin=-1, vmax=1, center=0,\n",
    "    cmap=sns.diverging_palette(20, 220, n=200),\n",
    "    square=True\n",
    ")\n",
    "ax.set_xticklabels(\n",
    "    ax.get_xticklabels(),\n",
    "    rotation=45,\n",
    "    horizontalalignment='right'\n",
    ");"
   ]
  },
  {
   "cell_type": "markdown",
   "metadata": {},
   "source": [
    "# Step 7A: Data Standardization (Continuous Values)\n",
    "- Z-Score\n",
    "- Min-Max Scaling\n",
    "- Standard Scaler\n",
    "- Binning\n",
    "\n",
    "- Save each type of scaling as seperate set\n"
   ]
  },
  {
   "cell_type": "code",
   "execution_count": 23,
   "metadata": {},
   "outputs": [],
   "source": [
    "def z_score(df, col):\n",
    "    df[col + '_zscore'] = df[col].apply(zscore)\n",
    "    \n",
    "def min_max_scale_col(df, cols):\n",
    "    scaler = preprocessing.min_max_scaling(df[cols])\n",
    "    return scaler.transform(df[cols])\n",
    "\n",
    "def min_max_scale_df(df):\n",
    "    scaler = preprocessing.min_max_scaling(df)\n",
    "    return scaler.transform(df)\n",
    "\n",
    "def standard_scale_col(df, cols):\n",
    "    scaler = preprocessing.min_max_scaling(df[cols])\n",
    "    return scaler.transform(df[cols])\n",
    "\n",
    "    \n",
    "def standard_scale_df(df):\n",
    "    scaler = preprocessing.StandardScaler.fit(df)\n",
    "    return scaler.transform(df)\n",
    "\n",
    "def bin_column(df,col, num_bins = 5):\n",
    "    df[col + '_bins'] = pd.qcut(df[col], num_bins)"
   ]
  },
  {
   "cell_type": "code",
   "execution_count": null,
   "metadata": {},
   "outputs": [],
   "source": []
  },
  {
   "cell_type": "markdown",
   "metadata": {},
   "source": [
    "# Step 7B: Data Standardization (Categorical)\n",
    "- Identify viable categories (create as few as possible)\n",
    "- One-hot-encode if needed"
   ]
  },
  {
   "cell_type": "code",
   "execution_count": 29,
   "metadata": {},
   "outputs": [],
   "source": [
    "def one_hot_encode(df, col):\n",
    "    return pd.get_dummies(df[col], prefix = col + '_')"
   ]
  },
  {
   "cell_type": "code",
   "execution_count": null,
   "metadata": {},
   "outputs": [],
   "source": []
  },
  {
   "cell_type": "markdown",
   "metadata": {},
   "source": [
    "# Step 8: Identify and remove redundunt information\n",
    "- Leverage correlation analysis\n",
    "- RFE (recursive feature elimination) to select valuable items\n",
    "- JointPlots against target"
   ]
  },
  {
   "cell_type": "code",
   "execution_count": 56,
   "metadata": {},
   "outputs": [],
   "source": [
    "def get_important_features_rfe(xTrain, yTrain, num_feats):\n",
    "    '''\n",
    "    Takes training values and returns the most important features in order\n",
    "    '''\n",
    "    clf = LogisticRegression()\n",
    "    selector = RFE(clf, num_feats, step=1)\n",
    "    selector.fit(xTrain, yTrain)\n",
    "    \n",
    "    return [x for _,x in sorted(zip(selector.ranking_, list(xTrain.columns)))]\n",
    "    \n",
    "    "
   ]
  },
  {
   "cell_type": "markdown",
   "metadata": {},
   "source": [
    "# Step 8B: Balance Sample Data\n",
    "- SMOTE\n",
    "- Split Data"
   ]
  },
  {
   "cell_type": "code",
   "execution_count": null,
   "metadata": {},
   "outputs": [],
   "source": []
  },
  {
   "cell_type": "markdown",
   "metadata": {},
   "source": [
    "# Step 9: Test against sample code\n",
    "- Test as-is to get baseline for AUC and F1 score\n",
    "- Test different scaled data\n",
    "- Test all data vs what we deem should be removed"
   ]
  },
  {
   "cell_type": "code",
   "execution_count": null,
   "metadata": {},
   "outputs": [],
   "source": []
  },
  {
   "cell_type": "markdown",
   "metadata": {},
   "source": [
    "# Step 10: Look at model specifics to seek room for improvement:\n",
    "- Coefficiants of remaining fields\n",
    "- Look at items with highest error rate and see if we can fit them to a class"
   ]
  },
  {
   "cell_type": "code",
   "execution_count": null,
   "metadata": {},
   "outputs": [],
   "source": []
  },
  {
   "cell_type": "markdown",
   "metadata": {},
   "source": [
    "# Step 11: Alternative Modeling techniques\n",
    "- Random Forest\n",
    "- Potentially XGBoost\n",
    "- See if either of this yields better results"
   ]
  },
  {
   "cell_type": "code",
   "execution_count": 112,
   "metadata": {},
   "outputs": [],
   "source": []
  },
  {
   "cell_type": "code",
   "execution_count": null,
   "metadata": {},
   "outputs": [],
   "source": []
  }
 ],
 "metadata": {
  "kernelspec": {
   "display_name": "Python 3",
   "language": "python",
   "name": "python3"
  },
  "language_info": {
   "codemirror_mode": {
    "name": "ipython",
    "version": 3
   },
   "file_extension": ".py",
   "mimetype": "text/x-python",
   "name": "python",
   "nbconvert_exporter": "python",
   "pygments_lexer": "ipython3",
   "version": "3.6.7"
  }
 },
 "nbformat": 4,
 "nbformat_minor": 4
}
